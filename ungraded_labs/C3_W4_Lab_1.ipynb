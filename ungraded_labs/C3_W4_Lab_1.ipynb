{
 "cells": [
  {
   "cell_type": "markdown",
   "metadata": {
    "id": "mSb8X3Dh8CI4"
   },
   "source": [
    "<a href=\"https://colab.research.google.com/github/https-deeplearning-ai/tensorflow-1-public/blob/master/C3/W4/ungraded_labs/C3_W4_Lab_1.ipynb\" target=\"_parent\"><img src=\"https://colab.research.google.com/assets/colab-badge.svg\" alt=\"Open In Colab\"/></a>"
   ]
  },
  {
   "cell_type": "markdown",
   "metadata": {
    "id": "4VKWPfcBiYZO"
   },
   "source": [
    "# Ungraded Lab: Generating Text with Neural Networks\n",
    "\n",
    "For this week, you will look at techniques to prepare data and build models for text generation. You will train a neural network with lyrics from an Irish song then let it make a new song for you. Though this might sound like a more complex application, you'll soon see that the process is very similar to the ones you've been using in the previous weeks. Only minor modifications are needed. Let's see what these are in the next sections."
   ]
  },
  {
   "cell_type": "markdown",
   "metadata": {
    "id": "SgasH2Bvzds6"
   },
   "source": [
    "## Imports\n",
    "\n",
    "First, you will import the required libraries. You've used all of these already in the previous labs."
   ]
  },
  {
   "cell_type": "code",
   "execution_count": 1,
   "metadata": {
    "executionInfo": {
     "elapsed": 3236,
     "status": "ok",
     "timestamp": 1664870451960,
     "user": {
      "displayName": "Nuttasit Phasukdee",
      "userId": "18189687788475661690"
     },
     "user_tz": -420
    },
    "id": "BOwsuGQQY9OL"
   },
   "outputs": [],
   "source": [
    "import tensorflow as tf\n",
    "import numpy as np \n",
    "from tensorflow.keras.layers import Embedding, LSTM, Dense, Bidirectional\n",
    "from tensorflow.keras.models import Sequential\n",
    "from tensorflow.keras.preprocessing.text import Tokenizer\n",
    "from tensorflow.keras.preprocessing.sequence import pad_sequences"
   ]
  },
  {
   "cell_type": "markdown",
   "metadata": {
    "id": "nqSrSYWD0CxU"
   },
   "source": [
    "## Building the Word Vocabulary\n",
    "\n",
    "The dataset is the lyrics of [*Lanigan's Ball*](https://en.wikipedia.org/wiki/Lanigan%27s_Ball), a traditional Irish song. You will split it per line then use the `Tokenizer` class to build the word index dictionary."
   ]
  },
  {
   "cell_type": "code",
   "execution_count": 2,
   "metadata": {
    "colab": {
     "base_uri": "https://localhost:8080/"
    },
    "executionInfo": {
     "elapsed": 14,
     "status": "ok",
     "timestamp": 1664870451961,
     "user": {
      "displayName": "Nuttasit Phasukdee",
      "userId": "18189687788475661690"
     },
     "user_tz": -420
    },
    "id": "doUCQnYfvsmA",
    "outputId": "6e22344c-c846-48e3-e98d-c56dade12672"
   },
   "outputs": [
    {
     "name": "stdout",
     "output_type": "stream",
     "text": [
      "['in the town of athy one jeremy lanigan ', ' battered away til he hadnt a pound. ', 'his father died and made him a man again ', ' left him a farm and ten acres of ground. ', 'he gave a grand party for friends and relations ', 'who didnt forget him when come to the wall, ', 'and if youll but listen ill make your eyes glisten ', 'of the rows and the ructions of lanigans ball. ', 'myself to be sure got free invitation, ', 'for all the nice girls and boys i might ask, ', 'and just in a minute both friends and relations ', 'were dancing round merry as bees round a cask. ', 'judy odaly, that nice little milliner, ', 'she tipped me a wink for to give her a call, ', 'and i soon arrived with peggy mcgilligan ', 'just in time for lanigans ball. ', 'there were lashings of punch and wine for the ladies, ', 'potatoes and cakes; there was bacon and tea, ', 'there were the nolans, dolans, ogradys ', 'courting the girls and dancing away. ', 'songs they went round as plenty as water, ', 'the harp that once sounded in taras old hall,', 'sweet nelly gray and the rat catchers daughter,', 'all singing together at lanigans ball. ', 'they were doing all kinds of nonsensical polkas ', 'all round the room in a whirligig. ', 'julia and i, we banished their nonsense ', 'and tipped them the twist of a reel and a jig. ', 'ach mavrone, how the girls got all mad at me ', 'danced til youd think the ceiling would fall. ', 'for i spent three weeks at brooks academy ', 'learning new steps for lanigans ball. ', 'three long weeks i spent up in dublin, ', 'three long weeks to learn nothing at all,', ' three long weeks i spent up in dublin, ', 'learning new steps for lanigans ball. ', 'she stepped out and i stepped in again, ', 'i stepped out and she stepped in again, ', 'she stepped out and i stepped in again, ', 'learning new steps for lanigans ball. ', 'boys were all merry and the girls they were hearty ', 'and danced all around in couples and groups, ', 'til an accident happened, young terrance mccarthy ', 'put his right leg through miss finnertys hoops. ', 'poor creature fainted and cried meelia murther, ', 'called for her brothers and gathered them all. ', 'carmody swore that hed go no further ', 'til he had satisfaction at lanigans ball. ', 'in the midst of the row miss kerrigan fainted, ', 'her cheeks at the same time as red as a rose. ', 'some of the lads declared she was painted, ', 'she took a small drop too much, i suppose. ', 'her sweetheart, ned morgan, so powerful and able, ', 'when he saw his fair colleen stretched out by the wall, ', 'tore the left leg from under the table ', 'and smashed all the chaneys at lanigans ball. ', 'boys, oh boys, twas then there were runctions. ', 'myself got a lick from big phelim mchugh. ', 'i soon replied to his introduction ', 'and kicked up a terrible hullabaloo. ', 'old casey, the piper, was near being strangled. ', 'they squeezed up his pipes, bellows, chanters and all. ', 'the girls, in their ribbons, they got all entangled ', 'and that put an end to lanigans ball.']\n"
     ]
    }
   ],
   "source": [
    "# Define the lyrics of the song\n",
    "data=\"In the town of Athy one Jeremy Lanigan \\n Battered away til he hadnt a pound. \\nHis father died and made him a man again \\n Left him a farm and ten acres of ground. \\nHe gave a grand party for friends and relations \\nWho didnt forget him when come to the wall, \\nAnd if youll but listen Ill make your eyes glisten \\nOf the rows and the ructions of Lanigans Ball. \\nMyself to be sure got free invitation, \\nFor all the nice girls and boys I might ask, \\nAnd just in a minute both friends and relations \\nWere dancing round merry as bees round a cask. \\nJudy ODaly, that nice little milliner, \\nShe tipped me a wink for to give her a call, \\nAnd I soon arrived with Peggy McGilligan \\nJust in time for Lanigans Ball. \\nThere were lashings of punch and wine for the ladies, \\nPotatoes and cakes; there was bacon and tea, \\nThere were the Nolans, Dolans, OGradys \\nCourting the girls and dancing away. \\nSongs they went round as plenty as water, \\nThe harp that once sounded in Taras old hall,\\nSweet Nelly Gray and The Rat Catchers Daughter,\\nAll singing together at Lanigans Ball. \\nThey were doing all kinds of nonsensical polkas \\nAll round the room in a whirligig. \\nJulia and I, we banished their nonsense \\nAnd tipped them the twist of a reel and a jig. \\nAch mavrone, how the girls got all mad at me \\nDanced til youd think the ceiling would fall. \\nFor I spent three weeks at Brooks Academy \\nLearning new steps for Lanigans Ball. \\nThree long weeks I spent up in Dublin, \\nThree long weeks to learn nothing at all,\\n Three long weeks I spent up in Dublin, \\nLearning new steps for Lanigans Ball. \\nShe stepped out and I stepped in again, \\nI stepped out and she stepped in again, \\nShe stepped out and I stepped in again, \\nLearning new steps for Lanigans Ball. \\nBoys were all merry and the girls they were hearty \\nAnd danced all around in couples and groups, \\nTil an accident happened, young Terrance McCarthy \\nPut his right leg through miss Finnertys hoops. \\nPoor creature fainted and cried Meelia murther, \\nCalled for her brothers and gathered them all. \\nCarmody swore that hed go no further \\nTil he had satisfaction at Lanigans Ball. \\nIn the midst of the row miss Kerrigan fainted, \\nHer cheeks at the same time as red as a rose. \\nSome of the lads declared she was painted, \\nShe took a small drop too much, I suppose. \\nHer sweetheart, Ned Morgan, so powerful and able, \\nWhen he saw his fair colleen stretched out by the wall, \\nTore the left leg from under the table \\nAnd smashed all the Chaneys at Lanigans Ball. \\nBoys, oh boys, twas then there were runctions. \\nMyself got a lick from big Phelim McHugh. \\nI soon replied to his introduction \\nAnd kicked up a terrible hullabaloo. \\nOld Casey, the piper, was near being strangled. \\nThey squeezed up his pipes, bellows, chanters and all. \\nThe girls, in their ribbons, they got all entangled \\nAnd that put an end to Lanigans Ball.\"\n",
    "\n",
    "# Split the long string per line and put in a list\n",
    "corpus = data.lower().split(\"\\n\")\n",
    "\n",
    "# Preview the result\n",
    "print(corpus)"
   ]
  },
  {
   "cell_type": "code",
   "execution_count": 3,
   "metadata": {
    "colab": {
     "base_uri": "https://localhost:8080/"
    },
    "executionInfo": {
     "elapsed": 10,
     "status": "ok",
     "timestamp": 1664870451961,
     "user": {
      "displayName": "Nuttasit Phasukdee",
      "userId": "18189687788475661690"
     },
     "user_tz": -420
    },
    "id": "PRnDnCW-Z7qv",
    "outputId": "d4821923-a9c7-4028-a426-e9b895964eab"
   },
   "outputs": [
    {
     "name": "stdout",
     "output_type": "stream",
     "text": [
      "word index dictionary: {'and': 1, 'the': 2, 'a': 3, 'in': 4, 'all': 5, 'i': 6, 'for': 7, 'of': 8, 'lanigans': 9, 'ball': 10, 'were': 11, 'at': 12, 'to': 13, 'she': 14, 'stepped': 15, 'his': 16, 'girls': 17, 'as': 18, 'they': 19, 'til': 20, 'he': 21, 'again': 22, 'got': 23, 'boys': 24, 'round': 25, 'that': 26, 'her': 27, 'there': 28, 'three': 29, 'weeks': 30, 'up': 31, 'out': 32, 'him': 33, 'was': 34, 'spent': 35, 'learning': 36, 'new': 37, 'steps': 38, 'long': 39, 'away': 40, 'left': 41, 'friends': 42, 'relations': 43, 'when': 44, 'wall': 45, 'myself': 46, 'nice': 47, 'just': 48, 'dancing': 49, 'merry': 50, 'tipped': 51, 'me': 52, 'soon': 53, 'time': 54, 'old': 55, 'their': 56, 'them': 57, 'danced': 58, 'dublin': 59, 'an': 60, 'put': 61, 'leg': 62, 'miss': 63, 'fainted': 64, 'from': 65, 'town': 66, 'athy': 67, 'one': 68, 'jeremy': 69, 'lanigan': 70, 'battered': 71, 'hadnt': 72, 'pound': 73, 'father': 74, 'died': 75, 'made': 76, 'man': 77, 'farm': 78, 'ten': 79, 'acres': 80, 'ground': 81, 'gave': 82, 'grand': 83, 'party': 84, 'who': 85, 'didnt': 86, 'forget': 87, 'come': 88, 'if': 89, 'youll': 90, 'but': 91, 'listen': 92, 'ill': 93, 'make': 94, 'your': 95, 'eyes': 96, 'glisten': 97, 'rows': 98, 'ructions': 99, 'be': 100, 'sure': 101, 'free': 102, 'invitation': 103, 'might': 104, 'ask': 105, 'minute': 106, 'both': 107, 'bees': 108, 'cask': 109, 'judy': 110, 'odaly': 111, 'little': 112, 'milliner': 113, 'wink': 114, 'give': 115, 'call': 116, 'arrived': 117, 'with': 118, 'peggy': 119, 'mcgilligan': 120, 'lashings': 121, 'punch': 122, 'wine': 123, 'ladies': 124, 'potatoes': 125, 'cakes': 126, 'bacon': 127, 'tea': 128, 'nolans': 129, 'dolans': 130, 'ogradys': 131, 'courting': 132, 'songs': 133, 'went': 134, 'plenty': 135, 'water': 136, 'harp': 137, 'once': 138, 'sounded': 139, 'taras': 140, 'hall': 141, 'sweet': 142, 'nelly': 143, 'gray': 144, 'rat': 145, 'catchers': 146, 'daughter': 147, 'singing': 148, 'together': 149, 'doing': 150, 'kinds': 151, 'nonsensical': 152, 'polkas': 153, 'room': 154, 'whirligig': 155, 'julia': 156, 'we': 157, 'banished': 158, 'nonsense': 159, 'twist': 160, 'reel': 161, 'jig': 162, 'ach': 163, 'mavrone': 164, 'how': 165, 'mad': 166, 'youd': 167, 'think': 168, 'ceiling': 169, 'would': 170, 'fall': 171, 'brooks': 172, 'academy': 173, 'learn': 174, 'nothing': 175, 'hearty': 176, 'around': 177, 'couples': 178, 'groups': 179, 'accident': 180, 'happened': 181, 'young': 182, 'terrance': 183, 'mccarthy': 184, 'right': 185, 'through': 186, 'finnertys': 187, 'hoops': 188, 'poor': 189, 'creature': 190, 'cried': 191, 'meelia': 192, 'murther': 193, 'called': 194, 'brothers': 195, 'gathered': 196, 'carmody': 197, 'swore': 198, 'hed': 199, 'go': 200, 'no': 201, 'further': 202, 'had': 203, 'satisfaction': 204, 'midst': 205, 'row': 206, 'kerrigan': 207, 'cheeks': 208, 'same': 209, 'red': 210, 'rose': 211, 'some': 212, 'lads': 213, 'declared': 214, 'painted': 215, 'took': 216, 'small': 217, 'drop': 218, 'too': 219, 'much': 220, 'suppose': 221, 'sweetheart': 222, 'ned': 223, 'morgan': 224, 'so': 225, 'powerful': 226, 'able': 227, 'saw': 228, 'fair': 229, 'colleen': 230, 'stretched': 231, 'by': 232, 'tore': 233, 'under': 234, 'table': 235, 'smashed': 236, 'chaneys': 237, 'oh': 238, 'twas': 239, 'then': 240, 'runctions': 241, 'lick': 242, 'big': 243, 'phelim': 244, 'mchugh': 245, 'replied': 246, 'introduction': 247, 'kicked': 248, 'terrible': 249, 'hullabaloo': 250, 'casey': 251, 'piper': 252, 'near': 253, 'being': 254, 'strangled': 255, 'squeezed': 256, 'pipes': 257, 'bellows': 258, 'chanters': 259, 'ribbons': 260, 'entangled': 261, 'end': 262}\n",
      "total words: 263\n"
     ]
    }
   ],
   "source": [
    "# Initialize the Tokenizer class\n",
    "tokenizer = Tokenizer()\n",
    "\n",
    "# Generate the word index dictionary\n",
    "tokenizer.fit_on_texts(corpus)\n",
    "\n",
    "# Define the total words. You add 1 for the index `0` which is just the padding token (OOV token).\n",
    "total_words = len(tokenizer.word_index) + 1\n",
    "\n",
    "print(f'word index dictionary: {tokenizer.word_index}')\n",
    "print(f'total words: {total_words}')"
   ]
  },
  {
   "cell_type": "markdown",
   "metadata": {
    "id": "mBE10Hx_0PA_"
   },
   "source": [
    "## Preprocessing the Dataset\n",
    "\n",
    "Next, you will be generating the training sequences and their labels. As discussed in the lectures, you will take each line of the song and generate inputs and labels from it. For example, if you only have one sentence: \"I am using Tensorflow\", you want the model to learn the next word given any subphrase of this sentence:\n",
    "\n",
    "```\n",
    "INPUT              LABEL\n",
    "-----------------------------\n",
    "I             ---> am\n",
    "I am          ---> using\n",
    "I am using    ---> Tensorflow\n",
    "```\n",
    "\n",
    "The next cell shows how to implement this concept in code. The result would be inputs as padded sequences, and labels as one-hot encoded arrays."
   ]
  },
  {
   "cell_type": "code",
   "execution_count": 16,
   "metadata": {
    "colab": {
     "base_uri": "https://localhost:8080/"
    },
    "executionInfo": {
     "elapsed": 10,
     "status": "ok",
     "timestamp": 1664870743264,
     "user": {
      "displayName": "Nuttasit Phasukdee",
      "userId": "18189687788475661690"
     },
     "user_tz": -420
    },
    "id": "k77NHyGmBzKO",
    "outputId": "7eaddd3e-c612-4eab-8e09-408659bb0028"
   },
   "outputs": [
    {
     "data": {
      "text/plain": [
       "64"
      ]
     },
     "execution_count": 16,
     "metadata": {},
     "output_type": "execute_result"
    }
   ],
   "source": [
    "len(corpus)"
   ]
  },
  {
   "cell_type": "code",
   "execution_count": 7,
   "metadata": {
    "colab": {
     "base_uri": "https://localhost:8080/",
     "height": 35
    },
    "executionInfo": {
     "elapsed": 13,
     "status": "ok",
     "timestamp": 1664870580821,
     "user": {
      "displayName": "Nuttasit Phasukdee",
      "userId": "18189687788475661690"
     },
     "user_tz": -420
    },
    "id": "fEi8jndBBPuF",
    "outputId": "6dbedf19-2c3c-465d-e517-1aebb8f53a4c"
   },
   "outputs": [
    {
     "data": {
      "application/vnd.google.colaboratory.intrinsic+json": {
       "type": "string"
      },
      "text/plain": [
       "'in the town of athy one jeremy lanigan '"
      ]
     },
     "execution_count": 7,
     "metadata": {},
     "output_type": "execute_result"
    }
   ],
   "source": [
    "corpus[0]"
   ]
  },
  {
   "cell_type": "code",
   "execution_count": 12,
   "metadata": {
    "colab": {
     "base_uri": "https://localhost:8080/"
    },
    "executionInfo": {
     "elapsed": 8,
     "status": "ok",
     "timestamp": 1664870635987,
     "user": {
      "displayName": "Nuttasit Phasukdee",
      "userId": "18189687788475661690"
     },
     "user_tz": -420
    },
    "id": "LHpAqu0cBdCU",
    "outputId": "98ad5116-d0f3-49c6-9172-09c369470f42"
   },
   "outputs": [
    {
     "data": {
      "text/plain": [
       "[[6],\n",
       " [],\n",
       " [],\n",
       " [],\n",
       " [],\n",
       " [],\n",
       " [],\n",
       " [],\n",
       " [],\n",
       " [],\n",
       " [],\n",
       " [],\n",
       " [],\n",
       " [],\n",
       " [],\n",
       " [3],\n",
       " [],\n",
       " [],\n",
       " [],\n",
       " [],\n",
       " [],\n",
       " [],\n",
       " [],\n",
       " [],\n",
       " [],\n",
       " [],\n",
       " [],\n",
       " [],\n",
       " [],\n",
       " [],\n",
       " [],\n",
       " [],\n",
       " [3],\n",
       " [],\n",
       " [6],\n",
       " [],\n",
       " [3],\n",
       " [],\n",
       " []]"
      ]
     },
     "execution_count": 12,
     "metadata": {},
     "output_type": "execute_result"
    }
   ],
   "source": [
    "tokenizer.texts_to_sequences(corpus[0])"
   ]
  },
  {
   "cell_type": "code",
   "execution_count": 11,
   "metadata": {
    "colab": {
     "base_uri": "https://localhost:8080/"
    },
    "executionInfo": {
     "elapsed": 6,
     "status": "ok",
     "timestamp": 1664870622820,
     "user": {
      "displayName": "Nuttasit Phasukdee",
      "userId": "18189687788475661690"
     },
     "user_tz": -420
    },
    "id": "0uElUlHiBYWh",
    "outputId": "c0c44ca8-0a2b-4f62-ef5f-e4df1f176c00"
   },
   "outputs": [
    {
     "data": {
      "text/plain": [
       "['in the town of athy one jeremy lanigan ']"
      ]
     },
     "execution_count": 11,
     "metadata": {},
     "output_type": "execute_result"
    }
   ],
   "source": [
    "[corpus[0]]"
   ]
  },
  {
   "cell_type": "code",
   "execution_count": 8,
   "metadata": {
    "colab": {
     "base_uri": "https://localhost:8080/"
    },
    "executionInfo": {
     "elapsed": 349,
     "status": "ok",
     "timestamp": 1664870587007,
     "user": {
      "displayName": "Nuttasit Phasukdee",
      "userId": "18189687788475661690"
     },
     "user_tz": -420
    },
    "id": "fcYe6v8pBAlc",
    "outputId": "fdce9a7f-2b77-40b5-db1e-17dc7e9e3e9e"
   },
   "outputs": [
    {
     "data": {
      "text/plain": [
       "[[4, 2, 66, 8, 67, 68, 69, 70]]"
      ]
     },
     "execution_count": 8,
     "metadata": {},
     "output_type": "execute_result"
    }
   ],
   "source": [
    "tokenizer.texts_to_sequences([corpus[0]])"
   ]
  },
  {
   "cell_type": "code",
   "execution_count": 17,
   "metadata": {
    "executionInfo": {
     "elapsed": 326,
     "status": "ok",
     "timestamp": 1664870828236,
     "user": {
      "displayName": "Nuttasit Phasukdee",
      "userId": "18189687788475661690"
     },
     "user_tz": -420
    },
    "id": "soPGVheskaQP"
   },
   "outputs": [],
   "source": [
    "# Initialize the sequences list\n",
    "input_sequences = []\n",
    "\n",
    "# Loop over every line\n",
    "for line in corpus:\n",
    "\n",
    "\t# Tokenize the current line\n",
    "\t# texts_to_sequences give 2d encoded sequnece\n",
    "\ttoken_list = tokenizer.texts_to_sequences([line])[0]\n",
    "\n",
    "\t# Loop over the line several times to generate the subphrases\n",
    "\tfor i in range(1, len(token_list)):\n",
    "\t\t\n",
    "\t\t# Generate the subphrase\n",
    "\t\tn_gram_sequence = token_list[:i+1]\n",
    "\n",
    "\t\t# Append the subphrase to the sequences list\n",
    "\t\tinput_sequences.append(n_gram_sequence)\n",
    "\n",
    "# Get the length of the longest line\n",
    "max_sequence_len = max([len(x) for x in input_sequences])\n",
    "\n",
    "# Pad all sequences\n",
    "# padding='pre' is used because it makes easier to separate sentences \n",
    "# into sub-sentences and labels (next words)\n",
    "input_sequences = np.array(pad_sequences(input_sequences, maxlen=max_sequence_len, padding='pre'))\n",
    "\n",
    "# Create inputs and label by splitting the last token in the subphrases\n",
    "xs, labels = input_sequences[:,:-1],input_sequences[:,-1]\n",
    "\n",
    "# Convert the label into one-hot arrays\n",
    "ys = tf.keras.utils.to_categorical(labels, num_classes=total_words)"
   ]
  },
  {
   "cell_type": "code",
   "execution_count": 22,
   "metadata": {
    "colab": {
     "base_uri": "https://localhost:8080/"
    },
    "executionInfo": {
     "elapsed": 336,
     "status": "ok",
     "timestamp": 1664871028260,
     "user": {
      "displayName": "Nuttasit Phasukdee",
      "userId": "18189687788475661690"
     },
     "user_tz": -420
    },
    "id": "5zMIyGLeC89Q",
    "outputId": "0a342330-2725-47cb-dce0-ce7999da5ac4"
   },
   "outputs": [
    {
     "data": {
      "text/plain": [
       "11"
      ]
     },
     "execution_count": 22,
     "metadata": {},
     "output_type": "execute_result"
    }
   ],
   "source": [
    "max_sequence_len"
   ]
  },
  {
   "cell_type": "markdown",
   "metadata": {
    "id": "ipaZBkMa9C2Y"
   },
   "source": [
    "Let's see the result for the first line of the song. The particular line and the expected token sequence is shown in the cell below:"
   ]
  },
  {
   "cell_type": "code",
   "execution_count": 18,
   "metadata": {
    "colab": {
     "base_uri": "https://localhost:8080/"
    },
    "executionInfo": {
     "elapsed": 554,
     "status": "ok",
     "timestamp": 1664870832677,
     "user": {
      "displayName": "Nuttasit Phasukdee",
      "userId": "18189687788475661690"
     },
     "user_tz": -420
    },
    "id": "pJtwVB2NbOAP",
    "outputId": "105d75cb-c5be-4b79-b695-1ac026fda901"
   },
   "outputs": [
    {
     "name": "stdout",
     "output_type": "stream",
     "text": [
      "sample sentence: ['in', 'the', 'town', 'of', 'athy', 'one', 'jeremy', 'lanigan']\n",
      "[4, 2, 66, 8, 67, 68, 69, 70]\n"
     ]
    }
   ],
   "source": [
    "# Get sample sentence\n",
    "sentence = corpus[0].split()\n",
    "print(f'sample sentence: {sentence}')\n",
    "\n",
    "# Initialize token list\n",
    "token_list = []\n",
    "\n",
    "# Look up the indices of each word and append to the list\n",
    "for word in sentence: \n",
    "    token_list.append(tokenizer.word_index[word])\n",
    "\n",
    "# Print the token list\n",
    "print(token_list)"
   ]
  },
  {
   "cell_type": "markdown",
   "metadata": {
    "id": "qJHHJAt99Y6P"
   },
   "source": [
    "Since there are 8 tokens here, you can expect to find this particular line in the first 7 elements of the `xs` that you generated earlier. If we get the longest subphrase generated, that should be found in `xs[6]`. See the padded token sequence below:"
   ]
  },
  {
   "cell_type": "code",
   "execution_count": 21,
   "metadata": {
    "colab": {
     "base_uri": "https://localhost:8080/"
    },
    "executionInfo": {
     "elapsed": 2,
     "status": "ok",
     "timestamp": 1664870983215,
     "user": {
      "displayName": "Nuttasit Phasukdee",
      "userId": "18189687788475661690"
     },
     "user_tz": -420
    },
    "id": "5O03iYSeCxUv",
    "outputId": "4769fbd3-3c81-44a4-cdd5-d6895038d817"
   },
   "outputs": [
    {
     "name": "stdout",
     "output_type": "stream",
     "text": [
      "token list: [ 0  0  0  0  0  4  2 66  8 67]\n",
      "decoded to text: ['in the town of athy']\n"
     ]
    }
   ],
   "source": [
    "# Pick element\n",
    "elem_number = 4\n",
    "\n",
    "# Print token list and phrase\n",
    "print(f'token list: {xs[elem_number]}')\n",
    "print(f'decoded to text: {tokenizer.sequences_to_texts([xs[elem_number]])}')\n"
   ]
  },
  {
   "cell_type": "code",
   "execution_count": 19,
   "metadata": {
    "colab": {
     "base_uri": "https://localhost:8080/"
    },
    "executionInfo": {
     "elapsed": 352,
     "status": "ok",
     "timestamp": 1664870877386,
     "user": {
      "displayName": "Nuttasit Phasukdee",
      "userId": "18189687788475661690"
     },
     "user_tz": -420
    },
    "id": "49Cv68JOakwv",
    "outputId": "44fe8443-cec5-4acb-841f-47f9250af532"
   },
   "outputs": [
    {
     "name": "stdout",
     "output_type": "stream",
     "text": [
      "token list: [ 0  0  0  4  2 66  8 67 68 69]\n",
      "decoded to text: ['in the town of athy one jeremy']\n"
     ]
    }
   ],
   "source": [
    "# Pick element\n",
    "elem_number = 6\n",
    "\n",
    "# Print token list and phrase\n",
    "print(f'token list: {xs[elem_number]}')\n",
    "print(f'decoded to text: {tokenizer.sequences_to_texts([xs[elem_number]])}')\n"
   ]
  },
  {
   "cell_type": "markdown",
   "metadata": {
    "id": "1_Ih_j6L_xFD"
   },
   "source": [
    "If you print out the label, it should show `70` because that is the next word in the phrase (i.e. `lanigan`). See the one-hot encoded form below. You can use the [`np.argmax()`](https://numpy.org/doc/stable/reference/generated/numpy.argmax.html) method to get the index of the 'hot' label."
   ]
  },
  {
   "cell_type": "code",
   "execution_count": 20,
   "metadata": {
    "colab": {
     "base_uri": "https://localhost:8080/"
    },
    "executionInfo": {
     "elapsed": 341,
     "status": "ok",
     "timestamp": 1664870955711,
     "user": {
      "displayName": "Nuttasit Phasukdee",
      "userId": "18189687788475661690"
     },
     "user_tz": -420
    },
    "id": "iY-jwvfgbEF8",
    "outputId": "5772a4fd-3aee-40e7-fd4a-3429d7051b72"
   },
   "outputs": [
    {
     "name": "stdout",
     "output_type": "stream",
     "text": [
      "one-hot label: [0. 0. 0. 0. 0. 0. 0. 0. 0. 0. 0. 0. 0. 0. 0. 0. 0. 0. 0. 0. 0. 0. 0. 0.\n",
      " 0. 0. 0. 0. 0. 0. 0. 0. 0. 0. 0. 0. 0. 0. 0. 0. 0. 0. 0. 0. 0. 0. 0. 0.\n",
      " 0. 0. 0. 0. 0. 0. 0. 0. 0. 0. 0. 0. 0. 0. 0. 0. 0. 0. 0. 0. 0. 0. 1. 0.\n",
      " 0. 0. 0. 0. 0. 0. 0. 0. 0. 0. 0. 0. 0. 0. 0. 0. 0. 0. 0. 0. 0. 0. 0. 0.\n",
      " 0. 0. 0. 0. 0. 0. 0. 0. 0. 0. 0. 0. 0. 0. 0. 0. 0. 0. 0. 0. 0. 0. 0. 0.\n",
      " 0. 0. 0. 0. 0. 0. 0. 0. 0. 0. 0. 0. 0. 0. 0. 0. 0. 0. 0. 0. 0. 0. 0. 0.\n",
      " 0. 0. 0. 0. 0. 0. 0. 0. 0. 0. 0. 0. 0. 0. 0. 0. 0. 0. 0. 0. 0. 0. 0. 0.\n",
      " 0. 0. 0. 0. 0. 0. 0. 0. 0. 0. 0. 0. 0. 0. 0. 0. 0. 0. 0. 0. 0. 0. 0. 0.\n",
      " 0. 0. 0. 0. 0. 0. 0. 0. 0. 0. 0. 0. 0. 0. 0. 0. 0. 0. 0. 0. 0. 0. 0. 0.\n",
      " 0. 0. 0. 0. 0. 0. 0. 0. 0. 0. 0. 0. 0. 0. 0. 0. 0. 0. 0. 0. 0. 0. 0. 0.\n",
      " 0. 0. 0. 0. 0. 0. 0. 0. 0. 0. 0. 0. 0. 0. 0. 0. 0. 0. 0. 0. 0. 0. 0.]\n",
      "index of label: 70\n"
     ]
    }
   ],
   "source": [
    "# Print label\n",
    "print(f'one-hot label: {ys[elem_number]}')\n",
    "print(f'index of label: {np.argmax(ys[elem_number])}')"
   ]
  },
  {
   "cell_type": "markdown",
   "metadata": {
    "id": "qOMge9xdAmjg"
   },
   "source": [
    "If you pick the element before that, you will see the same subphrase as above minus one word:"
   ]
  },
  {
   "cell_type": "code",
   "execution_count": 23,
   "metadata": {
    "colab": {
     "base_uri": "https://localhost:8080/"
    },
    "executionInfo": {
     "elapsed": 388,
     "status": "ok",
     "timestamp": 1664871076751,
     "user": {
      "displayName": "Nuttasit Phasukdee",
      "userId": "18189687788475661690"
     },
     "user_tz": -420
    },
    "id": "wtzlUMYadhKt",
    "outputId": "5eb126c0-4862-4049-b6e0-6f48ade16283"
   },
   "outputs": [
    {
     "name": "stdout",
     "output_type": "stream",
     "text": [
      "token list: [ 0  0  0  0  4  2 66  8 67 68]\n",
      "decoded to text: ['in the town of athy one']\n",
      "one-hot label: [0. 0. 0. 0. 0. 0. 0. 0. 0. 0. 0. 0. 0. 0. 0. 0. 0. 0. 0. 0. 0. 0. 0. 0.\n",
      " 0. 0. 0. 0. 0. 0. 0. 0. 0. 0. 0. 0. 0. 0. 0. 0. 0. 0. 0. 0. 0. 0. 0. 0.\n",
      " 0. 0. 0. 0. 0. 0. 0. 0. 0. 0. 0. 0. 0. 0. 0. 0. 0. 0. 0. 0. 0. 1. 0. 0.\n",
      " 0. 0. 0. 0. 0. 0. 0. 0. 0. 0. 0. 0. 0. 0. 0. 0. 0. 0. 0. 0. 0. 0. 0. 0.\n",
      " 0. 0. 0. 0. 0. 0. 0. 0. 0. 0. 0. 0. 0. 0. 0. 0. 0. 0. 0. 0. 0. 0. 0. 0.\n",
      " 0. 0. 0. 0. 0. 0. 0. 0. 0. 0. 0. 0. 0. 0. 0. 0. 0. 0. 0. 0. 0. 0. 0. 0.\n",
      " 0. 0. 0. 0. 0. 0. 0. 0. 0. 0. 0. 0. 0. 0. 0. 0. 0. 0. 0. 0. 0. 0. 0. 0.\n",
      " 0. 0. 0. 0. 0. 0. 0. 0. 0. 0. 0. 0. 0. 0. 0. 0. 0. 0. 0. 0. 0. 0. 0. 0.\n",
      " 0. 0. 0. 0. 0. 0. 0. 0. 0. 0. 0. 0. 0. 0. 0. 0. 0. 0. 0. 0. 0. 0. 0. 0.\n",
      " 0. 0. 0. 0. 0. 0. 0. 0. 0. 0. 0. 0. 0. 0. 0. 0. 0. 0. 0. 0. 0. 0. 0. 0.\n",
      " 0. 0. 0. 0. 0. 0. 0. 0. 0. 0. 0. 0. 0. 0. 0. 0. 0. 0. 0. 0. 0. 0. 0.]\n",
      "index of label: 69\n"
     ]
    }
   ],
   "source": [
    "# Pick element\n",
    "elem_number = 5\n",
    "\n",
    "# Print token list and phrase\n",
    "print(f'token list: {xs[elem_number]}')\n",
    "print(f'decoded to text: {tokenizer.sequences_to_texts([xs[elem_number]])}')\n",
    "\n",
    "# Print label\n",
    "print(f'one-hot label: {ys[elem_number]}')\n",
    "print(f'index of label: {np.argmax(ys[elem_number])}')"
   ]
  },
  {
   "cell_type": "markdown",
   "metadata": {
    "id": "c6w_I9OUA2D3"
   },
   "source": [
    "## Build the Model\n",
    "\n",
    "Next, you will build the model with basically the same layers as before. The main difference is you will remove the sigmoid output and use a softmax activated `Dense` layer instead. This output layer will have one neuron for each word in the vocabulary. So given an input token list, the output array of the final layer will have the probabilities for each word."
   ]
  },
  {
   "cell_type": "code",
   "execution_count": 24,
   "metadata": {
    "colab": {
     "base_uri": "https://localhost:8080/"
    },
    "executionInfo": {
     "elapsed": 1689,
     "status": "ok",
     "timestamp": 1664871325163,
     "user": {
      "displayName": "Nuttasit Phasukdee",
      "userId": "18189687788475661690"
     },
     "user_tz": -420
    },
    "id": "w9vH8Y59ajYL",
    "outputId": "a8e800c2-5bac-48ce-ad32-c69b4f8c8fc7"
   },
   "outputs": [
    {
     "name": "stdout",
     "output_type": "stream",
     "text": [
      "Model: \"sequential\"\n",
      "_________________________________________________________________\n",
      " Layer (type)                Output Shape              Param #   \n",
      "=================================================================\n",
      " embedding (Embedding)       (None, 10, 64)            16832     \n",
      "                                                                 \n",
      " bidirectional (Bidirectiona  (None, 40)               13600     \n",
      " l)                                                              \n",
      "                                                                 \n",
      " dense (Dense)               (None, 263)               10783     \n",
      "                                                                 \n",
      "=================================================================\n",
      "Total params: 41,215\n",
      "Trainable params: 41,215\n",
      "Non-trainable params: 0\n",
      "_________________________________________________________________\n"
     ]
    }
   ],
   "source": [
    "# Build the model\n",
    "model = Sequential([\n",
    "    # max_sequence_len-1 because the separation of seqeunces \n",
    "    # into sub-seqeunces and labels (next words)\n",
    "    Embedding(total_words, 64, input_length=max_sequence_len-1),\n",
    "    Bidirectional(LSTM(20)),\n",
    "    # All words in corpus\n",
    "    Dense(total_words, activation='softmax')\n",
    "])\n",
    "\n",
    "# Use categorical crossentropy because this is a multi-class problem\n",
    "model.compile(loss='categorical_crossentropy', optimizer='adam', metrics=['accuracy'])\n",
    "\n",
    "# Print the model summary\n",
    "model.summary()"
   ]
  },
  {
   "cell_type": "markdown",
   "metadata": {
    "id": "0Xnb6i2WC_sy"
   },
   "source": [
    "## Train the model\n",
    "\n",
    "You can now train the model. We have a relatively small vocabulary so it will only take a couple of minutes to complete 500 epochs."
   ]
  },
  {
   "cell_type": "code",
   "execution_count": 25,
   "metadata": {
    "colab": {
     "base_uri": "https://localhost:8080/"
    },
    "executionInfo": {
     "elapsed": 55273,
     "status": "ok",
     "timestamp": 1664871383282,
     "user": {
      "displayName": "Nuttasit Phasukdee",
      "userId": "18189687788475661690"
     },
     "user_tz": -420
    },
    "id": "mF2k2nD9vgsD",
    "outputId": "fe454f57-18f9-4536-ba63-ad3fe716c163"
   },
   "outputs": [
    {
     "name": "stdout",
     "output_type": "stream",
     "text": [
      "Epoch 1/500\n",
      "15/15 [==============================] - 3s 6ms/step - loss: 5.5681 - accuracy: 0.0110\n",
      "Epoch 2/500\n",
      "15/15 [==============================] - 0s 5ms/step - loss: 5.5444 - accuracy: 0.0265\n",
      "Epoch 3/500\n",
      "15/15 [==============================] - 0s 5ms/step - loss: 5.4950 - accuracy: 0.0243\n",
      "Epoch 4/500\n",
      "15/15 [==============================] - 0s 5ms/step - loss: 5.3495 - accuracy: 0.0265\n",
      "Epoch 5/500\n",
      "15/15 [==============================] - 0s 6ms/step - loss: 5.1570 - accuracy: 0.0508\n",
      "Epoch 6/500\n",
      "15/15 [==============================] - 0s 6ms/step - loss: 5.0754 - accuracy: 0.0508\n",
      "Epoch 7/500\n",
      "15/15 [==============================] - 0s 6ms/step - loss: 5.0293 - accuracy: 0.0508\n",
      "Epoch 8/500\n",
      "15/15 [==============================] - 0s 6ms/step - loss: 4.9939 - accuracy: 0.0508\n",
      "Epoch 9/500\n",
      "15/15 [==============================] - 0s 5ms/step - loss: 4.9680 - accuracy: 0.0574\n",
      "Epoch 10/500\n",
      "15/15 [==============================] - 0s 6ms/step - loss: 4.9336 - accuracy: 0.0552\n",
      "Epoch 11/500\n",
      "15/15 [==============================] - 0s 6ms/step - loss: 4.9042 - accuracy: 0.0618\n",
      "Epoch 12/500\n",
      "15/15 [==============================] - 0s 5ms/step - loss: 4.8651 - accuracy: 0.0640\n",
      "Epoch 13/500\n",
      "15/15 [==============================] - 0s 5ms/step - loss: 4.8253 - accuracy: 0.0684\n",
      "Epoch 14/500\n",
      "15/15 [==============================] - 0s 6ms/step - loss: 4.7759 - accuracy: 0.0662\n",
      "Epoch 15/500\n",
      "15/15 [==============================] - 0s 6ms/step - loss: 4.7247 - accuracy: 0.0728\n",
      "Epoch 16/500\n",
      "15/15 [==============================] - 0s 7ms/step - loss: 4.6691 - accuracy: 0.0706\n",
      "Epoch 17/500\n",
      "15/15 [==============================] - 0s 6ms/step - loss: 4.6117 - accuracy: 0.0927\n",
      "Epoch 18/500\n",
      "15/15 [==============================] - 0s 5ms/step - loss: 4.5519 - accuracy: 0.0927\n",
      "Epoch 19/500\n",
      "15/15 [==============================] - 0s 5ms/step - loss: 4.4974 - accuracy: 0.1015\n",
      "Epoch 20/500\n",
      "15/15 [==============================] - 0s 6ms/step - loss: 4.4480 - accuracy: 0.0993\n",
      "Epoch 21/500\n",
      "15/15 [==============================] - 0s 6ms/step - loss: 4.3828 - accuracy: 0.1104\n",
      "Epoch 22/500\n",
      "15/15 [==============================] - 0s 6ms/step - loss: 4.3345 - accuracy: 0.1015\n",
      "Epoch 23/500\n",
      "15/15 [==============================] - 0s 6ms/step - loss: 4.2828 - accuracy: 0.1038\n",
      "Epoch 24/500\n",
      "15/15 [==============================] - 0s 6ms/step - loss: 4.2204 - accuracy: 0.1236\n",
      "Epoch 25/500\n",
      "15/15 [==============================] - 0s 5ms/step - loss: 4.1860 - accuracy: 0.1214\n",
      "Epoch 26/500\n",
      "15/15 [==============================] - 0s 6ms/step - loss: 4.1296 - accuracy: 0.1325\n",
      "Epoch 27/500\n",
      "15/15 [==============================] - 0s 6ms/step - loss: 4.0756 - accuracy: 0.1479\n",
      "Epoch 28/500\n",
      "15/15 [==============================] - 0s 5ms/step - loss: 4.0199 - accuracy: 0.1634\n",
      "Epoch 29/500\n",
      "15/15 [==============================] - 0s 5ms/step - loss: 3.9701 - accuracy: 0.1634\n",
      "Epoch 30/500\n",
      "15/15 [==============================] - 0s 6ms/step - loss: 3.9324 - accuracy: 0.1611\n",
      "Epoch 31/500\n",
      "15/15 [==============================] - 0s 5ms/step - loss: 3.8770 - accuracy: 0.1656\n",
      "Epoch 32/500\n",
      "15/15 [==============================] - 0s 5ms/step - loss: 3.8282 - accuracy: 0.1987\n",
      "Epoch 33/500\n",
      "15/15 [==============================] - 0s 7ms/step - loss: 3.7854 - accuracy: 0.2119\n",
      "Epoch 34/500\n",
      "15/15 [==============================] - 0s 6ms/step - loss: 3.7419 - accuracy: 0.2185\n",
      "Epoch 35/500\n",
      "15/15 [==============================] - 0s 5ms/step - loss: 3.6839 - accuracy: 0.2163\n",
      "Epoch 36/500\n",
      "15/15 [==============================] - 0s 6ms/step - loss: 3.6575 - accuracy: 0.2340\n",
      "Epoch 37/500\n",
      "15/15 [==============================] - 0s 5ms/step - loss: 3.6295 - accuracy: 0.2274\n",
      "Epoch 38/500\n",
      "15/15 [==============================] - 0s 6ms/step - loss: 3.5697 - accuracy: 0.2472\n",
      "Epoch 39/500\n",
      "15/15 [==============================] - 0s 5ms/step - loss: 3.5213 - accuracy: 0.2671\n",
      "Epoch 40/500\n",
      "15/15 [==============================] - 0s 5ms/step - loss: 3.4803 - accuracy: 0.2539\n",
      "Epoch 41/500\n",
      "15/15 [==============================] - 0s 5ms/step - loss: 3.4247 - accuracy: 0.2583\n",
      "Epoch 42/500\n",
      "15/15 [==============================] - 0s 5ms/step - loss: 3.3742 - accuracy: 0.3091\n",
      "Epoch 43/500\n",
      "15/15 [==============================] - 0s 5ms/step - loss: 3.3323 - accuracy: 0.3289\n",
      "Epoch 44/500\n",
      "15/15 [==============================] - 0s 6ms/step - loss: 3.2907 - accuracy: 0.3223\n",
      "Epoch 45/500\n",
      "15/15 [==============================] - 0s 5ms/step - loss: 3.2369 - accuracy: 0.3488\n",
      "Epoch 46/500\n",
      "15/15 [==============================] - 0s 5ms/step - loss: 3.1999 - accuracy: 0.3466\n",
      "Epoch 47/500\n",
      "15/15 [==============================] - 0s 5ms/step - loss: 3.1508 - accuracy: 0.3532\n",
      "Epoch 48/500\n",
      "15/15 [==============================] - 0s 5ms/step - loss: 3.1025 - accuracy: 0.3687\n",
      "Epoch 49/500\n",
      "15/15 [==============================] - 0s 5ms/step - loss: 3.0660 - accuracy: 0.3753\n",
      "Epoch 50/500\n",
      "15/15 [==============================] - 0s 6ms/step - loss: 3.0233 - accuracy: 0.3929\n",
      "Epoch 51/500\n",
      "15/15 [==============================] - 0s 5ms/step - loss: 2.9927 - accuracy: 0.3819\n",
      "Epoch 52/500\n",
      "15/15 [==============================] - 0s 5ms/step - loss: 2.9590 - accuracy: 0.4106\n",
      "Epoch 53/500\n",
      "15/15 [==============================] - 0s 5ms/step - loss: 2.9137 - accuracy: 0.4238\n",
      "Epoch 54/500\n",
      "15/15 [==============================] - 0s 6ms/step - loss: 2.8716 - accuracy: 0.4415\n",
      "Epoch 55/500\n",
      "15/15 [==============================] - 0s 6ms/step - loss: 2.8236 - accuracy: 0.4503\n",
      "Epoch 56/500\n",
      "15/15 [==============================] - 0s 6ms/step - loss: 2.7835 - accuracy: 0.4790\n",
      "Epoch 57/500\n",
      "15/15 [==============================] - 0s 5ms/step - loss: 2.7391 - accuracy: 0.4702\n",
      "Epoch 58/500\n",
      "15/15 [==============================] - 0s 5ms/step - loss: 2.7010 - accuracy: 0.4790\n",
      "Epoch 59/500\n",
      "15/15 [==============================] - 0s 5ms/step - loss: 2.6632 - accuracy: 0.4901\n",
      "Epoch 60/500\n",
      "15/15 [==============================] - 0s 5ms/step - loss: 2.6253 - accuracy: 0.5055\n",
      "Epoch 61/500\n",
      "15/15 [==============================] - 0s 6ms/step - loss: 2.6112 - accuracy: 0.5099\n",
      "Epoch 62/500\n",
      "15/15 [==============================] - 0s 5ms/step - loss: 2.5732 - accuracy: 0.5166\n",
      "Epoch 63/500\n",
      "15/15 [==============================] - 0s 5ms/step - loss: 2.5330 - accuracy: 0.5210\n",
      "Epoch 64/500\n",
      "15/15 [==============================] - 0s 6ms/step - loss: 2.4975 - accuracy: 0.5408\n",
      "Epoch 65/500\n",
      "15/15 [==============================] - 0s 5ms/step - loss: 2.4696 - accuracy: 0.5143\n",
      "Epoch 66/500\n",
      "15/15 [==============================] - 0s 5ms/step - loss: 2.4380 - accuracy: 0.5475\n",
      "Epoch 67/500\n",
      "15/15 [==============================] - 0s 8ms/step - loss: 2.4019 - accuracy: 0.5475\n",
      "Epoch 68/500\n",
      "15/15 [==============================] - 0s 11ms/step - loss: 2.3663 - accuracy: 0.5740\n",
      "Epoch 69/500\n",
      "15/15 [==============================] - 0s 11ms/step - loss: 2.3412 - accuracy: 0.5629\n",
      "Epoch 70/500\n",
      "15/15 [==============================] - 0s 5ms/step - loss: 2.3193 - accuracy: 0.5762\n",
      "Epoch 71/500\n",
      "15/15 [==============================] - 0s 6ms/step - loss: 2.2805 - accuracy: 0.6093\n",
      "Epoch 72/500\n",
      "15/15 [==============================] - 0s 7ms/step - loss: 2.2415 - accuracy: 0.5938\n",
      "Epoch 73/500\n",
      "15/15 [==============================] - 0s 12ms/step - loss: 2.2077 - accuracy: 0.6137\n",
      "Epoch 74/500\n",
      "15/15 [==============================] - 0s 12ms/step - loss: 2.1786 - accuracy: 0.6137\n",
      "Epoch 75/500\n",
      "15/15 [==============================] - 0s 10ms/step - loss: 2.1485 - accuracy: 0.6203\n",
      "Epoch 76/500\n",
      "15/15 [==============================] - 0s 6ms/step - loss: 2.1202 - accuracy: 0.6313\n",
      "Epoch 77/500\n",
      "15/15 [==============================] - 0s 6ms/step - loss: 2.0981 - accuracy: 0.6203\n",
      "Epoch 78/500\n",
      "15/15 [==============================] - 0s 6ms/step - loss: 2.0790 - accuracy: 0.6468\n",
      "Epoch 79/500\n",
      "15/15 [==============================] - 0s 5ms/step - loss: 2.0582 - accuracy: 0.6313\n",
      "Epoch 80/500\n",
      "15/15 [==============================] - 0s 5ms/step - loss: 2.0676 - accuracy: 0.6380\n",
      "Epoch 81/500\n",
      "15/15 [==============================] - 0s 5ms/step - loss: 2.0191 - accuracy: 0.6534\n",
      "Epoch 82/500\n",
      "15/15 [==============================] - 0s 6ms/step - loss: 1.9808 - accuracy: 0.6556\n",
      "Epoch 83/500\n",
      "15/15 [==============================] - 0s 5ms/step - loss: 1.9583 - accuracy: 0.6645\n",
      "Epoch 84/500\n",
      "15/15 [==============================] - 0s 6ms/step - loss: 1.9408 - accuracy: 0.6777\n",
      "Epoch 85/500\n",
      "15/15 [==============================] - 0s 5ms/step - loss: 1.9209 - accuracy: 0.6667\n",
      "Epoch 86/500\n",
      "15/15 [==============================] - 0s 6ms/step - loss: 1.8992 - accuracy: 0.6865\n",
      "Epoch 87/500\n",
      "15/15 [==============================] - 0s 5ms/step - loss: 1.8613 - accuracy: 0.6711\n",
      "Epoch 88/500\n",
      "15/15 [==============================] - 0s 6ms/step - loss: 1.8346 - accuracy: 0.6865\n",
      "Epoch 89/500\n",
      "15/15 [==============================] - 0s 6ms/step - loss: 1.8075 - accuracy: 0.6954\n",
      "Epoch 90/500\n",
      "15/15 [==============================] - 0s 6ms/step - loss: 1.7924 - accuracy: 0.7064\n",
      "Epoch 91/500\n",
      "15/15 [==============================] - 0s 5ms/step - loss: 1.7785 - accuracy: 0.6998\n",
      "Epoch 92/500\n",
      "15/15 [==============================] - 0s 5ms/step - loss: 1.7534 - accuracy: 0.7130\n",
      "Epoch 93/500\n",
      "15/15 [==============================] - 0s 6ms/step - loss: 1.7422 - accuracy: 0.7042\n",
      "Epoch 94/500\n",
      "15/15 [==============================] - 0s 5ms/step - loss: 1.7141 - accuracy: 0.7263\n",
      "Epoch 95/500\n",
      "15/15 [==============================] - 0s 7ms/step - loss: 1.7108 - accuracy: 0.7086\n",
      "Epoch 96/500\n",
      "15/15 [==============================] - 0s 5ms/step - loss: 1.6762 - accuracy: 0.7219\n",
      "Epoch 97/500\n",
      "15/15 [==============================] - 0s 6ms/step - loss: 1.6534 - accuracy: 0.7196\n",
      "Epoch 98/500\n",
      "15/15 [==============================] - 0s 6ms/step - loss: 1.6184 - accuracy: 0.7241\n",
      "Epoch 99/500\n",
      "15/15 [==============================] - 0s 6ms/step - loss: 1.6023 - accuracy: 0.7351\n",
      "Epoch 100/500\n",
      "15/15 [==============================] - 0s 5ms/step - loss: 1.5779 - accuracy: 0.7483\n",
      "Epoch 101/500\n",
      "15/15 [==============================] - 0s 5ms/step - loss: 1.5536 - accuracy: 0.7550\n",
      "Epoch 102/500\n",
      "15/15 [==============================] - 0s 5ms/step - loss: 1.5301 - accuracy: 0.7638\n",
      "Epoch 103/500\n",
      "15/15 [==============================] - 0s 6ms/step - loss: 1.5109 - accuracy: 0.7616\n",
      "Epoch 104/500\n",
      "15/15 [==============================] - 0s 5ms/step - loss: 1.4957 - accuracy: 0.7748\n",
      "Epoch 105/500\n",
      "15/15 [==============================] - 0s 6ms/step - loss: 1.4846 - accuracy: 0.7726\n",
      "Epoch 106/500\n",
      "15/15 [==============================] - 0s 6ms/step - loss: 1.4630 - accuracy: 0.7792\n",
      "Epoch 107/500\n",
      "15/15 [==============================] - 0s 6ms/step - loss: 1.4495 - accuracy: 0.7770\n",
      "Epoch 108/500\n",
      "15/15 [==============================] - 0s 6ms/step - loss: 1.4390 - accuracy: 0.7859\n",
      "Epoch 109/500\n",
      "15/15 [==============================] - 0s 6ms/step - loss: 1.4164 - accuracy: 0.7859\n",
      "Epoch 110/500\n",
      "15/15 [==============================] - 0s 6ms/step - loss: 1.3992 - accuracy: 0.7903\n",
      "Epoch 111/500\n",
      "15/15 [==============================] - 0s 5ms/step - loss: 1.3846 - accuracy: 0.7947\n",
      "Epoch 112/500\n",
      "15/15 [==============================] - 0s 5ms/step - loss: 1.3843 - accuracy: 0.7925\n",
      "Epoch 113/500\n",
      "15/15 [==============================] - 0s 5ms/step - loss: 1.3531 - accuracy: 0.8013\n",
      "Epoch 114/500\n",
      "15/15 [==============================] - 0s 5ms/step - loss: 1.3287 - accuracy: 0.7903\n",
      "Epoch 115/500\n",
      "15/15 [==============================] - 0s 6ms/step - loss: 1.3188 - accuracy: 0.8212\n",
      "Epoch 116/500\n",
      "15/15 [==============================] - 0s 7ms/step - loss: 1.2998 - accuracy: 0.8146\n",
      "Epoch 117/500\n",
      "15/15 [==============================] - 0s 7ms/step - loss: 1.2811 - accuracy: 0.8124\n",
      "Epoch 118/500\n",
      "15/15 [==============================] - 0s 5ms/step - loss: 1.2688 - accuracy: 0.8146\n",
      "Epoch 119/500\n",
      "15/15 [==============================] - 0s 5ms/step - loss: 1.2550 - accuracy: 0.8146\n",
      "Epoch 120/500\n",
      "15/15 [==============================] - 0s 5ms/step - loss: 1.2380 - accuracy: 0.8146\n",
      "Epoch 121/500\n",
      "15/15 [==============================] - 0s 6ms/step - loss: 1.2206 - accuracy: 0.8168\n",
      "Epoch 122/500\n",
      "15/15 [==============================] - 0s 5ms/step - loss: 1.2113 - accuracy: 0.8278\n",
      "Epoch 123/500\n",
      "15/15 [==============================] - 0s 5ms/step - loss: 1.1949 - accuracy: 0.8256\n",
      "Epoch 124/500\n",
      "15/15 [==============================] - 0s 5ms/step - loss: 1.1786 - accuracy: 0.8300\n",
      "Epoch 125/500\n",
      "15/15 [==============================] - 0s 5ms/step - loss: 1.1625 - accuracy: 0.8344\n",
      "Epoch 126/500\n",
      "15/15 [==============================] - 0s 6ms/step - loss: 1.1499 - accuracy: 0.8433\n",
      "Epoch 127/500\n",
      "15/15 [==============================] - 0s 5ms/step - loss: 1.1326 - accuracy: 0.8455\n",
      "Epoch 128/500\n",
      "15/15 [==============================] - 0s 6ms/step - loss: 1.1201 - accuracy: 0.8499\n",
      "Epoch 129/500\n",
      "15/15 [==============================] - 0s 5ms/step - loss: 1.1098 - accuracy: 0.8455\n",
      "Epoch 130/500\n",
      "15/15 [==============================] - 0s 9ms/step - loss: 1.0919 - accuracy: 0.8477\n",
      "Epoch 131/500\n",
      "15/15 [==============================] - 0s 12ms/step - loss: 1.0772 - accuracy: 0.8499\n",
      "Epoch 132/500\n",
      "15/15 [==============================] - 0s 10ms/step - loss: 1.0709 - accuracy: 0.8565\n",
      "Epoch 133/500\n",
      "15/15 [==============================] - 0s 13ms/step - loss: 1.0534 - accuracy: 0.8543\n",
      "Epoch 134/500\n",
      "15/15 [==============================] - 0s 16ms/step - loss: 1.0387 - accuracy: 0.8609\n",
      "Epoch 135/500\n",
      "15/15 [==============================] - 0s 18ms/step - loss: 1.0237 - accuracy: 0.8565\n",
      "Epoch 136/500\n",
      "15/15 [==============================] - 0s 14ms/step - loss: 1.0111 - accuracy: 0.8631\n",
      "Epoch 137/500\n",
      "15/15 [==============================] - 0s 10ms/step - loss: 0.9980 - accuracy: 0.8609\n",
      "Epoch 138/500\n",
      "15/15 [==============================] - 0s 15ms/step - loss: 0.9858 - accuracy: 0.8675\n",
      "Epoch 139/500\n",
      "15/15 [==============================] - 0s 15ms/step - loss: 0.9740 - accuracy: 0.8698\n",
      "Epoch 140/500\n",
      "15/15 [==============================] - 0s 13ms/step - loss: 0.9604 - accuracy: 0.8675\n",
      "Epoch 141/500\n",
      "15/15 [==============================] - 0s 15ms/step - loss: 0.9499 - accuracy: 0.8653\n",
      "Epoch 142/500\n",
      "15/15 [==============================] - 0s 12ms/step - loss: 0.9407 - accuracy: 0.8675\n",
      "Epoch 143/500\n",
      "15/15 [==============================] - 0s 13ms/step - loss: 0.9355 - accuracy: 0.8720\n",
      "Epoch 144/500\n",
      "15/15 [==============================] - 0s 14ms/step - loss: 0.9237 - accuracy: 0.8786\n",
      "Epoch 145/500\n",
      "15/15 [==============================] - 0s 18ms/step - loss: 0.9134 - accuracy: 0.8786\n",
      "Epoch 146/500\n",
      "15/15 [==============================] - 0s 16ms/step - loss: 0.9033 - accuracy: 0.8720\n",
      "Epoch 147/500\n",
      "15/15 [==============================] - 0s 14ms/step - loss: 0.8901 - accuracy: 0.8896\n",
      "Epoch 148/500\n",
      "15/15 [==============================] - 0s 15ms/step - loss: 0.8784 - accuracy: 0.8874\n",
      "Epoch 149/500\n",
      "15/15 [==============================] - 0s 15ms/step - loss: 0.8665 - accuracy: 0.8896\n",
      "Epoch 150/500\n",
      "15/15 [==============================] - 0s 17ms/step - loss: 0.8559 - accuracy: 0.9029\n",
      "Epoch 151/500\n",
      "15/15 [==============================] - 0s 10ms/step - loss: 0.8438 - accuracy: 0.9029\n",
      "Epoch 152/500\n",
      "15/15 [==============================] - 0s 13ms/step - loss: 0.8378 - accuracy: 0.9051\n",
      "Epoch 153/500\n",
      "15/15 [==============================] - 0s 13ms/step - loss: 0.8203 - accuracy: 0.9073\n",
      "Epoch 154/500\n",
      "15/15 [==============================] - 0s 11ms/step - loss: 0.8106 - accuracy: 0.9029\n",
      "Epoch 155/500\n",
      "15/15 [==============================] - 0s 11ms/step - loss: 0.8019 - accuracy: 0.9029\n",
      "Epoch 156/500\n",
      "15/15 [==============================] - 0s 11ms/step - loss: 0.7912 - accuracy: 0.9051\n",
      "Epoch 157/500\n",
      "15/15 [==============================] - 0s 12ms/step - loss: 0.7815 - accuracy: 0.9051\n",
      "Epoch 158/500\n",
      "15/15 [==============================] - 0s 13ms/step - loss: 0.7728 - accuracy: 0.9051\n",
      "Epoch 159/500\n",
      "15/15 [==============================] - 0s 11ms/step - loss: 0.7645 - accuracy: 0.9051\n",
      "Epoch 160/500\n",
      "15/15 [==============================] - 0s 10ms/step - loss: 0.7556 - accuracy: 0.9095\n",
      "Epoch 161/500\n",
      "15/15 [==============================] - 0s 11ms/step - loss: 0.7545 - accuracy: 0.9095\n",
      "Epoch 162/500\n",
      "15/15 [==============================] - 0s 13ms/step - loss: 0.7548 - accuracy: 0.9095\n",
      "Epoch 163/500\n",
      "15/15 [==============================] - 0s 6ms/step - loss: 0.7521 - accuracy: 0.9095\n",
      "Epoch 164/500\n",
      "15/15 [==============================] - 0s 6ms/step - loss: 0.7376 - accuracy: 0.9161\n",
      "Epoch 165/500\n",
      "15/15 [==============================] - 0s 6ms/step - loss: 0.7242 - accuracy: 0.9139\n",
      "Epoch 166/500\n",
      "15/15 [==============================] - 0s 6ms/step - loss: 0.7143 - accuracy: 0.9117\n",
      "Epoch 167/500\n",
      "15/15 [==============================] - 0s 6ms/step - loss: 0.7034 - accuracy: 0.9183\n",
      "Epoch 168/500\n",
      "15/15 [==============================] - 0s 6ms/step - loss: 0.6977 - accuracy: 0.9183\n",
      "Epoch 169/500\n",
      "15/15 [==============================] - 0s 6ms/step - loss: 0.6931 - accuracy: 0.9161\n",
      "Epoch 170/500\n",
      "15/15 [==============================] - 0s 5ms/step - loss: 0.6993 - accuracy: 0.9139\n",
      "Epoch 171/500\n",
      "15/15 [==============================] - 0s 5ms/step - loss: 0.7159 - accuracy: 0.9051\n",
      "Epoch 172/500\n",
      "15/15 [==============================] - 0s 6ms/step - loss: 0.7245 - accuracy: 0.9029\n",
      "Epoch 173/500\n",
      "15/15 [==============================] - 0s 6ms/step - loss: 0.7015 - accuracy: 0.9117\n",
      "Epoch 174/500\n",
      "15/15 [==============================] - 0s 6ms/step - loss: 0.6805 - accuracy: 0.9139\n",
      "Epoch 175/500\n",
      "15/15 [==============================] - 0s 6ms/step - loss: 0.6695 - accuracy: 0.9139\n",
      "Epoch 176/500\n",
      "15/15 [==============================] - 0s 6ms/step - loss: 0.6669 - accuracy: 0.9139\n",
      "Epoch 177/500\n",
      "15/15 [==============================] - 0s 5ms/step - loss: 0.6541 - accuracy: 0.9117\n",
      "Epoch 178/500\n",
      "15/15 [==============================] - 0s 6ms/step - loss: 0.6433 - accuracy: 0.9139\n",
      "Epoch 179/500\n",
      "15/15 [==============================] - 0s 6ms/step - loss: 0.6449 - accuracy: 0.9117\n",
      "Epoch 180/500\n",
      "15/15 [==============================] - 0s 5ms/step - loss: 0.6329 - accuracy: 0.9161\n",
      "Epoch 181/500\n",
      "15/15 [==============================] - 0s 5ms/step - loss: 0.6233 - accuracy: 0.9139\n",
      "Epoch 182/500\n",
      "15/15 [==============================] - 0s 5ms/step - loss: 0.6085 - accuracy: 0.9161\n",
      "Epoch 183/500\n",
      "15/15 [==============================] - 0s 5ms/step - loss: 0.6029 - accuracy: 0.9161\n",
      "Epoch 184/500\n",
      "15/15 [==============================] - 0s 5ms/step - loss: 0.5955 - accuracy: 0.9183\n",
      "Epoch 185/500\n",
      "15/15 [==============================] - 0s 5ms/step - loss: 0.5879 - accuracy: 0.9183\n",
      "Epoch 186/500\n",
      "15/15 [==============================] - 0s 5ms/step - loss: 0.5792 - accuracy: 0.9205\n",
      "Epoch 187/500\n",
      "15/15 [==============================] - 0s 6ms/step - loss: 0.5712 - accuracy: 0.9227\n",
      "Epoch 188/500\n",
      "15/15 [==============================] - 0s 6ms/step - loss: 0.5658 - accuracy: 0.9227\n",
      "Epoch 189/500\n",
      "15/15 [==============================] - 0s 6ms/step - loss: 0.5627 - accuracy: 0.9227\n",
      "Epoch 190/500\n",
      "15/15 [==============================] - 0s 6ms/step - loss: 0.5582 - accuracy: 0.9227\n",
      "Epoch 191/500\n",
      "15/15 [==============================] - 0s 6ms/step - loss: 0.5537 - accuracy: 0.9227\n",
      "Epoch 192/500\n",
      "15/15 [==============================] - 0s 6ms/step - loss: 0.5448 - accuracy: 0.9205\n",
      "Epoch 193/500\n",
      "15/15 [==============================] - 0s 5ms/step - loss: 0.5393 - accuracy: 0.9249\n",
      "Epoch 194/500\n",
      "15/15 [==============================] - 0s 5ms/step - loss: 0.5406 - accuracy: 0.9183\n",
      "Epoch 195/500\n",
      "15/15 [==============================] - 0s 6ms/step - loss: 0.5348 - accuracy: 0.9227\n",
      "Epoch 196/500\n",
      "15/15 [==============================] - 0s 6ms/step - loss: 0.5255 - accuracy: 0.9249\n",
      "Epoch 197/500\n",
      "15/15 [==============================] - 0s 6ms/step - loss: 0.5186 - accuracy: 0.9272\n",
      "Epoch 198/500\n",
      "15/15 [==============================] - 0s 7ms/step - loss: 0.5124 - accuracy: 0.9272\n",
      "Epoch 199/500\n",
      "15/15 [==============================] - 0s 6ms/step - loss: 0.5062 - accuracy: 0.9272\n",
      "Epoch 200/500\n",
      "15/15 [==============================] - 0s 6ms/step - loss: 0.5013 - accuracy: 0.9294\n",
      "Epoch 201/500\n",
      "15/15 [==============================] - 0s 6ms/step - loss: 0.4951 - accuracy: 0.9316\n",
      "Epoch 202/500\n",
      "15/15 [==============================] - 0s 5ms/step - loss: 0.4925 - accuracy: 0.9338\n",
      "Epoch 203/500\n",
      "15/15 [==============================] - 0s 5ms/step - loss: 0.4873 - accuracy: 0.9316\n",
      "Epoch 204/500\n",
      "15/15 [==============================] - 0s 5ms/step - loss: 0.4830 - accuracy: 0.9404\n",
      "Epoch 205/500\n",
      "15/15 [==============================] - 0s 5ms/step - loss: 0.4757 - accuracy: 0.9404\n",
      "Epoch 206/500\n",
      "15/15 [==============================] - 0s 6ms/step - loss: 0.4706 - accuracy: 0.9360\n",
      "Epoch 207/500\n",
      "15/15 [==============================] - 0s 6ms/step - loss: 0.4668 - accuracy: 0.9426\n",
      "Epoch 208/500\n",
      "15/15 [==============================] - 0s 6ms/step - loss: 0.4632 - accuracy: 0.9360\n",
      "Epoch 209/500\n",
      "15/15 [==============================] - 0s 5ms/step - loss: 0.4585 - accuracy: 0.9426\n",
      "Epoch 210/500\n",
      "15/15 [==============================] - 0s 6ms/step - loss: 0.4545 - accuracy: 0.9404\n",
      "Epoch 211/500\n",
      "15/15 [==============================] - 0s 6ms/step - loss: 0.4514 - accuracy: 0.9404\n",
      "Epoch 212/500\n",
      "15/15 [==============================] - 0s 6ms/step - loss: 0.4454 - accuracy: 0.9426\n",
      "Epoch 213/500\n",
      "15/15 [==============================] - 0s 6ms/step - loss: 0.4411 - accuracy: 0.9360\n",
      "Epoch 214/500\n",
      "15/15 [==============================] - 0s 5ms/step - loss: 0.4368 - accuracy: 0.9426\n",
      "Epoch 215/500\n",
      "15/15 [==============================] - 0s 6ms/step - loss: 0.4336 - accuracy: 0.9404\n",
      "Epoch 216/500\n",
      "15/15 [==============================] - 0s 6ms/step - loss: 0.4310 - accuracy: 0.9404\n",
      "Epoch 217/500\n",
      "15/15 [==============================] - 0s 6ms/step - loss: 0.4265 - accuracy: 0.9448\n",
      "Epoch 218/500\n",
      "15/15 [==============================] - 0s 6ms/step - loss: 0.4260 - accuracy: 0.9382\n",
      "Epoch 219/500\n",
      "15/15 [==============================] - 0s 7ms/step - loss: 0.4163 - accuracy: 0.9470\n",
      "Epoch 220/500\n",
      "15/15 [==============================] - 0s 6ms/step - loss: 0.4149 - accuracy: 0.9404\n",
      "Epoch 221/500\n",
      "15/15 [==============================] - 0s 5ms/step - loss: 0.4116 - accuracy: 0.9382\n",
      "Epoch 222/500\n",
      "15/15 [==============================] - 0s 6ms/step - loss: 0.4057 - accuracy: 0.9404\n",
      "Epoch 223/500\n",
      "15/15 [==============================] - 0s 5ms/step - loss: 0.4025 - accuracy: 0.9382\n",
      "Epoch 224/500\n",
      "15/15 [==============================] - 0s 5ms/step - loss: 0.3991 - accuracy: 0.9404\n",
      "Epoch 225/500\n",
      "15/15 [==============================] - 0s 6ms/step - loss: 0.4000 - accuracy: 0.9448\n",
      "Epoch 226/500\n",
      "15/15 [==============================] - 0s 6ms/step - loss: 0.3938 - accuracy: 0.9448\n",
      "Epoch 227/500\n",
      "15/15 [==============================] - 0s 5ms/step - loss: 0.3916 - accuracy: 0.9404\n",
      "Epoch 228/500\n",
      "15/15 [==============================] - 0s 5ms/step - loss: 0.3861 - accuracy: 0.9426\n",
      "Epoch 229/500\n",
      "15/15 [==============================] - 0s 5ms/step - loss: 0.3836 - accuracy: 0.9404\n",
      "Epoch 230/500\n",
      "15/15 [==============================] - 0s 6ms/step - loss: 0.3825 - accuracy: 0.9470\n",
      "Epoch 231/500\n",
      "15/15 [==============================] - 0s 6ms/step - loss: 0.3760 - accuracy: 0.9470\n",
      "Epoch 232/500\n",
      "15/15 [==============================] - 0s 6ms/step - loss: 0.3741 - accuracy: 0.9470\n",
      "Epoch 233/500\n",
      "15/15 [==============================] - 0s 6ms/step - loss: 0.3753 - accuracy: 0.9426\n",
      "Epoch 234/500\n",
      "15/15 [==============================] - 0s 6ms/step - loss: 0.3732 - accuracy: 0.9470\n",
      "Epoch 235/500\n",
      "15/15 [==============================] - 0s 6ms/step - loss: 0.3723 - accuracy: 0.9470\n",
      "Epoch 236/500\n",
      "15/15 [==============================] - 0s 6ms/step - loss: 0.3805 - accuracy: 0.9426\n",
      "Epoch 237/500\n",
      "15/15 [==============================] - 0s 6ms/step - loss: 0.3696 - accuracy: 0.9448\n",
      "Epoch 238/500\n",
      "15/15 [==============================] - 0s 7ms/step - loss: 0.3651 - accuracy: 0.9470\n",
      "Epoch 239/500\n",
      "15/15 [==============================] - 0s 6ms/step - loss: 0.3709 - accuracy: 0.9470\n",
      "Epoch 240/500\n",
      "15/15 [==============================] - 0s 6ms/step - loss: 0.3635 - accuracy: 0.9470\n",
      "Epoch 241/500\n",
      "15/15 [==============================] - 0s 6ms/step - loss: 0.3787 - accuracy: 0.9448\n",
      "Epoch 242/500\n",
      "15/15 [==============================] - 0s 6ms/step - loss: 0.3960 - accuracy: 0.9338\n",
      "Epoch 243/500\n",
      "15/15 [==============================] - 0s 5ms/step - loss: 0.4005 - accuracy: 0.9360\n",
      "Epoch 244/500\n",
      "15/15 [==============================] - 0s 5ms/step - loss: 0.4242 - accuracy: 0.9161\n",
      "Epoch 245/500\n",
      "15/15 [==============================] - 0s 5ms/step - loss: 0.4132 - accuracy: 0.9316\n",
      "Epoch 246/500\n",
      "15/15 [==============================] - 0s 5ms/step - loss: 0.4027 - accuracy: 0.9426\n",
      "Epoch 247/500\n",
      "15/15 [==============================] - 0s 5ms/step - loss: 0.3777 - accuracy: 0.9382\n",
      "Epoch 248/500\n",
      "15/15 [==============================] - 0s 6ms/step - loss: 0.3751 - accuracy: 0.9426\n",
      "Epoch 249/500\n",
      "15/15 [==============================] - 0s 6ms/step - loss: 0.3550 - accuracy: 0.9514\n",
      "Epoch 250/500\n",
      "15/15 [==============================] - 0s 6ms/step - loss: 0.3414 - accuracy: 0.9448\n",
      "Epoch 251/500\n",
      "15/15 [==============================] - 0s 6ms/step - loss: 0.3327 - accuracy: 0.9426\n",
      "Epoch 252/500\n",
      "15/15 [==============================] - 0s 6ms/step - loss: 0.3264 - accuracy: 0.9492\n",
      "Epoch 253/500\n",
      "15/15 [==============================] - 0s 6ms/step - loss: 0.3228 - accuracy: 0.9514\n",
      "Epoch 254/500\n",
      "15/15 [==============================] - 0s 6ms/step - loss: 0.3180 - accuracy: 0.9536\n",
      "Epoch 255/500\n",
      "15/15 [==============================] - 0s 6ms/step - loss: 0.3120 - accuracy: 0.9448\n",
      "Epoch 256/500\n",
      "15/15 [==============================] - 0s 6ms/step - loss: 0.3096 - accuracy: 0.9536\n",
      "Epoch 257/500\n",
      "15/15 [==============================] - 0s 6ms/step - loss: 0.3099 - accuracy: 0.9448\n",
      "Epoch 258/500\n",
      "15/15 [==============================] - 0s 6ms/step - loss: 0.3070 - accuracy: 0.9558\n",
      "Epoch 259/500\n",
      "15/15 [==============================] - 0s 6ms/step - loss: 0.3020 - accuracy: 0.9470\n",
      "Epoch 260/500\n",
      "15/15 [==============================] - 0s 6ms/step - loss: 0.3001 - accuracy: 0.9514\n",
      "Epoch 261/500\n",
      "15/15 [==============================] - 0s 5ms/step - loss: 0.2965 - accuracy: 0.9514\n",
      "Epoch 262/500\n",
      "15/15 [==============================] - 0s 6ms/step - loss: 0.2941 - accuracy: 0.9448\n",
      "Epoch 263/500\n",
      "15/15 [==============================] - 0s 7ms/step - loss: 0.2904 - accuracy: 0.9514\n",
      "Epoch 264/500\n",
      "15/15 [==============================] - 0s 5ms/step - loss: 0.2884 - accuracy: 0.9492\n",
      "Epoch 265/500\n",
      "15/15 [==============================] - 0s 5ms/step - loss: 0.2867 - accuracy: 0.9492\n",
      "Epoch 266/500\n",
      "15/15 [==============================] - 0s 5ms/step - loss: 0.2886 - accuracy: 0.9514\n",
      "Epoch 267/500\n",
      "15/15 [==============================] - 0s 5ms/step - loss: 0.2849 - accuracy: 0.9492\n",
      "Epoch 268/500\n",
      "15/15 [==============================] - 0s 5ms/step - loss: 0.2807 - accuracy: 0.9514\n",
      "Epoch 269/500\n",
      "15/15 [==============================] - 0s 5ms/step - loss: 0.2776 - accuracy: 0.9514\n",
      "Epoch 270/500\n",
      "15/15 [==============================] - 0s 6ms/step - loss: 0.2761 - accuracy: 0.9492\n",
      "Epoch 271/500\n",
      "15/15 [==============================] - 0s 5ms/step - loss: 0.2742 - accuracy: 0.9536\n",
      "Epoch 272/500\n",
      "15/15 [==============================] - 0s 6ms/step - loss: 0.2730 - accuracy: 0.9514\n",
      "Epoch 273/500\n",
      "15/15 [==============================] - 0s 6ms/step - loss: 0.2706 - accuracy: 0.9514\n",
      "Epoch 274/500\n",
      "15/15 [==============================] - 0s 5ms/step - loss: 0.2694 - accuracy: 0.9536\n",
      "Epoch 275/500\n",
      "15/15 [==============================] - 0s 5ms/step - loss: 0.2683 - accuracy: 0.9492\n",
      "Epoch 276/500\n",
      "15/15 [==============================] - 0s 5ms/step - loss: 0.2671 - accuracy: 0.9492\n",
      "Epoch 277/500\n",
      "15/15 [==============================] - 0s 6ms/step - loss: 0.2652 - accuracy: 0.9492\n",
      "Epoch 278/500\n",
      "15/15 [==============================] - 0s 6ms/step - loss: 0.2625 - accuracy: 0.9514\n",
      "Epoch 279/500\n",
      "15/15 [==============================] - 0s 6ms/step - loss: 0.2602 - accuracy: 0.9492\n",
      "Epoch 280/500\n",
      "15/15 [==============================] - 0s 6ms/step - loss: 0.2574 - accuracy: 0.9492\n",
      "Epoch 281/500\n",
      "15/15 [==============================] - 0s 6ms/step - loss: 0.2559 - accuracy: 0.9514\n",
      "Epoch 282/500\n",
      "15/15 [==============================] - 0s 6ms/step - loss: 0.2543 - accuracy: 0.9492\n",
      "Epoch 283/500\n",
      "15/15 [==============================] - 0s 6ms/step - loss: 0.2575 - accuracy: 0.9514\n",
      "Epoch 284/500\n",
      "15/15 [==============================] - 0s 6ms/step - loss: 0.2530 - accuracy: 0.9492\n",
      "Epoch 285/500\n",
      "15/15 [==============================] - 0s 6ms/step - loss: 0.2493 - accuracy: 0.9514\n",
      "Epoch 286/500\n",
      "15/15 [==============================] - 0s 5ms/step - loss: 0.2496 - accuracy: 0.9448\n",
      "Epoch 287/500\n",
      "15/15 [==============================] - 0s 5ms/step - loss: 0.2483 - accuracy: 0.9492\n",
      "Epoch 288/500\n",
      "15/15 [==============================] - 0s 5ms/step - loss: 0.2465 - accuracy: 0.9536\n",
      "Epoch 289/500\n",
      "15/15 [==============================] - 0s 6ms/step - loss: 0.2448 - accuracy: 0.9492\n",
      "Epoch 290/500\n",
      "15/15 [==============================] - 0s 6ms/step - loss: 0.2427 - accuracy: 0.9492\n",
      "Epoch 291/500\n",
      "15/15 [==============================] - 0s 6ms/step - loss: 0.2403 - accuracy: 0.9492\n",
      "Epoch 292/500\n",
      "15/15 [==============================] - 0s 6ms/step - loss: 0.2401 - accuracy: 0.9470\n",
      "Epoch 293/500\n",
      "15/15 [==============================] - 0s 6ms/step - loss: 0.2387 - accuracy: 0.9514\n",
      "Epoch 294/500\n",
      "15/15 [==============================] - 0s 6ms/step - loss: 0.2366 - accuracy: 0.9514\n",
      "Epoch 295/500\n",
      "15/15 [==============================] - 0s 6ms/step - loss: 0.2343 - accuracy: 0.9558\n",
      "Epoch 296/500\n",
      "15/15 [==============================] - 0s 5ms/step - loss: 0.2332 - accuracy: 0.9448\n",
      "Epoch 297/500\n",
      "15/15 [==============================] - 0s 5ms/step - loss: 0.2318 - accuracy: 0.9514\n",
      "Epoch 298/500\n",
      "15/15 [==============================] - 0s 5ms/step - loss: 0.2310 - accuracy: 0.9514\n",
      "Epoch 299/500\n",
      "15/15 [==============================] - 0s 5ms/step - loss: 0.2312 - accuracy: 0.9514\n",
      "Epoch 300/500\n",
      "15/15 [==============================] - 0s 5ms/step - loss: 0.2293 - accuracy: 0.9536\n",
      "Epoch 301/500\n",
      "15/15 [==============================] - 0s 6ms/step - loss: 0.2268 - accuracy: 0.9492\n",
      "Epoch 302/500\n",
      "15/15 [==============================] - 0s 6ms/step - loss: 0.2260 - accuracy: 0.9470\n",
      "Epoch 303/500\n",
      "15/15 [==============================] - 0s 6ms/step - loss: 0.2239 - accuracy: 0.9492\n",
      "Epoch 304/500\n",
      "15/15 [==============================] - 0s 6ms/step - loss: 0.2226 - accuracy: 0.9514\n",
      "Epoch 305/500\n",
      "15/15 [==============================] - 0s 6ms/step - loss: 0.2210 - accuracy: 0.9514\n",
      "Epoch 306/500\n",
      "15/15 [==============================] - 0s 6ms/step - loss: 0.2199 - accuracy: 0.9470\n",
      "Epoch 307/500\n",
      "15/15 [==============================] - 0s 6ms/step - loss: 0.2194 - accuracy: 0.9536\n",
      "Epoch 308/500\n",
      "15/15 [==============================] - 0s 6ms/step - loss: 0.2177 - accuracy: 0.9514\n",
      "Epoch 309/500\n",
      "15/15 [==============================] - 0s 6ms/step - loss: 0.2184 - accuracy: 0.9514\n",
      "Epoch 310/500\n",
      "15/15 [==============================] - 0s 6ms/step - loss: 0.2543 - accuracy: 0.9404\n",
      "Epoch 311/500\n",
      "15/15 [==============================] - 0s 6ms/step - loss: 0.2600 - accuracy: 0.9404\n",
      "Epoch 312/500\n",
      "15/15 [==============================] - 0s 5ms/step - loss: 0.2489 - accuracy: 0.9448\n",
      "Epoch 313/500\n",
      "15/15 [==============================] - 0s 5ms/step - loss: 0.2626 - accuracy: 0.9448\n",
      "Epoch 314/500\n",
      "15/15 [==============================] - 0s 6ms/step - loss: 0.2431 - accuracy: 0.9470\n",
      "Epoch 315/500\n",
      "15/15 [==============================] - 0s 6ms/step - loss: 0.2435 - accuracy: 0.9470\n",
      "Epoch 316/500\n",
      "15/15 [==============================] - 0s 7ms/step - loss: 0.2457 - accuracy: 0.9470\n",
      "Epoch 317/500\n",
      "15/15 [==============================] - 0s 6ms/step - loss: 0.2503 - accuracy: 0.9470\n",
      "Epoch 318/500\n",
      "15/15 [==============================] - 0s 6ms/step - loss: 0.2499 - accuracy: 0.9470\n",
      "Epoch 319/500\n",
      "15/15 [==============================] - 0s 6ms/step - loss: 0.2356 - accuracy: 0.9492\n",
      "Epoch 320/500\n",
      "15/15 [==============================] - 0s 6ms/step - loss: 0.2290 - accuracy: 0.9514\n",
      "Epoch 321/500\n",
      "15/15 [==============================] - 0s 6ms/step - loss: 0.2203 - accuracy: 0.9492\n",
      "Epoch 322/500\n",
      "15/15 [==============================] - 0s 6ms/step - loss: 0.2187 - accuracy: 0.9426\n",
      "Epoch 323/500\n",
      "15/15 [==============================] - 0s 6ms/step - loss: 0.2150 - accuracy: 0.9470\n",
      "Epoch 324/500\n",
      "15/15 [==============================] - 0s 5ms/step - loss: 0.2087 - accuracy: 0.9448\n",
      "Epoch 325/500\n",
      "15/15 [==============================] - 0s 5ms/step - loss: 0.2050 - accuracy: 0.9492\n",
      "Epoch 326/500\n",
      "15/15 [==============================] - 0s 6ms/step - loss: 0.2028 - accuracy: 0.9514\n",
      "Epoch 327/500\n",
      "15/15 [==============================] - 0s 6ms/step - loss: 0.2006 - accuracy: 0.9514\n",
      "Epoch 328/500\n",
      "15/15 [==============================] - 0s 6ms/step - loss: 0.1997 - accuracy: 0.9536\n",
      "Epoch 329/500\n",
      "15/15 [==============================] - 0s 5ms/step - loss: 0.1982 - accuracy: 0.9470\n",
      "Epoch 330/500\n",
      "15/15 [==============================] - 0s 6ms/step - loss: 0.1971 - accuracy: 0.9492\n",
      "Epoch 331/500\n",
      "15/15 [==============================] - 0s 6ms/step - loss: 0.1952 - accuracy: 0.9536\n",
      "Epoch 332/500\n",
      "15/15 [==============================] - 0s 6ms/step - loss: 0.1938 - accuracy: 0.9514\n",
      "Epoch 333/500\n",
      "15/15 [==============================] - 0s 5ms/step - loss: 0.1937 - accuracy: 0.9492\n",
      "Epoch 334/500\n",
      "15/15 [==============================] - 0s 6ms/step - loss: 0.1919 - accuracy: 0.9470\n",
      "Epoch 335/500\n",
      "15/15 [==============================] - 0s 6ms/step - loss: 0.1911 - accuracy: 0.9470\n",
      "Epoch 336/500\n",
      "15/15 [==============================] - 0s 6ms/step - loss: 0.1894 - accuracy: 0.9426\n",
      "Epoch 337/500\n",
      "15/15 [==============================] - 0s 6ms/step - loss: 0.1885 - accuracy: 0.9514\n",
      "Epoch 338/500\n",
      "15/15 [==============================] - 0s 6ms/step - loss: 0.1890 - accuracy: 0.9448\n",
      "Epoch 339/500\n",
      "15/15 [==============================] - 0s 6ms/step - loss: 0.1876 - accuracy: 0.9514\n",
      "Epoch 340/500\n",
      "15/15 [==============================] - 0s 6ms/step - loss: 0.1860 - accuracy: 0.9514\n",
      "Epoch 341/500\n",
      "15/15 [==============================] - 0s 6ms/step - loss: 0.1871 - accuracy: 0.9514\n",
      "Epoch 342/500\n",
      "15/15 [==============================] - 0s 6ms/step - loss: 0.1851 - accuracy: 0.9470\n",
      "Epoch 343/500\n",
      "15/15 [==============================] - 0s 6ms/step - loss: 0.1819 - accuracy: 0.9514\n",
      "Epoch 344/500\n",
      "15/15 [==============================] - 0s 6ms/step - loss: 0.1823 - accuracy: 0.9426\n",
      "Epoch 345/500\n",
      "15/15 [==============================] - 0s 6ms/step - loss: 0.1823 - accuracy: 0.9470\n",
      "Epoch 346/500\n",
      "15/15 [==============================] - 0s 6ms/step - loss: 0.1818 - accuracy: 0.9492\n",
      "Epoch 347/500\n",
      "15/15 [==============================] - 0s 6ms/step - loss: 0.1803 - accuracy: 0.9492\n",
      "Epoch 348/500\n",
      "15/15 [==============================] - 0s 6ms/step - loss: 0.1788 - accuracy: 0.9536\n",
      "Epoch 349/500\n",
      "15/15 [==============================] - 0s 6ms/step - loss: 0.1779 - accuracy: 0.9470\n",
      "Epoch 350/500\n",
      "15/15 [==============================] - 0s 5ms/step - loss: 0.1772 - accuracy: 0.9492\n",
      "Epoch 351/500\n",
      "15/15 [==============================] - 0s 6ms/step - loss: 0.1783 - accuracy: 0.9536\n",
      "Epoch 352/500\n",
      "15/15 [==============================] - 0s 6ms/step - loss: 0.1763 - accuracy: 0.9470\n",
      "Epoch 353/500\n",
      "15/15 [==============================] - 0s 6ms/step - loss: 0.1755 - accuracy: 0.9536\n",
      "Epoch 354/500\n",
      "15/15 [==============================] - 0s 6ms/step - loss: 0.1771 - accuracy: 0.9514\n",
      "Epoch 355/500\n",
      "15/15 [==============================] - 0s 5ms/step - loss: 0.1742 - accuracy: 0.9514\n",
      "Epoch 356/500\n",
      "15/15 [==============================] - 0s 6ms/step - loss: 0.1730 - accuracy: 0.9492\n",
      "Epoch 357/500\n",
      "15/15 [==============================] - 0s 6ms/step - loss: 0.1710 - accuracy: 0.9492\n",
      "Epoch 358/500\n",
      "15/15 [==============================] - 0s 7ms/step - loss: 0.1713 - accuracy: 0.9492\n",
      "Epoch 359/500\n",
      "15/15 [==============================] - 0s 6ms/step - loss: 0.1691 - accuracy: 0.9470\n",
      "Epoch 360/500\n",
      "15/15 [==============================] - 0s 6ms/step - loss: 0.1698 - accuracy: 0.9470\n",
      "Epoch 361/500\n",
      "15/15 [==============================] - 0s 6ms/step - loss: 0.1681 - accuracy: 0.9492\n",
      "Epoch 362/500\n",
      "15/15 [==============================] - 0s 6ms/step - loss: 0.1685 - accuracy: 0.9470\n",
      "Epoch 363/500\n",
      "15/15 [==============================] - 0s 6ms/step - loss: 0.1684 - accuracy: 0.9470\n",
      "Epoch 364/500\n",
      "15/15 [==============================] - 0s 6ms/step - loss: 0.1686 - accuracy: 0.9492\n",
      "Epoch 365/500\n",
      "15/15 [==============================] - 0s 6ms/step - loss: 0.1726 - accuracy: 0.9492\n",
      "Epoch 366/500\n",
      "15/15 [==============================] - 0s 5ms/step - loss: 0.1690 - accuracy: 0.9536\n",
      "Epoch 367/500\n",
      "15/15 [==============================] - 0s 6ms/step - loss: 0.1666 - accuracy: 0.9470\n",
      "Epoch 368/500\n",
      "15/15 [==============================] - 0s 6ms/step - loss: 0.1661 - accuracy: 0.9514\n",
      "Epoch 369/500\n",
      "15/15 [==============================] - 0s 6ms/step - loss: 0.1676 - accuracy: 0.9536\n",
      "Epoch 370/500\n",
      "15/15 [==============================] - 0s 6ms/step - loss: 0.1660 - accuracy: 0.9492\n",
      "Epoch 371/500\n",
      "15/15 [==============================] - 0s 6ms/step - loss: 0.1642 - accuracy: 0.9470\n",
      "Epoch 372/500\n",
      "15/15 [==============================] - 0s 6ms/step - loss: 0.1635 - accuracy: 0.9470\n",
      "Epoch 373/500\n",
      "15/15 [==============================] - 0s 6ms/step - loss: 0.1626 - accuracy: 0.9514\n",
      "Epoch 374/500\n",
      "15/15 [==============================] - 0s 6ms/step - loss: 0.1653 - accuracy: 0.9514\n",
      "Epoch 375/500\n",
      "15/15 [==============================] - 0s 6ms/step - loss: 0.1616 - accuracy: 0.9492\n",
      "Epoch 376/500\n",
      "15/15 [==============================] - 0s 6ms/step - loss: 0.1606 - accuracy: 0.9514\n",
      "Epoch 377/500\n",
      "15/15 [==============================] - 0s 6ms/step - loss: 0.1595 - accuracy: 0.9492\n",
      "Epoch 378/500\n",
      "15/15 [==============================] - 0s 6ms/step - loss: 0.1583 - accuracy: 0.9514\n",
      "Epoch 379/500\n",
      "15/15 [==============================] - 0s 6ms/step - loss: 0.1581 - accuracy: 0.9514\n",
      "Epoch 380/500\n",
      "15/15 [==============================] - 0s 6ms/step - loss: 0.1574 - accuracy: 0.9492\n",
      "Epoch 381/500\n",
      "15/15 [==============================] - 0s 6ms/step - loss: 0.1559 - accuracy: 0.9514\n",
      "Epoch 382/500\n",
      "15/15 [==============================] - 0s 7ms/step - loss: 0.1558 - accuracy: 0.9536\n",
      "Epoch 383/500\n",
      "15/15 [==============================] - 0s 6ms/step - loss: 0.1549 - accuracy: 0.9492\n",
      "Epoch 384/500\n",
      "15/15 [==============================] - 0s 6ms/step - loss: 0.1547 - accuracy: 0.9492\n",
      "Epoch 385/500\n",
      "15/15 [==============================] - 0s 6ms/step - loss: 0.1537 - accuracy: 0.9514\n",
      "Epoch 386/500\n",
      "15/15 [==============================] - 0s 6ms/step - loss: 0.1532 - accuracy: 0.9514\n",
      "Epoch 387/500\n",
      "15/15 [==============================] - 0s 6ms/step - loss: 0.1537 - accuracy: 0.9470\n",
      "Epoch 388/500\n",
      "15/15 [==============================] - 0s 6ms/step - loss: 0.1533 - accuracy: 0.9514\n",
      "Epoch 389/500\n",
      "15/15 [==============================] - 0s 7ms/step - loss: 0.1519 - accuracy: 0.9426\n",
      "Epoch 390/500\n",
      "15/15 [==============================] - 0s 6ms/step - loss: 0.1513 - accuracy: 0.9470\n",
      "Epoch 391/500\n",
      "15/15 [==============================] - 0s 6ms/step - loss: 0.1506 - accuracy: 0.9514\n",
      "Epoch 392/500\n",
      "15/15 [==============================] - 0s 6ms/step - loss: 0.1509 - accuracy: 0.9470\n",
      "Epoch 393/500\n",
      "15/15 [==============================] - 0s 6ms/step - loss: 0.1503 - accuracy: 0.9448\n",
      "Epoch 394/500\n",
      "15/15 [==============================] - 0s 6ms/step - loss: 0.1496 - accuracy: 0.9492\n",
      "Epoch 395/500\n",
      "15/15 [==============================] - 0s 6ms/step - loss: 0.1491 - accuracy: 0.9558\n",
      "Epoch 396/500\n",
      "15/15 [==============================] - 0s 6ms/step - loss: 0.1489 - accuracy: 0.9470\n",
      "Epoch 397/500\n",
      "15/15 [==============================] - 0s 7ms/step - loss: 0.1491 - accuracy: 0.9514\n",
      "Epoch 398/500\n",
      "15/15 [==============================] - 0s 5ms/step - loss: 0.1526 - accuracy: 0.9492\n",
      "Epoch 399/500\n",
      "15/15 [==============================] - 0s 6ms/step - loss: 0.1503 - accuracy: 0.9492\n",
      "Epoch 400/500\n",
      "15/15 [==============================] - 0s 5ms/step - loss: 0.1511 - accuracy: 0.9492\n",
      "Epoch 401/500\n",
      "15/15 [==============================] - 0s 6ms/step - loss: 0.1496 - accuracy: 0.9536\n",
      "Epoch 402/500\n",
      "15/15 [==============================] - 0s 6ms/step - loss: 0.1479 - accuracy: 0.9470\n",
      "Epoch 403/500\n",
      "15/15 [==============================] - 0s 6ms/step - loss: 0.1466 - accuracy: 0.9514\n",
      "Epoch 404/500\n",
      "15/15 [==============================] - 0s 6ms/step - loss: 0.1485 - accuracy: 0.9492\n",
      "Epoch 405/500\n",
      "15/15 [==============================] - 0s 6ms/step - loss: 0.1453 - accuracy: 0.9470\n",
      "Epoch 406/500\n",
      "15/15 [==============================] - 0s 6ms/step - loss: 0.1455 - accuracy: 0.9492\n",
      "Epoch 407/500\n",
      "15/15 [==============================] - 0s 6ms/step - loss: 0.1453 - accuracy: 0.9492\n",
      "Epoch 408/500\n",
      "15/15 [==============================] - 0s 6ms/step - loss: 0.1448 - accuracy: 0.9448\n",
      "Epoch 409/500\n",
      "15/15 [==============================] - 0s 7ms/step - loss: 0.1432 - accuracy: 0.9536\n",
      "Epoch 410/500\n",
      "15/15 [==============================] - 0s 5ms/step - loss: 0.1423 - accuracy: 0.9470\n",
      "Epoch 411/500\n",
      "15/15 [==============================] - 0s 5ms/step - loss: 0.1422 - accuracy: 0.9492\n",
      "Epoch 412/500\n",
      "15/15 [==============================] - 0s 6ms/step - loss: 0.1421 - accuracy: 0.9492\n",
      "Epoch 413/500\n",
      "15/15 [==============================] - 0s 6ms/step - loss: 0.1412 - accuracy: 0.9448\n",
      "Epoch 414/500\n",
      "15/15 [==============================] - 0s 7ms/step - loss: 0.1403 - accuracy: 0.9448\n",
      "Epoch 415/500\n",
      "15/15 [==============================] - 0s 6ms/step - loss: 0.1407 - accuracy: 0.9514\n",
      "Epoch 416/500\n",
      "15/15 [==============================] - 0s 6ms/step - loss: 0.1403 - accuracy: 0.9492\n",
      "Epoch 417/500\n",
      "15/15 [==============================] - 0s 6ms/step - loss: 0.1403 - accuracy: 0.9514\n",
      "Epoch 418/500\n",
      "15/15 [==============================] - 0s 6ms/step - loss: 0.1397 - accuracy: 0.9448\n",
      "Epoch 419/500\n",
      "15/15 [==============================] - 0s 6ms/step - loss: 0.1387 - accuracy: 0.9426\n",
      "Epoch 420/500\n",
      "15/15 [==============================] - 0s 5ms/step - loss: 0.1381 - accuracy: 0.9448\n",
      "Epoch 421/500\n",
      "15/15 [==============================] - 0s 6ms/step - loss: 0.1388 - accuracy: 0.9448\n",
      "Epoch 422/500\n",
      "15/15 [==============================] - 0s 6ms/step - loss: 0.1376 - accuracy: 0.9492\n",
      "Epoch 423/500\n",
      "15/15 [==============================] - 0s 6ms/step - loss: 0.1374 - accuracy: 0.9448\n",
      "Epoch 424/500\n",
      "15/15 [==============================] - 0s 6ms/step - loss: 0.1374 - accuracy: 0.9426\n",
      "Epoch 425/500\n",
      "15/15 [==============================] - 0s 6ms/step - loss: 0.1391 - accuracy: 0.9470\n",
      "Epoch 426/500\n",
      "15/15 [==============================] - 0s 6ms/step - loss: 0.1388 - accuracy: 0.9448\n",
      "Epoch 427/500\n",
      "15/15 [==============================] - 0s 6ms/step - loss: 0.1375 - accuracy: 0.9470\n",
      "Epoch 428/500\n",
      "15/15 [==============================] - 0s 6ms/step - loss: 0.1363 - accuracy: 0.9470\n",
      "Epoch 429/500\n",
      "15/15 [==============================] - 0s 7ms/step - loss: 0.1355 - accuracy: 0.9470\n",
      "Epoch 430/500\n",
      "15/15 [==============================] - 0s 6ms/step - loss: 0.1351 - accuracy: 0.9536\n",
      "Epoch 431/500\n",
      "15/15 [==============================] - 0s 6ms/step - loss: 0.1342 - accuracy: 0.9470\n",
      "Epoch 432/500\n",
      "15/15 [==============================] - 0s 6ms/step - loss: 0.1344 - accuracy: 0.9448\n",
      "Epoch 433/500\n",
      "15/15 [==============================] - 0s 7ms/step - loss: 0.1365 - accuracy: 0.9514\n",
      "Epoch 434/500\n",
      "15/15 [==============================] - 0s 6ms/step - loss: 0.1354 - accuracy: 0.9492\n",
      "Epoch 435/500\n",
      "15/15 [==============================] - 0s 6ms/step - loss: 0.1342 - accuracy: 0.9448\n",
      "Epoch 436/500\n",
      "15/15 [==============================] - 0s 6ms/step - loss: 0.1347 - accuracy: 0.9426\n",
      "Epoch 437/500\n",
      "15/15 [==============================] - 0s 7ms/step - loss: 0.1346 - accuracy: 0.9514\n",
      "Epoch 438/500\n",
      "15/15 [==============================] - 0s 5ms/step - loss: 0.1334 - accuracy: 0.9514\n",
      "Epoch 439/500\n",
      "15/15 [==============================] - 0s 7ms/step - loss: 0.1320 - accuracy: 0.9470\n",
      "Epoch 440/500\n",
      "15/15 [==============================] - 0s 6ms/step - loss: 0.1311 - accuracy: 0.9536\n",
      "Epoch 441/500\n",
      "15/15 [==============================] - 0s 6ms/step - loss: 0.1316 - accuracy: 0.9426\n",
      "Epoch 442/500\n",
      "15/15 [==============================] - 0s 6ms/step - loss: 0.1300 - accuracy: 0.9448\n",
      "Epoch 443/500\n",
      "15/15 [==============================] - 0s 5ms/step - loss: 0.1303 - accuracy: 0.9492\n",
      "Epoch 444/500\n",
      "15/15 [==============================] - 0s 6ms/step - loss: 0.1299 - accuracy: 0.9470\n",
      "Epoch 445/500\n",
      "15/15 [==============================] - 0s 6ms/step - loss: 0.1308 - accuracy: 0.9492\n",
      "Epoch 446/500\n",
      "15/15 [==============================] - 0s 6ms/step - loss: 0.1292 - accuracy: 0.9492\n",
      "Epoch 447/500\n",
      "15/15 [==============================] - 0s 6ms/step - loss: 0.1299 - accuracy: 0.9514\n",
      "Epoch 448/500\n",
      "15/15 [==============================] - 0s 6ms/step - loss: 0.1287 - accuracy: 0.9514\n",
      "Epoch 449/500\n",
      "15/15 [==============================] - 0s 6ms/step - loss: 0.1277 - accuracy: 0.9470\n",
      "Epoch 450/500\n",
      "15/15 [==============================] - 0s 6ms/step - loss: 0.1278 - accuracy: 0.9470\n",
      "Epoch 451/500\n",
      "15/15 [==============================] - 0s 6ms/step - loss: 0.1271 - accuracy: 0.9492\n",
      "Epoch 452/500\n",
      "15/15 [==============================] - 0s 6ms/step - loss: 0.1274 - accuracy: 0.9470\n",
      "Epoch 453/500\n",
      "15/15 [==============================] - 0s 6ms/step - loss: 0.1268 - accuracy: 0.9514\n",
      "Epoch 454/500\n",
      "15/15 [==============================] - 0s 6ms/step - loss: 0.1267 - accuracy: 0.9492\n",
      "Epoch 455/500\n",
      "15/15 [==============================] - 0s 6ms/step - loss: 0.1269 - accuracy: 0.9470\n",
      "Epoch 456/500\n",
      "15/15 [==============================] - 0s 6ms/step - loss: 0.1260 - accuracy: 0.9470\n",
      "Epoch 457/500\n",
      "15/15 [==============================] - 0s 5ms/step - loss: 0.1286 - accuracy: 0.9470\n",
      "Epoch 458/500\n",
      "15/15 [==============================] - 0s 6ms/step - loss: 0.1285 - accuracy: 0.9492\n",
      "Epoch 459/500\n",
      "15/15 [==============================] - 0s 7ms/step - loss: 0.1276 - accuracy: 0.9448\n",
      "Epoch 460/500\n",
      "15/15 [==============================] - 0s 6ms/step - loss: 0.1256 - accuracy: 0.9514\n",
      "Epoch 461/500\n",
      "15/15 [==============================] - 0s 6ms/step - loss: 0.1246 - accuracy: 0.9470\n",
      "Epoch 462/500\n",
      "15/15 [==============================] - 0s 6ms/step - loss: 0.1253 - accuracy: 0.9426\n",
      "Epoch 463/500\n",
      "15/15 [==============================] - 0s 6ms/step - loss: 0.1244 - accuracy: 0.9536\n",
      "Epoch 464/500\n",
      "15/15 [==============================] - 0s 5ms/step - loss: 0.1244 - accuracy: 0.9470\n",
      "Epoch 465/500\n",
      "15/15 [==============================] - 0s 6ms/step - loss: 0.1240 - accuracy: 0.9492\n",
      "Epoch 466/500\n",
      "15/15 [==============================] - 0s 6ms/step - loss: 0.1243 - accuracy: 0.9448\n",
      "Epoch 467/500\n",
      "15/15 [==============================] - 0s 7ms/step - loss: 0.1247 - accuracy: 0.9448\n",
      "Epoch 468/500\n",
      "15/15 [==============================] - 0s 6ms/step - loss: 0.1236 - accuracy: 0.9514\n",
      "Epoch 469/500\n",
      "15/15 [==============================] - 0s 6ms/step - loss: 0.1225 - accuracy: 0.9426\n",
      "Epoch 470/500\n",
      "15/15 [==============================] - 0s 6ms/step - loss: 0.1237 - accuracy: 0.9404\n",
      "Epoch 471/500\n",
      "15/15 [==============================] - 0s 6ms/step - loss: 0.1232 - accuracy: 0.9382\n",
      "Epoch 472/500\n",
      "15/15 [==============================] - 0s 6ms/step - loss: 0.1235 - accuracy: 0.9492\n",
      "Epoch 473/500\n",
      "15/15 [==============================] - 0s 7ms/step - loss: 0.1216 - accuracy: 0.9492\n",
      "Epoch 474/500\n",
      "15/15 [==============================] - 0s 6ms/step - loss: 0.1224 - accuracy: 0.9448\n",
      "Epoch 475/500\n",
      "15/15 [==============================] - 0s 7ms/step - loss: 0.1216 - accuracy: 0.9492\n",
      "Epoch 476/500\n",
      "15/15 [==============================] - 0s 6ms/step - loss: 0.1208 - accuracy: 0.9514\n",
      "Epoch 477/500\n",
      "15/15 [==============================] - 0s 6ms/step - loss: 0.1203 - accuracy: 0.9448\n",
      "Epoch 478/500\n",
      "15/15 [==============================] - 0s 6ms/step - loss: 0.1205 - accuracy: 0.9492\n",
      "Epoch 479/500\n",
      "15/15 [==============================] - 0s 6ms/step - loss: 0.1213 - accuracy: 0.9448\n",
      "Epoch 480/500\n",
      "15/15 [==============================] - 0s 6ms/step - loss: 0.1199 - accuracy: 0.9514\n",
      "Epoch 481/500\n",
      "15/15 [==============================] - 0s 6ms/step - loss: 0.1200 - accuracy: 0.9514\n",
      "Epoch 482/500\n",
      "15/15 [==============================] - 0s 6ms/step - loss: 0.1200 - accuracy: 0.9470\n",
      "Epoch 483/500\n",
      "15/15 [==============================] - 0s 6ms/step - loss: 0.1199 - accuracy: 0.9470\n",
      "Epoch 484/500\n",
      "15/15 [==============================] - 0s 6ms/step - loss: 0.1202 - accuracy: 0.9448\n",
      "Epoch 485/500\n",
      "15/15 [==============================] - 0s 6ms/step - loss: 0.1191 - accuracy: 0.9470\n",
      "Epoch 486/500\n",
      "15/15 [==============================] - 0s 6ms/step - loss: 0.1192 - accuracy: 0.9470\n",
      "Epoch 487/500\n",
      "15/15 [==============================] - 0s 6ms/step - loss: 0.1184 - accuracy: 0.9470\n",
      "Epoch 488/500\n",
      "15/15 [==============================] - 0s 7ms/step - loss: 0.1186 - accuracy: 0.9470\n",
      "Epoch 489/500\n",
      "15/15 [==============================] - 0s 6ms/step - loss: 0.1195 - accuracy: 0.9426\n",
      "Epoch 490/500\n",
      "15/15 [==============================] - 0s 6ms/step - loss: 0.1182 - accuracy: 0.9470\n",
      "Epoch 491/500\n",
      "15/15 [==============================] - 0s 6ms/step - loss: 0.1185 - accuracy: 0.9448\n",
      "Epoch 492/500\n",
      "15/15 [==============================] - 0s 6ms/step - loss: 0.1175 - accuracy: 0.9514\n",
      "Epoch 493/500\n",
      "15/15 [==============================] - 0s 6ms/step - loss: 0.1173 - accuracy: 0.9426\n",
      "Epoch 494/500\n",
      "15/15 [==============================] - 0s 6ms/step - loss: 0.1168 - accuracy: 0.9382\n",
      "Epoch 495/500\n",
      "15/15 [==============================] - 0s 6ms/step - loss: 0.1169 - accuracy: 0.9448\n",
      "Epoch 496/500\n",
      "15/15 [==============================] - 0s 6ms/step - loss: 0.1168 - accuracy: 0.9470\n",
      "Epoch 497/500\n",
      "15/15 [==============================] - 0s 6ms/step - loss: 0.1168 - accuracy: 0.9448\n",
      "Epoch 498/500\n",
      "15/15 [==============================] - 0s 6ms/step - loss: 0.1159 - accuracy: 0.9514\n",
      "Epoch 499/500\n",
      "15/15 [==============================] - 0s 6ms/step - loss: 0.1168 - accuracy: 0.9514\n",
      "Epoch 500/500\n",
      "15/15 [==============================] - 0s 6ms/step - loss: 0.1168 - accuracy: 0.9514\n"
     ]
    }
   ],
   "source": [
    "# Train the model\n",
    "history = model.fit(xs, ys, epochs=500)"
   ]
  },
  {
   "cell_type": "markdown",
   "metadata": {
    "id": "hRwgZjJxDTqh"
   },
   "source": [
    "You can visualize the results with the utility below. With the default settings, you should see around 95% accuracy after 500 epochs."
   ]
  },
  {
   "cell_type": "code",
   "execution_count": 26,
   "metadata": {
    "colab": {
     "base_uri": "https://localhost:8080/",
     "height": 283
    },
    "executionInfo": {
     "elapsed": 8,
     "status": "ok",
     "timestamp": 1664871383283,
     "user": {
      "displayName": "Nuttasit Phasukdee",
      "userId": "18189687788475661690"
     },
     "user_tz": -420
    },
    "id": "3YXGelKThoTT",
    "outputId": "72a93bbc-6bdd-4c2f-a335-73ee0b827e79"
   },
   "outputs": [
    {
     "data": {
      "image/png": "[encoded data removed]",
      "text/plain": [
       "<Figure size 432x288 with 1 Axes>"
      ]
     },
     "metadata": {
      "needs_background": "light"
     },
     "output_type": "display_data"
    }
   ],
   "source": [
    "import matplotlib.pyplot as plt\n",
    "\n",
    "# Plot utility\n",
    "def plot_graphs(history, string):\n",
    "    plt.plot(history.history[string])\n",
    "    plt.xlabel(\"Epochs\")\n",
    "    plt.ylabel(string)\n",
    "    plt.show()\n",
    "\n",
    "# Visualize the accuracy\n",
    "plot_graphs(history, 'accuracy')"
   ]
  },
  {
   "cell_type": "markdown",
   "metadata": {
    "id": "NUmA472NDn_v"
   },
   "source": [
    "## Generating Text\n",
    "\n",
    "With the model trained, you can now use it to make its own song! The process would look like:\n",
    "\n",
    "1. Feed a seed text to initiate the process.\n",
    "2. Model predicts the index of the most probable next word.\n",
    "3. Look up the index in the reverse word index dictionary\n",
    "4. Append the next word to the seed text.\n",
    "5. Feed the result to the model again.\n",
    "\n",
    "Steps 2 to 5 will repeat until the desired length of the song is reached. See how it is implemented in the code below:"
   ]
  },
  {
   "cell_type": "code",
   "execution_count": 27,
   "metadata": {
    "colab": {
     "base_uri": "https://localhost:8080/"
    },
    "executionInfo": {
     "elapsed": 4534,
     "status": "ok",
     "timestamp": 1664871400479,
     "user": {
      "displayName": "Nuttasit Phasukdee",
      "userId": "18189687788475661690"
     },
     "user_tz": -420
    },
    "id": "6Vc6PHgxa6Hm",
    "outputId": "fdac60bc-9556-49fd-c053-862ba21b881f"
   },
   "outputs": [
    {
     "name": "stdout",
     "output_type": "stream",
     "text": [
      "Laurence went to Dublin fainted and cried meelia ground cask mchugh fainted stepped in a minute strangled strangled hall be call hall hall sure didnt ball suppose dancing hall arrived strangled strangled strangled hall be strangled hall hall sure spent nelly learn were runctions chaneys again at the ladies ladies same a red a man again again a call call call water ground much again i peggy mcgilligan glisten hall hall fainted in fainted as hall water arrived hall hall hall fainted stepped odaly weeks learn and i ask ask might ask ask strangled strangled arrived strangled strangled strangled strangled being strangled hall youll\n"
     ]
    }
   ],
   "source": [
    "# Define seed text\n",
    "seed_text = \"Laurence went to Dublin\"\n",
    "\n",
    "# Define total words to predict\n",
    "next_words = 100\n",
    "\n",
    "# Loop until desired length is reached\n",
    "for _ in range(next_words):\n",
    "\n",
    "\t# Convert the seed text to a token sequence\n",
    "\ttoken_list = tokenizer.texts_to_sequences([seed_text])[0]\n",
    "\n",
    "\t# Pad the sequence\n",
    "\ttoken_list = pad_sequences([token_list], maxlen=max_sequence_len-1, padding='pre')\n",
    "\t\n",
    "\t# Feed to the model and get the probabilities for each index\n",
    "\tprobabilities = model.predict(token_list)\n",
    "\n",
    "\t# Get the index with the highest probability\n",
    "\tpredicted = np.argmax(probabilities, axis=-1)[0]\n",
    "\n",
    "\t# Ignore if index is 0 because that is just the padding.\n",
    "\tif predicted != 0:\n",
    "\t\t\n",
    "\t\t# Look up the word associated with the index. \n",
    "\t\toutput_word = tokenizer.index_word[predicted]\n",
    "\n",
    "\t\t# Combine with the seed text\n",
    "\t\tseed_text += \" \" + output_word\n",
    "\n",
    "# Print the result\t\n",
    "print(seed_text)"
   ]
  },
  {
   "cell_type": "markdown",
   "metadata": {
    "id": "HU7eZOKiFydr"
   },
   "source": [
    "In the output above, you might notice frequent repetition of words the longer the sentence gets. There are ways to get around it and the next cell shows one. Basically, instead of getting the index with max probability, you will get the top three indices and choose one at random. See if the output text makes more sense with this approach. This is not the most time efficient solution because it is always sorting the entire array even if you only need the top three. Feel free to improve it and of course, you can also develop your own method of picking the next word."
   ]
  },
  {
   "cell_type": "code",
   "execution_count": 29,
   "metadata": {
    "colab": {
     "base_uri": "https://localhost:8080/"
    },
    "executionInfo": {
     "elapsed": 4227,
     "status": "ok",
     "timestamp": 1664871430706,
     "user": {
      "displayName": "Nuttasit Phasukdee",
      "userId": "18189687788475661690"
     },
     "user_tz": -420
    },
    "id": "JZqJKIpgkiYt",
    "outputId": "a5808009-d945-41cd-9861-b42c7b9c0701"
   },
   "outputs": [
    {
     "name": "stdout",
     "output_type": "stream",
     "text": [
      "Laurence went to Dublin and ten declared was painted big kerrigan free fall academy academy lanigan wall wall a call hall hall ground town learn by a wine for for wall wall the ladies table eyes them they a glisten pound colleen them relations wall wall to table wall hearty they all the kerrigan got wall wall got wall then all there the hall being kerrigan then the strangled table being youll hall strangled hall arrived with glisten hall hall introduction be ask strangled hoops dolans ogradys strangled hall fair table hall arrived kerrigan got wall free fall fall give free academy weeks relations\n"
     ]
    }
   ],
   "source": [
    "# Define seed text\n",
    "seed_text = \"Laurence went to Dublin\"\n",
    "\n",
    "# Define total words to predict\n",
    "next_words = 100\n",
    "\n",
    "# Loop until desired length is reached\n",
    "for _ in range(next_words):\n",
    "\n",
    "    # Convert the seed text to a token sequence\n",
    "    token_list = tokenizer.texts_to_sequences([seed_text])[0]\n",
    "\n",
    "    # Pad the sequence\n",
    "    token_list = pad_sequences([token_list], maxlen=max_sequence_len-1, padding='pre')\n",
    "\n",
    "    # Feed to the model and get the probabilities for each index\n",
    "    probabilities = model.predict(token_list)\n",
    "\n",
    "    # Pick a random number from [1,2,3]\n",
    "    choice = np.random.choice([1,2,3])\n",
    "\n",
    "    # Sort the probabilities in ascending order \n",
    "    # and get the random choice from the end of the array\n",
    "    predicted = np.argsort(probabilities)[0][-choice]\n",
    "\n",
    "\t# Ignore if index is 0 because that is just the padding.\n",
    "    if predicted != 0:\n",
    "\t\t\n",
    "        # Look up the word associated with the index. \n",
    "        output_word = tokenizer.index_word[predicted]\n",
    "\n",
    "        # Combine with the seed text\n",
    "        seed_text += \" \" + output_word\n",
    "\n",
    "# Print the result\t\n",
    "print(seed_text)"
   ]
  },
  {
   "cell_type": "markdown",
   "metadata": {
    "id": "dXg6aEu5dKiV"
   },
   "source": [
    "## Wrap Up\n",
    "\n",
    "In this lab, you got a first look at preparing data and building a model for text generation. The corpus is fairly small in this particular exercise and in the next lessons, you will be building one from a larger body of text. See you there!"
   ]
  }
 ],
 "metadata": {
  "colab": {
   "collapsed_sections": [],
   "provenance": [],
   "toc_visible": true
  },
  "kernelspec": {
   "display_name": "Python 3 (ipykernel)",
   "language": "python",
   "name": "python3"
  },
  "language_info": {
   "codemirror_mode": {
    "name": "ipython",
    "version": 3
   },
   "file_extension": ".py",
   "mimetype": "text/x-python",
   "name": "python",
   "nbconvert_exporter": "python",
   "pygments_lexer": "ipython3",
   "version": "3.8.13"
  }
 },
 "nbformat": 4,
 "nbformat_minor": 1
}
