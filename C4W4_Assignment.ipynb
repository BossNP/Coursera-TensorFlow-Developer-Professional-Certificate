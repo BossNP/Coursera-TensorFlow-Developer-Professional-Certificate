{
 "cells": [
  {
   "cell_type": "markdown",
   "metadata": {
    "id": "CJGZpraPAKkj"
   },
   "source": [
    "# Week 4: Using real world data\n",
    "\n",
    "Welcome! So far you have worked exclusively with generated data. This time you will be using the [Daily Minimum Temperatures in Melbourne](https://github.com/jbrownlee/Datasets/blob/master/daily-min-temperatures.csv) dataset which contains data of the daily minimum temperatures recorded in Melbourne from 1981 to 1990. In addition to be using Tensorflow's layers for processing sequence data such as Recurrent layers or LSTMs you will also use Convolutional layers to improve the model's performance.\n",
    "\n",
    "Let's get started!"
   ]
  },
  {
   "cell_type": "code",
   "execution_count": 1,
   "metadata": {
    "executionInfo": {
     "elapsed": 2100,
     "status": "ok",
     "timestamp": 1665238425945,
     "user": {
      "displayName": "Nuttasit Phasukdee",
      "userId": "18189687788475661690"
     },
     "user_tz": -420
    },
    "id": "56XEQOGknrAk"
   },
   "outputs": [],
   "source": [
    "import csv\n",
    "import pickle\n",
    "import numpy as np\n",
    "import tensorflow as tf\n",
    "import matplotlib.pyplot as plt\n",
    "from dataclasses import dataclass"
   ]
  },
  {
   "cell_type": "markdown",
   "metadata": {
    "id": "6xe21xv3AKkp"
   },
   "source": [
    "Begin by looking at the structure of the csv that contains the data:"
   ]
  },
  {
   "cell_type": "code",
   "execution_count": 2,
   "metadata": {
    "colab": {
     "base_uri": "https://localhost:8080/"
    },
    "executionInfo": {
     "elapsed": 22,
     "status": "ok",
     "timestamp": 1665238425947,
     "user": {
      "displayName": "Nuttasit Phasukdee",
      "userId": "18189687788475661690"
     },
     "user_tz": -420
    },
    "id": "nVj-jq7TAKkp",
    "outputId": "3b2395ad-f65a-4501-fb1f-0e1d3844a018"
   },
   "outputs": [
    {
     "name": "stdout",
     "output_type": "stream",
     "text": [
      "Header looks like this:\n",
      "\n",
      "\"Date\",\"Temp\"\n",
      "\n",
      "First data point looks like this:\n",
      "\n",
      "\"1981-01-01\",20.7\n",
      "\n",
      "Second data point looks like this:\n",
      "\n",
      "\"1981-01-02\",17.9\n",
      "\n"
     ]
    }
   ],
   "source": [
    "TEMPERATURES_CSV = './data/daily-min-temperatures.csv'\n",
    "\n",
    "with open(TEMPERATURES_CSV, 'r') as csvfile:\n",
    "    print(f\"Header looks like this:\\n\\n{csvfile.readline()}\")    \n",
    "    print(f\"First data point looks like this:\\n\\n{csvfile.readline()}\")\n",
    "    print(f\"Second data point looks like this:\\n\\n{csvfile.readline()}\")"
   ]
  },
  {
   "cell_type": "markdown",
   "metadata": {
    "id": "jHVv7MvTAKkq"
   },
   "source": [
    "As you can see, each data point is composed of the date and the recorded minimum temperature for that date.\n",
    "\n",
    "\n",
    "In the first exercise you will code a function to read the data from the csv but for now run the next cell to load a helper function to plot the time series."
   ]
  },
  {
   "cell_type": "code",
   "execution_count": 3,
   "metadata": {
    "executionInfo": {
     "elapsed": 15,
     "status": "ok",
     "timestamp": 1665238425947,
     "user": {
      "displayName": "Nuttasit Phasukdee",
      "userId": "18189687788475661690"
     },
     "user_tz": -420
    },
    "id": "sLl52leVp5wU"
   },
   "outputs": [],
   "source": [
    "def plot_series(time, series, format=\"-\", start=0, end=None):\n",
    "    plt.plot(time[start:end], series[start:end], format)\n",
    "    plt.xlabel(\"Time\")\n",
    "    plt.ylabel(\"Value\")\n",
    "    plt.grid(True)"
   ]
  },
  {
   "cell_type": "markdown",
   "metadata": {
    "id": "PQf37y7_AKkq"
   },
   "source": [
    "## Parsing the raw data\n",
    "Now you need to read the data from the csv file. To do so, complete the `parse_data_from_file` function.\n",
    "\n",
    "A couple of things to note:\n",
    "\n",
    "- You should omit the first line as the file contains headers.\n",
    "- There is no need to save the data points as numpy arrays, regular lists is fine.\n",
    "- To read from csv files use `csv.reader` by passing the appropriate arguments.\n",
    "- `csv.reader` returns an iterable that returns each row in every iteration. So the temperature can be accessed via row[1] and the date can be discarded.\n",
    "- The `times` list should contain every timestep (starting at zero), which is just a sequence of ordered numbers with the same length as the `temperatures` list.\n",
    "- The values of the `temperatures` should be of `float` type. You can use Python's built-in `float` function to ensure this."
   ]
  },
  {
   "cell_type": "code",
   "execution_count": 4,
   "metadata": {
    "executionInfo": {
     "elapsed": 14,
     "status": "ok",
     "timestamp": 1665238425948,
     "user": {
      "displayName": "Nuttasit Phasukdee",
      "userId": "18189687788475661690"
     },
     "user_tz": -420
    },
    "id": "NcG9r1eClbTh"
   },
   "outputs": [],
   "source": [
    "def parse_data_from_file(filename):\n",
    "    \n",
    "    times = []\n",
    "    temperatures = []\n",
    "\n",
    "    with open(filename) as csvfile:\n",
    "        \n",
    "        ### START CODE HERE\n",
    "        \n",
    "        reader = csv.reader(csvfile, delimiter=\",\")\n",
    "        timestep = 0\n",
    "\n",
    "        # Skip the header\n",
    "        next(reader)\n",
    "\n",
    "        for row in reader:\n",
    "\n",
    "            times.append(timestep)\n",
    "            temperatures.append(np.float(row[1]))\n",
    "\n",
    "            timestep += 1\n",
    "\n",
    "        ### END CODE HERE\n",
    "            \n",
    "    return times, temperatures\n"
   ]
  },
  {
   "cell_type": "markdown",
   "metadata": {
    "id": "TLKWD0Z0AKks"
   },
   "source": [
    "The next cell will use your function to compute the `times` and `temperatures` and will save these as numpy arrays within the `G` dataclass. This cell will also plot the time series:"
   ]
  },
  {
   "cell_type": "code",
   "execution_count": 5,
   "metadata": {
    "colab": {
     "base_uri": "https://localhost:8080/",
     "height": 443
    },
    "executionInfo": {
     "elapsed": 886,
     "status": "ok",
     "timestamp": 1665238426821,
     "user": {
      "displayName": "Nuttasit Phasukdee",
      "userId": "18189687788475661690"
     },
     "user_tz": -420
    },
    "id": "XyZlxrn7AKkt",
    "outputId": "d824cb10-97f7-4f35-e08d-3c92e7016841"
   },
   "outputs": [
    {
     "name": "stderr",
     "output_type": "stream",
     "text": [
      "/usr/local/lib/python3.7/dist-packages/ipykernel_launcher.py:19: DeprecationWarning: `np.float` is a deprecated alias for the builtin `float`. To silence this warning, use `float` by itself. Doing this will not modify any behavior and is safe. If you specifically wanted the numpy scalar type, use `np.float64` here.\n",
      "Deprecated in NumPy 1.20; for more details and guidance: https://numpy.org/devdocs/release/1.20.0-notes.html#deprecations\n"
     ]
    },
    {
     "data": {
      "image/png": "[encoded data removed]",
      "text/plain": [
       "<Figure size 720x432 with 1 Axes>"
      ]
     },
     "metadata": {
      "needs_background": "light"
     },
     "output_type": "display_data"
    }
   ],
   "source": [
    "# Test your function and save all \"global\" variables within the G class (G stands for global)\n",
    "@dataclass\n",
    "class G:\n",
    "    TEMPERATURES_CSV = './data/daily-min-temperatures.csv'\n",
    "    times, temperatures = parse_data_from_file(TEMPERATURES_CSV)\n",
    "    TIME = np.array(times)\n",
    "    SERIES = np.array(temperatures)\n",
    "    SPLIT_TIME = 2500\n",
    "    WINDOW_SIZE = 64\n",
    "    BATCH_SIZE = 256\n",
    "    SHUFFLE_BUFFER_SIZE = 1000\n",
    "\n",
    "plt.figure(figsize=(10, 6))\n",
    "plot_series(G.TIME, G.SERIES)\n",
    "plt.show()"
   ]
  },
  {
   "cell_type": "code",
   "execution_count": 6,
   "metadata": {
    "colab": {
     "base_uri": "https://localhost:8080/"
    },
    "executionInfo": {
     "elapsed": 11,
     "status": "ok",
     "timestamp": 1665238426822,
     "user": {
      "displayName": "Nuttasit Phasukdee",
      "userId": "18189687788475661690"
     },
     "user_tz": -420
    },
    "id": "vd7o_vkV7hFx",
    "outputId": "2a2fbf3e-926c-41b3-a2d8-b0903992ae97"
   },
   "outputs": [
    {
     "name": "stdout",
     "output_type": "stream",
     "text": [
      "(3650,) (3650,)\n",
      "<class 'numpy.ndarray'> <class 'numpy.ndarray'>\n",
      "int64 float64\n"
     ]
    }
   ],
   "source": [
    "print(G.TIME.shape, G.SERIES.shape)\n",
    "print(type(G.TIME), type(G.SERIES))\n",
    "print(G.TIME.dtype, G.SERIES.dtype)"
   ]
  },
  {
   "cell_type": "code",
   "execution_count": 7,
   "metadata": {
    "colab": {
     "base_uri": "https://localhost:8080/"
    },
    "executionInfo": {
     "elapsed": 9,
     "status": "ok",
     "timestamp": 1665238426822,
     "user": {
      "displayName": "Nuttasit Phasukdee",
      "userId": "18189687788475661690"
     },
     "user_tz": -420
    },
    "id": "6fTV0m3C7Xp_",
    "outputId": "8f732797-cda3-4c2b-bf56-7ac02bd7c568"
   },
   "outputs": [
    {
     "data": {
      "text/plain": [
       "array([   0,    1,    2, ..., 3647, 3648, 3649])"
      ]
     },
     "execution_count": 7,
     "metadata": {},
     "output_type": "execute_result"
    }
   ],
   "source": [
    "G.TIME"
   ]
  },
  {
   "cell_type": "code",
   "execution_count": 8,
   "metadata": {
    "colab": {
     "base_uri": "https://localhost:8080/"
    },
    "executionInfo": {
     "elapsed": 7,
     "status": "ok",
     "timestamp": 1665238426822,
     "user": {
      "displayName": "Nuttasit Phasukdee",
      "userId": "18189687788475661690"
     },
     "user_tz": -420
    },
    "id": "SNrnCIAg7bn6",
    "outputId": "f7efab85-7bea-4c24-d10c-b63874d3971a"
   },
   "outputs": [
    {
     "data": {
      "text/plain": [
       "array([20.7, 17.9, 18.8, ..., 13.5, 15.7, 13. ])"
      ]
     },
     "execution_count": 8,
     "metadata": {},
     "output_type": "execute_result"
    }
   ],
   "source": [
    "G.SERIES"
   ]
  },
  {
   "cell_type": "markdown",
   "metadata": {
    "id": "IaN-1hgrAKkt"
   },
   "source": [
    "**Expected Output:**\n",
    "<div>\n",
    "<img src=\"images/temp-series.png\" width=\"500\"/>\n",
    "</div>"
   ]
  },
  {
   "cell_type": "markdown",
   "metadata": {
    "id": "PiHxpqeKAKkt"
   },
   "source": [
    "## Processing the data\n",
    "\n",
    "Since you already coded the `train_val_split` and `windowed_dataset` functions during past week's assignments, this time they are provided for you:"
   ]
  },
  {
   "cell_type": "code",
   "execution_count": 9,
   "metadata": {
    "executionInfo": {
     "elapsed": 5,
     "status": "ok",
     "timestamp": 1665238426822,
     "user": {
      "displayName": "Nuttasit Phasukdee",
      "userId": "18189687788475661690"
     },
     "user_tz": -420
    },
    "id": "0wJtvtTBAKku"
   },
   "outputs": [],
   "source": [
    "def train_val_split(time, series, time_step=G.SPLIT_TIME):\n",
    "\n",
    "    time_train = time[:time_step]\n",
    "    series_train = series[:time_step]\n",
    "    time_valid = time[time_step:]\n",
    "    series_valid = series[time_step:]\n",
    "\n",
    "    return time_train, series_train, time_valid, series_valid\n",
    "\n",
    "\n",
    "# Split the dataset\n",
    "time_train, series_train, time_valid, series_valid = train_val_split(G.TIME, G.SERIES)"
   ]
  },
  {
   "cell_type": "code",
   "execution_count": 10,
   "metadata": {
    "colab": {
     "base_uri": "https://localhost:8080/"
    },
    "executionInfo": {
     "elapsed": 6,
     "status": "ok",
     "timestamp": 1665238426823,
     "user": {
      "displayName": "Nuttasit Phasukdee",
      "userId": "18189687788475661690"
     },
     "user_tz": -420
    },
    "id": "LNY-DB3v6E2u",
    "outputId": "76f4f647-aac3-46cb-ae16-5bdb0b39eec9"
   },
   "outputs": [
    {
     "name": "stdout",
     "output_type": "stream",
     "text": [
      "(2500,) (2500,) (1150,) (1150,)\n"
     ]
    }
   ],
   "source": [
    "print(time_train.shape, series_train.shape, time_valid.shape, series_valid.shape)"
   ]
  },
  {
   "cell_type": "code",
   "execution_count": 11,
   "metadata": {
    "executionInfo": {
     "elapsed": 15,
     "status": "ok",
     "timestamp": 1665238429095,
     "user": {
      "displayName": "Nuttasit Phasukdee",
      "userId": "18189687788475661690"
     },
     "user_tz": -420
    },
    "id": "lJwUUZscnG38"
   },
   "outputs": [],
   "source": [
    "def windowed_dataset(series, window_size=G.WINDOW_SIZE, batch_size=G.BATCH_SIZE, shuffle_buffer=G.SHUFFLE_BUFFER_SIZE):\n",
    "    ds = tf.data.Dataset.from_tensor_slices(series)\n",
    "    ds = ds.window(window_size + 1, shift=1, drop_remainder=True)\n",
    "    ds = ds.flat_map(lambda w: w.batch(window_size + 1))\n",
    "    ds = ds.shuffle(shuffle_buffer)\n",
    "    ds = ds.map(lambda w: (w[:-1], w[-1]))\n",
    "    ds = ds.batch(batch_size).prefetch(1)\n",
    "    return ds\n",
    "\n",
    "\n",
    "# Apply the transformation to the training set\n",
    "train_set = windowed_dataset(series_train, window_size=64, batch_size=256, shuffle_buffer=1000)"
   ]
  },
  {
   "cell_type": "markdown",
   "metadata": {
    "id": "hhiRE70MAKku"
   },
   "source": [
    "## Defining the model architecture\n",
    "\n",
    "Now that you have a function that will process the data before it is fed into your neural network for training, it is time to define your layer architecture. Just as in last week's assignment you will do the layer definition and compilation in two separate steps. Begin by completing the `create_uncompiled_model` function below.\n",
    "\n",
    "This is done so you can reuse your model's layers for the learning rate adjusting and the actual training.\n",
    "\n",
    "Hint:\n",
    "\n",
    "- No `Lambda` layers are required\n",
    "- Use a combination of `Conv1D` and `LSTM` layers followed by `Dense` layers"
   ]
  },
  {
   "cell_type": "code",
   "execution_count": 12,
   "metadata": {
    "executionInfo": {
     "elapsed": 14,
     "status": "ok",
     "timestamp": 1665238429096,
     "user": {
      "displayName": "Nuttasit Phasukdee",
      "userId": "18189687788475661690"
     },
     "user_tz": -420
    },
    "id": "4L52j2joAKkv"
   },
   "outputs": [],
   "source": [
    "def create_uncompiled_model():\n",
    "\n",
    "    ### START CODE HERE\n",
    "    \n",
    "    model = tf.keras.models.Sequential([\n",
    "        tf.keras.layers.Conv1D(filters=32, kernel_size=5,\n",
    "                      strides=1, padding=\"causal\",\n",
    "                      activation=\"relu\",\n",
    "                      input_shape=[G.WINDOW_SIZE, 1]),\n",
    "        tf.keras.layers.LSTM(48, return_sequences=True),\n",
    "        tf.keras.layers.LSTM(24),\n",
    "        tf.keras.layers.Dense(20, activation=\"relu\"),\n",
    "        tf.keras.layers.Dense(10, activation=\"relu\"),\n",
    "        tf.keras.layers.Dense(1),\n",
    "        tf.keras.layers.Lambda(lambda x: x * 400)\n",
    "    ]) \n",
    "    \n",
    "    ### END CODE HERE\n",
    "\n",
    "    return model"
   ]
  },
  {
   "cell_type": "code",
   "execution_count": 13,
   "metadata": {
    "colab": {
     "base_uri": "https://localhost:8080/"
    },
    "executionInfo": {
     "elapsed": 15515,
     "status": "ok",
     "timestamp": 1665238444599,
     "user": {
      "displayName": "Nuttasit Phasukdee",
      "userId": "18189687788475661690"
     },
     "user_tz": -420
    },
    "id": "Y9Kh5MXaAKkv",
    "outputId": "8fc114c8-385f-4315-9a01-9a4edcc19ef5"
   },
   "outputs": [
    {
     "name": "stdout",
     "output_type": "stream",
     "text": [
      "Model: \"sequential\"\n",
      "_________________________________________________________________\n",
      " Layer (type)                Output Shape              Param #   \n",
      "=================================================================\n",
      " conv1d (Conv1D)             (None, 64, 32)            192       \n",
      "                                                                 \n",
      " lstm (LSTM)                 (None, 64, 48)            15552     \n",
      "                                                                 \n",
      " lstm_1 (LSTM)               (None, 24)                7008      \n",
      "                                                                 \n",
      " dense (Dense)               (None, 20)                500       \n",
      "                                                                 \n",
      " dense_1 (Dense)             (None, 10)                210       \n",
      "                                                                 \n",
      " dense_2 (Dense)             (None, 1)                 11        \n",
      "                                                                 \n",
      " lambda (Lambda)             (None, 1)                 0         \n",
      "                                                                 \n",
      "=================================================================\n",
      "Total params: 23,473\n",
      "Trainable params: 23,473\n",
      "Non-trainable params: 0\n",
      "_________________________________________________________________\n",
      "None\n",
      "Your current architecture is compatible with the windowed dataset! :)\n"
     ]
    }
   ],
   "source": [
    "# Test your uncompiled model\n",
    "uncompiled_model = create_uncompiled_model()\n",
    "\n",
    "print(uncompiled_model.summary())\n",
    "\n",
    "try:\n",
    "    uncompiled_model.predict(train_set)\n",
    "except:\n",
    "    print(\"Your current architecture is incompatible with the windowed dataset, try adjusting it.\")\n",
    "else:\n",
    "    print(\"Your current architecture is compatible with the windowed dataset! :)\")"
   ]
  },
  {
   "cell_type": "markdown",
   "metadata": {
    "id": "pMGOdi2gAKkv"
   },
   "source": [
    "## Adjusting the learning rate - (Optional Exercise)\n",
    "\n",
    "As you saw in the lecture you can leverage Tensorflow's callbacks to dinamically vary the learning rate during training. This can be helpful to get a better sense of which learning rate better acommodates to the problem at hand.\n",
    "\n",
    "**Notice that this is only changing the learning rate during the training process to give you an idea of what a reasonable learning rate is and should not be confused with selecting the best learning rate, this is known as hyperparameter optimization and it is outside the scope of this course.**\n",
    "\n",
    "For the optimizers you can try out:\n",
    "\n",
    "- tf.keras.optimizers.Adam\n",
    "- tf.keras.optimizers.SGD with a momentum of 0.9"
   ]
  },
  {
   "cell_type": "code",
   "execution_count": 14,
   "metadata": {
    "executionInfo": {
     "elapsed": 12,
     "status": "ok",
     "timestamp": 1665238444599,
     "user": {
      "displayName": "Nuttasit Phasukdee",
      "userId": "18189687788475661690"
     },
     "user_tz": -420
    },
    "id": "xeZRG2y0AKkv"
   },
   "outputs": [],
   "source": [
    "def adjust_learning_rate(dataset):\n",
    "    \n",
    "    model = create_uncompiled_model()\n",
    "    \n",
    "    lr_schedule = tf.keras.callbacks.LearningRateScheduler(lambda epoch: 1e-7 * 10**(epoch / 20))\n",
    "    \n",
    "    ### START CODE HERE\n",
    "    \n",
    "    # Select your optimizer\n",
    "    optimizer = tf.keras.optimizers.SGD(momentum=0.9)\n",
    "    \n",
    "    # Compile the model passing in the appropriate loss\n",
    "    model.compile(loss=tf.keras.losses.Huber(),\n",
    "                  optimizer=optimizer, \n",
    "                  metrics=[\"mae\"]) \n",
    "    \n",
    "    ### END CODE HERE\n",
    "    \n",
    "    history = model.fit(dataset, epochs=100, callbacks=[lr_schedule])\n",
    "    \n",
    "    return history"
   ]
  },
  {
   "cell_type": "code",
   "execution_count": 15,
   "metadata": {
    "colab": {
     "base_uri": "https://localhost:8080/"
    },
    "executionInfo": {
     "elapsed": 60467,
     "status": "ok",
     "timestamp": 1665238505055,
     "user": {
      "displayName": "Nuttasit Phasukdee",
      "userId": "18189687788475661690"
     },
     "user_tz": -420
    },
    "id": "3uYeT6iqAKkv",
    "outputId": "3a4bcadb-41b6-4561-cfd8-93896f297555"
   },
   "outputs": [
    {
     "name": "stdout",
     "output_type": "stream",
     "text": [
      "Epoch 1/100\n",
      "10/10 [==============================] - 5s 26ms/step - loss: 132.4903 - mae: 132.9903 - lr: 1.0000e-07\n",
      "Epoch 2/100\n",
      "10/10 [==============================] - 0s 25ms/step - loss: 84.9572 - mae: 85.4572 - lr: 1.1220e-07\n",
      "Epoch 3/100\n",
      "10/10 [==============================] - 0s 24ms/step - loss: 48.0729 - mae: 48.5729 - lr: 1.2589e-07\n",
      "Epoch 4/100\n",
      "10/10 [==============================] - 0s 26ms/step - loss: 29.9274 - mae: 30.4274 - lr: 1.4125e-07\n",
      "Epoch 5/100\n",
      "10/10 [==============================] - 0s 26ms/step - loss: 13.0176 - mae: 13.5141 - lr: 1.5849e-07\n",
      "Epoch 6/100\n",
      "10/10 [==============================] - 0s 25ms/step - loss: 4.4352 - mae: 4.9125 - lr: 1.7783e-07\n",
      "Epoch 7/100\n",
      "10/10 [==============================] - 0s 26ms/step - loss: 4.7349 - mae: 5.2160 - lr: 1.9953e-07\n",
      "Epoch 8/100\n",
      "10/10 [==============================] - 0s 27ms/step - loss: 3.5208 - mae: 3.9946 - lr: 2.2387e-07\n",
      "Epoch 9/100\n",
      "10/10 [==============================] - 0s 25ms/step - loss: 3.2642 - mae: 3.7352 - lr: 2.5119e-07\n",
      "Epoch 10/100\n",
      "10/10 [==============================] - 0s 28ms/step - loss: 3.1465 - mae: 3.6178 - lr: 2.8184e-07\n",
      "Epoch 11/100\n",
      "10/10 [==============================] - 0s 27ms/step - loss: 3.0392 - mae: 3.5099 - lr: 3.1623e-07\n",
      "Epoch 12/100\n",
      "10/10 [==============================] - 0s 27ms/step - loss: 2.9827 - mae: 3.4501 - lr: 3.5481e-07\n",
      "Epoch 13/100\n",
      "10/10 [==============================] - 0s 26ms/step - loss: 2.9445 - mae: 3.4137 - lr: 3.9811e-07\n",
      "Epoch 14/100\n",
      "10/10 [==============================] - 0s 26ms/step - loss: 2.9059 - mae: 3.3726 - lr: 4.4668e-07\n",
      "Epoch 15/100\n",
      "10/10 [==============================] - 0s 26ms/step - loss: 2.8523 - mae: 3.3167 - lr: 5.0119e-07\n",
      "Epoch 16/100\n",
      "10/10 [==============================] - 0s 25ms/step - loss: 2.7720 - mae: 3.2346 - lr: 5.6234e-07\n",
      "Epoch 17/100\n",
      "10/10 [==============================] - 0s 27ms/step - loss: 2.6326 - mae: 3.0960 - lr: 6.3096e-07\n",
      "Epoch 18/100\n",
      "10/10 [==============================] - 0s 28ms/step - loss: 2.4882 - mae: 2.9532 - lr: 7.0795e-07\n",
      "Epoch 19/100\n",
      "10/10 [==============================] - 0s 26ms/step - loss: 2.3829 - mae: 2.8444 - lr: 7.9433e-07\n",
      "Epoch 20/100\n",
      "10/10 [==============================] - 0s 27ms/step - loss: 2.3626 - mae: 2.8224 - lr: 8.9125e-07\n",
      "Epoch 21/100\n",
      "10/10 [==============================] - 0s 26ms/step - loss: 2.3205 - mae: 2.7833 - lr: 1.0000e-06\n",
      "Epoch 22/100\n",
      "10/10 [==============================] - 0s 26ms/step - loss: 2.2984 - mae: 2.7566 - lr: 1.1220e-06\n",
      "Epoch 23/100\n",
      "10/10 [==============================] - 0s 26ms/step - loss: 2.2591 - mae: 2.7177 - lr: 1.2589e-06\n",
      "Epoch 24/100\n",
      "10/10 [==============================] - 0s 28ms/step - loss: 2.2301 - mae: 2.6895 - lr: 1.4125e-06\n",
      "Epoch 25/100\n",
      "10/10 [==============================] - 0s 25ms/step - loss: 2.2246 - mae: 2.6843 - lr: 1.5849e-06\n",
      "Epoch 26/100\n",
      "10/10 [==============================] - 0s 27ms/step - loss: 2.1893 - mae: 2.6480 - lr: 1.7783e-06\n",
      "Epoch 27/100\n",
      "10/10 [==============================] - 0s 27ms/step - loss: 2.1350 - mae: 2.5927 - lr: 1.9953e-06\n",
      "Epoch 28/100\n",
      "10/10 [==============================] - 0s 25ms/step - loss: 2.0975 - mae: 2.5530 - lr: 2.2387e-06\n",
      "Epoch 29/100\n",
      "10/10 [==============================] - 0s 29ms/step - loss: 2.0780 - mae: 2.5358 - lr: 2.5119e-06\n",
      "Epoch 30/100\n",
      "10/10 [==============================] - 0s 26ms/step - loss: 2.0765 - mae: 2.5329 - lr: 2.8184e-06\n",
      "Epoch 31/100\n",
      "10/10 [==============================] - 0s 26ms/step - loss: 2.0895 - mae: 2.5494 - lr: 3.1623e-06\n",
      "Epoch 32/100\n",
      "10/10 [==============================] - 0s 26ms/step - loss: 2.0181 - mae: 2.4750 - lr: 3.5481e-06\n",
      "Epoch 33/100\n",
      "10/10 [==============================] - 0s 25ms/step - loss: 1.9333 - mae: 2.3854 - lr: 3.9811e-06\n",
      "Epoch 34/100\n",
      "10/10 [==============================] - 0s 26ms/step - loss: 1.9026 - mae: 2.3583 - lr: 4.4668e-06\n",
      "Epoch 35/100\n",
      "10/10 [==============================] - 0s 25ms/step - loss: 1.8350 - mae: 2.2849 - lr: 5.0119e-06\n",
      "Epoch 36/100\n",
      "10/10 [==============================] - 0s 27ms/step - loss: 1.8451 - mae: 2.2962 - lr: 5.6234e-06\n",
      "Epoch 37/100\n",
      "10/10 [==============================] - 0s 26ms/step - loss: 1.9331 - mae: 2.3859 - lr: 6.3096e-06\n",
      "Epoch 38/100\n",
      "10/10 [==============================] - 0s 28ms/step - loss: 1.9736 - mae: 2.4322 - lr: 7.0795e-06\n",
      "Epoch 39/100\n",
      "10/10 [==============================] - 0s 26ms/step - loss: 1.9309 - mae: 2.3894 - lr: 7.9433e-06\n",
      "Epoch 40/100\n",
      "10/10 [==============================] - 0s 25ms/step - loss: 1.7631 - mae: 2.2159 - lr: 8.9125e-06\n",
      "Epoch 41/100\n",
      "10/10 [==============================] - 0s 29ms/step - loss: 1.9024 - mae: 2.3560 - lr: 1.0000e-05\n",
      "Epoch 42/100\n",
      "10/10 [==============================] - 0s 27ms/step - loss: 2.2963 - mae: 2.7567 - lr: 1.1220e-05\n",
      "Epoch 43/100\n",
      "10/10 [==============================] - 0s 26ms/step - loss: 2.4547 - mae: 2.9193 - lr: 1.2589e-05\n",
      "Epoch 44/100\n",
      "10/10 [==============================] - 0s 26ms/step - loss: 2.5300 - mae: 2.9974 - lr: 1.4125e-05\n",
      "Epoch 45/100\n",
      "10/10 [==============================] - 0s 26ms/step - loss: 6.1526 - mae: 6.6396 - lr: 1.5849e-05\n",
      "Epoch 46/100\n",
      "10/10 [==============================] - 0s 26ms/step - loss: 9.8204 - mae: 10.3063 - lr: 1.7783e-05\n",
      "Epoch 47/100\n",
      "10/10 [==============================] - 0s 26ms/step - loss: 8.2696 - mae: 8.7624 - lr: 1.9953e-05\n",
      "Epoch 48/100\n",
      "10/10 [==============================] - 0s 26ms/step - loss: 8.3459 - mae: 8.8419 - lr: 2.2387e-05\n",
      "Epoch 49/100\n",
      "10/10 [==============================] - 0s 26ms/step - loss: 8.9738 - mae: 9.4721 - lr: 2.5119e-05\n",
      "Epoch 50/100\n",
      "10/10 [==============================] - 0s 25ms/step - loss: 8.7071 - mae: 9.2027 - lr: 2.8184e-05\n",
      "Epoch 51/100\n",
      "10/10 [==============================] - 0s 25ms/step - loss: 11.9142 - mae: 12.4053 - lr: 3.1623e-05\n",
      "Epoch 52/100\n",
      "10/10 [==============================] - 0s 25ms/step - loss: 16.6439 - mae: 17.1429 - lr: 3.5481e-05\n",
      "Epoch 53/100\n",
      "10/10 [==============================] - 0s 25ms/step - loss: 14.0843 - mae: 14.5803 - lr: 3.9811e-05\n",
      "Epoch 54/100\n",
      "10/10 [==============================] - 0s 28ms/step - loss: 9.4006 - mae: 9.8910 - lr: 4.4668e-05\n",
      "Epoch 55/100\n",
      "10/10 [==============================] - 0s 26ms/step - loss: 4.4177 - mae: 4.9024 - lr: 5.0119e-05\n",
      "Epoch 56/100\n",
      "10/10 [==============================] - 0s 27ms/step - loss: 4.4992 - mae: 4.9779 - lr: 5.6234e-05\n",
      "Epoch 57/100\n",
      "10/10 [==============================] - 0s 25ms/step - loss: 4.1718 - mae: 4.6528 - lr: 6.3096e-05\n",
      "Epoch 58/100\n",
      "10/10 [==============================] - 0s 26ms/step - loss: 9.1129 - mae: 9.5970 - lr: 7.0795e-05\n",
      "Epoch 59/100\n",
      "10/10 [==============================] - 0s 27ms/step - loss: 20.8686 - mae: 21.3650 - lr: 7.9433e-05\n",
      "Epoch 60/100\n",
      "10/10 [==============================] - 0s 27ms/step - loss: 19.3882 - mae: 19.8874 - lr: 8.9125e-05\n",
      "Epoch 61/100\n",
      "10/10 [==============================] - 0s 25ms/step - loss: 14.9211 - mae: 15.4198 - lr: 1.0000e-04\n",
      "Epoch 62/100\n",
      "10/10 [==============================] - 0s 26ms/step - loss: 13.8956 - mae: 14.3922 - lr: 1.1220e-04\n",
      "Epoch 63/100\n",
      "10/10 [==============================] - 0s 27ms/step - loss: 6.1086 - mae: 6.5967 - lr: 1.2589e-04\n",
      "Epoch 64/100\n",
      "10/10 [==============================] - 0s 26ms/step - loss: 6.2479 - mae: 6.7292 - lr: 1.4125e-04\n",
      "Epoch 65/100\n",
      "10/10 [==============================] - 0s 26ms/step - loss: 14.8429 - mae: 15.3411 - lr: 1.5849e-04\n",
      "Epoch 66/100\n",
      "10/10 [==============================] - 0s 24ms/step - loss: 15.0915 - mae: 15.5896 - lr: 1.7783e-04\n",
      "Epoch 67/100\n",
      "10/10 [==============================] - 0s 26ms/step - loss: 16.2827 - mae: 16.7823 - lr: 1.9953e-04\n",
      "Epoch 68/100\n",
      "10/10 [==============================] - 0s 25ms/step - loss: 17.9836 - mae: 18.4836 - lr: 2.2387e-04\n",
      "Epoch 69/100\n",
      "10/10 [==============================] - 0s 26ms/step - loss: 20.7580 - mae: 21.2580 - lr: 2.5119e-04\n",
      "Epoch 70/100\n",
      "10/10 [==============================] - 0s 28ms/step - loss: 22.8123 - mae: 23.3123 - lr: 2.8184e-04\n",
      "Epoch 71/100\n",
      "10/10 [==============================] - 0s 26ms/step - loss: 26.1843 - mae: 26.6843 - lr: 3.1623e-04\n",
      "Epoch 72/100\n",
      "10/10 [==============================] - 0s 26ms/step - loss: 28.8696 - mae: 29.3696 - lr: 3.5481e-04\n",
      "Epoch 73/100\n",
      "10/10 [==============================] - 0s 26ms/step - loss: 33.0668 - mae: 33.5668 - lr: 3.9811e-04\n",
      "Epoch 74/100\n",
      "10/10 [==============================] - 0s 27ms/step - loss: 36.5044 - mae: 37.0044 - lr: 4.4668e-04\n",
      "Epoch 75/100\n",
      "10/10 [==============================] - 0s 26ms/step - loss: 41.9153 - mae: 42.4153 - lr: 5.0119e-04\n",
      "Epoch 76/100\n",
      "10/10 [==============================] - 0s 26ms/step - loss: 45.9627 - mae: 46.4627 - lr: 5.6234e-04\n",
      "Epoch 77/100\n",
      "10/10 [==============================] - 0s 25ms/step - loss: 52.4908 - mae: 52.9908 - lr: 6.3096e-04\n",
      "Epoch 78/100\n",
      "10/10 [==============================] - 0s 25ms/step - loss: 58.1397 - mae: 58.6397 - lr: 7.0795e-04\n",
      "Epoch 79/100\n",
      "10/10 [==============================] - 0s 26ms/step - loss: 66.2468 - mae: 66.7468 - lr: 7.9433e-04\n",
      "Epoch 80/100\n",
      "10/10 [==============================] - 0s 26ms/step - loss: 73.6689 - mae: 74.1689 - lr: 8.9125e-04\n",
      "Epoch 81/100\n",
      "10/10 [==============================] - 0s 26ms/step - loss: 83.3151 - mae: 83.8151 - lr: 0.0010\n",
      "Epoch 82/100\n",
      "10/10 [==============================] - 0s 26ms/step - loss: 92.9329 - mae: 93.4329 - lr: 0.0011\n",
      "Epoch 83/100\n",
      "10/10 [==============================] - 0s 26ms/step - loss: 105.1645 - mae: 105.6645 - lr: 0.0013\n",
      "Epoch 84/100\n",
      "10/10 [==============================] - 0s 27ms/step - loss: 117.1969 - mae: 117.6969 - lr: 0.0014\n",
      "Epoch 85/100\n",
      "10/10 [==============================] - 0s 26ms/step - loss: 132.4026 - mae: 132.9026 - lr: 0.0016\n",
      "Epoch 86/100\n",
      "10/10 [==============================] - 0s 26ms/step - loss: 147.6479 - mae: 148.1479 - lr: 0.0018\n",
      "Epoch 87/100\n",
      "10/10 [==============================] - 0s 26ms/step - loss: 166.5783 - mae: 167.0783 - lr: 0.0020\n",
      "Epoch 88/100\n",
      "10/10 [==============================] - 0s 26ms/step - loss: 186.3580 - mae: 186.8580 - lr: 0.0022\n",
      "Epoch 89/100\n",
      "10/10 [==============================] - 0s 26ms/step - loss: 209.8615 - mae: 210.3615 - lr: 0.0025\n",
      "Epoch 90/100\n",
      "10/10 [==============================] - 0s 27ms/step - loss: 234.6631 - mae: 235.1631 - lr: 0.0028\n",
      "Epoch 91/100\n",
      "10/10 [==============================] - 0s 26ms/step - loss: 264.1617 - mae: 264.6617 - lr: 0.0032\n",
      "Epoch 92/100\n",
      "10/10 [==============================] - 0s 26ms/step - loss: 295.6248 - mae: 296.1248 - lr: 0.0035\n",
      "Epoch 93/100\n",
      "10/10 [==============================] - 0s 27ms/step - loss: 332.5759 - mae: 333.0759 - lr: 0.0040\n",
      "Epoch 94/100\n",
      "10/10 [==============================] - 0s 27ms/step - loss: 372.3765 - mae: 372.8765 - lr: 0.0045\n",
      "Epoch 95/100\n",
      "10/10 [==============================] - 0s 28ms/step - loss: 418.6914 - mae: 419.1914 - lr: 0.0050\n",
      "Epoch 96/100\n",
      "10/10 [==============================] - 0s 26ms/step - loss: 469.2465 - mae: 469.7465 - lr: 0.0056\n",
      "Epoch 97/100\n",
      "10/10 [==============================] - 0s 27ms/step - loss: 527.2573 - mae: 527.7573 - lr: 0.0063\n",
      "Epoch 98/100\n",
      "10/10 [==============================] - 0s 27ms/step - loss: 590.7338 - mae: 591.2338 - lr: 0.0071\n",
      "Epoch 99/100\n",
      "10/10 [==============================] - 0s 26ms/step - loss: 663.6696 - mae: 664.1696 - lr: 0.0079\n",
      "Epoch 100/100\n",
      "10/10 [==============================] - 0s 29ms/step - loss: 743.9006 - mae: 744.4006 - lr: 0.0089\n"
     ]
    }
   ],
   "source": [
    "# Run the training with dynamic LR\n",
    "lr_history = adjust_learning_rate(train_set)"
   ]
  },
  {
   "cell_type": "code",
   "execution_count": 16,
   "metadata": {
    "colab": {
     "base_uri": "https://localhost:8080/",
     "height": 286
    },
    "executionInfo": {
     "elapsed": 772,
     "status": "ok",
     "timestamp": 1665238505809,
     "user": {
      "displayName": "Nuttasit Phasukdee",
      "userId": "18189687788475661690"
     },
     "user_tz": -420
    },
    "id": "vVcKmg7Q_7rD",
    "outputId": "1f7b60f5-d51f-41bc-e920-92c005fba592"
   },
   "outputs": [
    {
     "data": {
      "text/plain": [
       "[<matplotlib.lines.Line2D at 0x7f3ce8ff9190>]"
      ]
     },
     "execution_count": 16,
     "metadata": {},
     "output_type": "execute_result"
    },
    {
     "data": {
      "image/png": "[encoded data removed]",
      "text/plain": [
       "<Figure size 432x288 with 1 Axes>"
      ]
     },
     "metadata": {
      "needs_background": "light"
     },
     "output_type": "display_data"
    }
   ],
   "source": [
    "plt.semilogx(lr_history.history[\"lr\"], lr_history.history[\"loss\"])\n",
    "# plt.axis([1e-4, 10, 0, 10])"
   ]
  },
  {
   "cell_type": "markdown",
   "metadata": {
    "id": "od-xHPPkAKkw"
   },
   "source": [
    "## Compiling the model\n",
    "Now that you have trained the model while varying the learning rate, it is time to do the actual training that will be used to forecast the time series. For this complete the `create_model` function below.\n",
    "\n",
    "Notice that you are reusing the architecture you defined in the `create_uncompiled_model` earlier. Now you only need to compile this model using the appropriate loss, optimizer (and learning rate).\n",
    "\n",
    "Hints:\n",
    "\n",
    "- The training should be really quick so if you notice that each epoch is taking more than a few seconds, consider trying a different architecture.\n",
    "\n",
    "\n",
    "- If after the first epoch you get an output like this: loss: nan - mae: nan it is very likely that your network is suffering from exploding gradients. This is a common problem if you used SGD as optimizer and set a learning rate that is too high. If you encounter this problem consider lowering the learning rate or using Adam with the default learning rate."
   ]
  },
  {
   "cell_type": "code",
   "execution_count": 17,
   "metadata": {
    "executionInfo": {
     "elapsed": 572,
     "status": "ok",
     "timestamp": 1665238506377,
     "user": {
      "displayName": "Nuttasit Phasukdee",
      "userId": "18189687788475661690"
     },
     "user_tz": -420
    },
    "id": "xc5g1rvVAKkw"
   },
   "outputs": [],
   "source": [
    "def create_model():\n",
    "\n",
    "    \n",
    "    model = create_uncompiled_model()\n",
    "\n",
    "    ### START CODE HERE\n",
    "\n",
    "    model.compile(loss=tf.keras.losses.Huber(),\n",
    "                  optimizer=tf.keras.optimizers.SGD(learning_rate=5e-6, momentum=0.9),\n",
    "                  metrics=[\"mae\"])  \n",
    "    \n",
    "\n",
    "    ### END CODE HERE\n",
    "\n",
    "    return model"
   ]
  },
  {
   "cell_type": "code",
   "execution_count": 18,
   "metadata": {
    "colab": {
     "base_uri": "https://localhost:8080/"
    },
    "executionInfo": {
     "elapsed": 31033,
     "status": "ok",
     "timestamp": 1665238537408,
     "user": {
      "displayName": "Nuttasit Phasukdee",
      "userId": "18189687788475661690"
     },
     "user_tz": -420
    },
    "id": "xA9Ne17kAKkw",
    "outputId": "ccf670b8-0124-4e61-cd80-8178989dca48"
   },
   "outputs": [
    {
     "name": "stdout",
     "output_type": "stream",
     "text": [
      "Epoch 1/50\n",
      "10/10 [==============================] - 4s 20ms/step - loss: 57.3707 - mae: 57.8697\n",
      "Epoch 2/50\n",
      "10/10 [==============================] - 0s 25ms/step - loss: 12.1150 - mae: 12.6088\n",
      "Epoch 3/50\n",
      "10/10 [==============================] - 0s 26ms/step - loss: 9.0180 - mae: 9.5102\n",
      "Epoch 4/50\n",
      "10/10 [==============================] - 0s 24ms/step - loss: 9.3010 - mae: 9.7935\n",
      "Epoch 5/50\n",
      "10/10 [==============================] - 0s 26ms/step - loss: 4.8427 - mae: 5.3274\n",
      "Epoch 6/50\n",
      "10/10 [==============================] - 0s 24ms/step - loss: 3.9466 - mae: 4.4265\n",
      "Epoch 7/50\n",
      "10/10 [==============================] - 0s 27ms/step - loss: 3.4820 - mae: 3.9597\n",
      "Epoch 8/50\n",
      "10/10 [==============================] - 0s 27ms/step - loss: 2.4119 - mae: 2.8789\n",
      "Epoch 9/50\n",
      "10/10 [==============================] - 0s 26ms/step - loss: 2.0929 - mae: 2.5507\n",
      "Epoch 10/50\n",
      "10/10 [==============================] - 0s 25ms/step - loss: 2.0872 - mae: 2.5460\n",
      "Epoch 11/50\n",
      "10/10 [==============================] - 0s 27ms/step - loss: 1.8074 - mae: 2.2575\n",
      "Epoch 12/50\n",
      "10/10 [==============================] - 0s 26ms/step - loss: 2.0322 - mae: 2.4932\n",
      "Epoch 13/50\n",
      "10/10 [==============================] - 0s 25ms/step - loss: 2.1700 - mae: 2.6331\n",
      "Epoch 14/50\n",
      "10/10 [==============================] - 0s 26ms/step - loss: 1.7457 - mae: 2.1982\n",
      "Epoch 15/50\n",
      "10/10 [==============================] - 0s 27ms/step - loss: 1.7981 - mae: 2.2496\n",
      "Epoch 16/50\n",
      "10/10 [==============================] - 0s 25ms/step - loss: 1.6555 - mae: 2.1079\n",
      "Epoch 17/50\n",
      "10/10 [==============================] - 0s 26ms/step - loss: 1.7544 - mae: 2.2057\n",
      "Epoch 18/50\n",
      "10/10 [==============================] - 0s 25ms/step - loss: 1.9450 - mae: 2.3999\n",
      "Epoch 19/50\n",
      "10/10 [==============================] - 0s 25ms/step - loss: 1.7178 - mae: 2.1707\n",
      "Epoch 20/50\n",
      "10/10 [==============================] - 0s 26ms/step - loss: 1.8262 - mae: 2.2773\n",
      "Epoch 21/50\n",
      "10/10 [==============================] - 0s 26ms/step - loss: 1.7338 - mae: 2.1850\n",
      "Epoch 22/50\n",
      "10/10 [==============================] - 0s 26ms/step - loss: 1.6722 - mae: 2.1250\n",
      "Epoch 23/50\n",
      "10/10 [==============================] - 0s 27ms/step - loss: 1.6272 - mae: 2.0747\n",
      "Epoch 24/50\n",
      "10/10 [==============================] - 0s 27ms/step - loss: 1.8540 - mae: 2.3102\n",
      "Epoch 25/50\n",
      "10/10 [==============================] - 0s 26ms/step - loss: 2.6678 - mae: 3.1358\n",
      "Epoch 26/50\n",
      "10/10 [==============================] - 0s 27ms/step - loss: 2.7451 - mae: 3.2152\n",
      "Epoch 27/50\n",
      "10/10 [==============================] - 0s 25ms/step - loss: 2.9615 - mae: 3.4369\n",
      "Epoch 28/50\n",
      "10/10 [==============================] - 0s 27ms/step - loss: 2.7554 - mae: 3.2313\n",
      "Epoch 29/50\n",
      "10/10 [==============================] - 0s 25ms/step - loss: 2.7299 - mae: 3.2042\n",
      "Epoch 30/50\n",
      "10/10 [==============================] - 0s 26ms/step - loss: 2.1047 - mae: 2.5614\n",
      "Epoch 31/50\n",
      "10/10 [==============================] - 0s 26ms/step - loss: 1.8791 - mae: 2.3320\n",
      "Epoch 32/50\n",
      "10/10 [==============================] - 0s 26ms/step - loss: 1.7553 - mae: 2.2036\n",
      "Epoch 33/50\n",
      "10/10 [==============================] - 0s 25ms/step - loss: 1.5816 - mae: 2.0298\n",
      "Epoch 34/50\n",
      "10/10 [==============================] - 0s 28ms/step - loss: 1.5957 - mae: 2.0447\n",
      "Epoch 35/50\n",
      "10/10 [==============================] - 0s 25ms/step - loss: 1.5911 - mae: 2.0391\n",
      "Epoch 36/50\n",
      "10/10 [==============================] - 0s 27ms/step - loss: 1.6634 - mae: 2.1109\n",
      "Epoch 37/50\n",
      "10/10 [==============================] - 0s 26ms/step - loss: 1.5749 - mae: 2.0223\n",
      "Epoch 38/50\n",
      "10/10 [==============================] - 0s 26ms/step - loss: 1.6609 - mae: 2.1109\n",
      "Epoch 39/50\n",
      "10/10 [==============================] - 0s 27ms/step - loss: 1.5624 - mae: 2.0125\n",
      "Epoch 40/50\n",
      "10/10 [==============================] - 0s 26ms/step - loss: 1.6452 - mae: 2.0911\n",
      "Epoch 41/50\n",
      "10/10 [==============================] - 0s 26ms/step - loss: 1.6116 - mae: 2.0593\n",
      "Epoch 42/50\n",
      "10/10 [==============================] - 0s 27ms/step - loss: 1.6050 - mae: 2.0544\n",
      "Epoch 43/50\n",
      "10/10 [==============================] - 0s 26ms/step - loss: 1.6135 - mae: 2.0596\n",
      "Epoch 44/50\n",
      "10/10 [==============================] - 0s 26ms/step - loss: 1.6638 - mae: 2.1106\n",
      "Epoch 45/50\n",
      "10/10 [==============================] - 0s 28ms/step - loss: 1.7207 - mae: 2.1667\n",
      "Epoch 46/50\n",
      "10/10 [==============================] - 0s 28ms/step - loss: 1.6384 - mae: 2.0888\n",
      "Epoch 47/50\n",
      "10/10 [==============================] - 0s 26ms/step - loss: 1.6103 - mae: 2.0548\n",
      "Epoch 48/50\n",
      "10/10 [==============================] - 0s 26ms/step - loss: 1.7569 - mae: 2.2089\n",
      "Epoch 49/50\n",
      "10/10 [==============================] - 0s 26ms/step - loss: 1.6922 - mae: 2.1451\n",
      "Epoch 50/50\n",
      "10/10 [==============================] - 0s 27ms/step - loss: 1.6585 - mae: 2.1093\n"
     ]
    }
   ],
   "source": [
    "# Save an instance of the model\n",
    "model = create_model()\n",
    "\n",
    "# Train it\n",
    "history = model.fit(train_set, epochs=50)"
   ]
  },
  {
   "cell_type": "markdown",
   "metadata": {
    "id": "SPUnL_NEAKkx"
   },
   "source": [
    "## Evaluating the forecast\n",
    "\n",
    "Now it is time to evaluate the performance of the forecast. For this you can use the `compute_metrics` function that you coded in a previous assignment:"
   ]
  },
  {
   "cell_type": "code",
   "execution_count": 19,
   "metadata": {
    "executionInfo": {
     "elapsed": 30,
     "status": "ok",
     "timestamp": 1665238537409,
     "user": {
      "displayName": "Nuttasit Phasukdee",
      "userId": "18189687788475661690"
     },
     "user_tz": -420
    },
    "id": "yznyUz2jAKkx"
   },
   "outputs": [],
   "source": [
    "def compute_metrics(true_series, forecast):\n",
    "    \n",
    "    mse = tf.keras.metrics.mean_squared_error(true_series, forecast).numpy()\n",
    "    mae = tf.keras.metrics.mean_absolute_error(true_series, forecast).numpy()\n",
    "\n",
    "    return mse, mae"
   ]
  },
  {
   "cell_type": "markdown",
   "metadata": {
    "id": "08OFi9c7AKkx"
   },
   "source": [
    "At this point only the model that will perform the forecast is ready but you still need to compute the actual forecast.\n",
    "\n"
   ]
  },
  {
   "cell_type": "markdown",
   "metadata": {
    "id": "vaHQiLRfAKkx"
   },
   "source": [
    "## Faster model forecasts\n",
    "\n",
    "In the previous week you saw a faster approach compared to using a for loop to compute the forecasts for every point in the sequence. Remember that this faster approach uses batches of data. \n",
    "\n",
    "The code to implement this is provided in the `model_forecast` below. Notice that the code is very similar to the one in the `windowed_dataset` function with the differences that:\n",
    "- The dataset is windowed using `window_size` rather than `window_size + 1`\n",
    "- No shuffle should be used\n",
    "- No need to split the data into features and labels\n",
    "- A model is used to predict batches of the dataset"
   ]
  },
  {
   "cell_type": "code",
   "execution_count": 20,
   "metadata": {
    "executionInfo": {
     "elapsed": 28,
     "status": "ok",
     "timestamp": 1665238537409,
     "user": {
      "displayName": "Nuttasit Phasukdee",
      "userId": "18189687788475661690"
     },
     "user_tz": -420
    },
    "id": "4XwGrf-A_wF0"
   },
   "outputs": [],
   "source": [
    "def model_forecast(model, series, window_size):\n",
    "    ds = tf.data.Dataset.from_tensor_slices(series)\n",
    "    ds = ds.window(window_size, shift=1, drop_remainder=True)\n",
    "    ds = ds.flat_map(lambda w: w.batch(window_size))\n",
    "    ds = ds.batch(32).prefetch(1)\n",
    "    forecast = model.predict(ds)\n",
    "    return forecast"
   ]
  },
  {
   "cell_type": "code",
   "execution_count": 21,
   "metadata": {
    "colab": {
     "base_uri": "https://localhost:8080/"
    },
    "executionInfo": {
     "elapsed": 1538,
     "status": "ok",
     "timestamp": 1665238538921,
     "user": {
      "displayName": "Nuttasit Phasukdee",
      "userId": "18189687788475661690"
     },
     "user_tz": -420
    },
    "id": "RWCJ8M1wL0ra",
    "outputId": "39fc5119-77f4-4e6f-aa57-8f5669d7e225"
   },
   "outputs": [
    {
     "name": "stdout",
     "output_type": "stream",
     "text": [
      "(3587,)\n"
     ]
    }
   ],
   "source": [
    "rnn_forecast = model_forecast(model, G.SERIES, G.WINDOW_SIZE).squeeze()\n",
    "print(rnn_forecast.shape)"
   ]
  },
  {
   "cell_type": "code",
   "execution_count": 22,
   "metadata": {
    "colab": {
     "base_uri": "https://localhost:8080/",
     "height": 389
    },
    "executionInfo": {
     "elapsed": 1134,
     "status": "ok",
     "timestamp": 1665238540048,
     "user": {
      "displayName": "Nuttasit Phasukdee",
      "userId": "18189687788475661690"
     },
     "user_tz": -420
    },
    "id": "PrktQX3hKYex",
    "outputId": "8665e8eb-e4d4-4c6d-b0f7-f746e21a7eef"
   },
   "outputs": [
    {
     "data": {
      "image/png": "[encoded data removed]",
      "text/plain": [
       "<Figure size 720x432 with 1 Axes>"
      ]
     },
     "metadata": {
      "needs_background": "light"
     },
     "output_type": "display_data"
    }
   ],
   "source": [
    "# Compute the forecast for all the series\n",
    "rnn_forecast = model_forecast(model, G.SERIES, G.WINDOW_SIZE).squeeze()\n",
    "\n",
    "# Slice the forecast to get only the predictions for the validation set\n",
    "rnn_forecast = rnn_forecast[G.SPLIT_TIME - G.WINDOW_SIZE:-1]\n",
    "\n",
    "# Plot the forecast\n",
    "plt.figure(figsize=(10, 6))\n",
    "plot_series(time_valid, series_valid)\n",
    "plot_series(time_valid, rnn_forecast)"
   ]
  },
  {
   "cell_type": "code",
   "execution_count": 23,
   "metadata": {
    "colab": {
     "base_uri": "https://localhost:8080/"
    },
    "executionInfo": {
     "elapsed": 11,
     "status": "ok",
     "timestamp": 1665238540049,
     "user": {
      "displayName": "Nuttasit Phasukdee",
      "userId": "18189687788475661690"
     },
     "user_tz": -420
    },
    "id": "B5IOTdp7J1Ib",
    "outputId": "14b958a0-9e2b-4ba8-d56d-0a4d2a30f4e0"
   },
   "outputs": [
    {
     "name": "stdout",
     "output_type": "stream",
     "text": [
      "(1150,) (1150,)\n"
     ]
    }
   ],
   "source": [
    "print(series_valid.shape, rnn_forecast.shape)"
   ]
  },
  {
   "cell_type": "code",
   "execution_count": 24,
   "metadata": {
    "colab": {
     "base_uri": "https://localhost:8080/"
    },
    "executionInfo": {
     "elapsed": 616,
     "status": "ok",
     "timestamp": 1665238540659,
     "user": {
      "displayName": "Nuttasit Phasukdee",
      "userId": "18189687788475661690"
     },
     "user_tz": -420
    },
    "id": "Bt-PAiWqAKky",
    "outputId": "5e538e16-200e-4bd5-afbf-ac9398600103"
   },
   "outputs": [
    {
     "name": "stdout",
     "output_type": "stream",
     "text": [
      "mse: 5.81, mae: 1.89 for forecast\n"
     ]
    }
   ],
   "source": [
    "mse, mae = compute_metrics(series_valid, rnn_forecast)\n",
    "\n",
    "print(f\"mse: {mse:.2f}, mae: {mae:.2f} for forecast\")"
   ]
  },
  {
   "cell_type": "markdown",
   "metadata": {
    "id": "yGaT29AaAKky"
   },
   "source": [
    "**To pass this assignment your forecast should achieve a MSE of 6 or less and a MAE of 2 or less.**\n",
    "\n",
    "- If your forecast didn't achieve this threshold try re-training your model with a different architecture (you will need to re-run both `create_uncompiled_model` and `create_model` functions) or tweaking the optimizer's parameters.\n",
    "\n",
    "\n",
    "- If your forecast did achieve this threshold run the following cell to save the model in a HDF5 file which will be used for grading and after doing so, submit your assigment for grading.\n",
    "\n",
    "\n",
    "- This environment includes a dummy `my_model.h5` file which is just a dummy model trained for one epoch. **To replace this file with your actual model you need to run the next cell before submitting for grading.**"
   ]
  },
  {
   "cell_type": "code",
   "execution_count": 26,
   "metadata": {
    "executionInfo": {
     "elapsed": 653,
     "status": "ok",
     "timestamp": 1665238612023,
     "user": {
      "displayName": "Nuttasit Phasukdee",
      "userId": "18189687788475661690"
     },
     "user_tz": -420
    },
    "id": "QBBJQcC8AKky"
   },
   "outputs": [],
   "source": [
    "# # Save your model into a HDF5 file\n",
    "# model.save(\"my_model.h5\")"
   ]
  },
  {
   "cell_type": "markdown",
   "metadata": {
    "id": "l8CjyZQLAKky"
   },
   "source": [
    "**Congratulations on finishing this week's assignment!**\n",
    "\n",
    "You have successfully implemented a neural network capable of forecasting time series leveraging a combination of Tensorflow's layers such as Convolutional and LSTMs! This resulted in a forecast that surpasses all the ones you did previously.\n",
    "\n",
    "**By finishing this assignment you have finished the specialization! Give yourself a pat on the back!!!**"
   ]
  }
 ],
 "metadata": {
  "accelerator": "GPU",
  "colab": {
   "collapsed_sections": [],
   "provenance": []
  },
  "gpuClass": "standard",
  "kernelspec": {
   "display_name": "Python 3 (ipykernel)",
   "language": "python",
   "name": "python3"
  },
  "language_info": {
   "codemirror_mode": {
    "name": "ipython",
    "version": 3
   },
   "file_extension": ".py",
   "mimetype": "text/x-python",
   "name": "python",
   "nbconvert_exporter": "python",
   "pygments_lexer": "ipython3",
   "version": "3.8.13"
  }
 },
 "nbformat": 4,
 "nbformat_minor": 1
}
