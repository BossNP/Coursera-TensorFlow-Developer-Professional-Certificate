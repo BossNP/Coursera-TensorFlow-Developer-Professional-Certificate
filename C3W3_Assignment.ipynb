{
 "cells": [
  {
   "cell_type": "markdown",
   "id": "printable-split",
   "metadata": {
    "id": "printable-split"
   },
   "source": [
    "\n",
    "# Week 3: Exploring Overfitting in NLP\n",
    "\n",
    "Welcome to this assignment! During this week you saw different ways to handle sequence-like data. You saw how some Keras' layers such as `GRU`, `Conv` and `LSTM` can be used to tackle problems in this space. Now you will put this knowledge into practice by creating a model architecture that does not overfit.\n",
    "\n",
    "For this assignment you will be using a variation of the [Sentiment140 dataset](http://help.sentiment140.com/home), which contains 1.6 million tweets alongside their respective sentiment (0 for negative and 4 for positive).\n",
    "\n",
    "You will also need to create the helper functions very similar to the ones you coded in previous assignments pre-process data and to tokenize sentences. However the objective of the assignment is to find a model architecture that will not overfit.\n",
    "\n",
    "Let's get started!"
   ]
  },
  {
   "cell_type": "code",
   "execution_count": 1,
   "id": "greater-synthesis",
   "metadata": {
    "executionInfo": {
     "elapsed": 2696,
     "status": "ok",
     "timestamp": 1664868181572,
     "user": {
      "displayName": "Nuttasit Phasukdee",
      "userId": "18189687788475661690"
     },
     "user_tz": -420
    },
    "id": "greater-synthesis",
    "tags": [
     "graded"
    ]
   },
   "outputs": [],
   "source": [
    "import csv\n",
    "import random\n",
    "import pickle\n",
    "import numpy as np\n",
    "import tensorflow as tf\n",
    "from tensorflow.keras.preprocessing.text import Tokenizer\n",
    "from tensorflow.keras.preprocessing.sequence import pad_sequences\n",
    "import matplotlib.pyplot as plt\n",
    "from scipy.stats import linregress"
   ]
  },
  {
   "cell_type": "markdown",
   "id": "nutritional-yield",
   "metadata": {
    "id": "nutritional-yield"
   },
   "source": [
    "## Defining some useful global variables\n",
    "\n",
    "Next you will define some global variables that will be used throughout the assignment.\n",
    "\n",
    "- `EMBEDDING_DIM`: Dimension of the dense embedding, will be used in the embedding layer of the model. Defaults to 100.\n",
    "\n",
    "\n",
    "- `MAXLEN`: Maximum length of all sequences. Defaults to 16.\n",
    "\n",
    "\n",
    "- `TRUNCATING`: Truncating strategy (truncate either before or after each sequence.). Defaults to 'post'.\n",
    "\n",
    "\n",
    "- `PADDING`: Padding strategy (pad either before or after each sequence.). Defaults to 'post'.\n",
    "\n",
    "\n",
    "- `OOV_TOKEN`: Token to replace out-of-vocabulary words during text_to_sequence calls. Defaults to \\\"\\\\<OOV>\\\".\n",
    "    \n",
    "    \n",
    "- `MAX_EXAMPLES`: Max number of examples to use. Defaults to 160000 (10% of the original number of examples)\n",
    "    \n",
    "    \n",
    "- `TRAINING_SPLIT`: Proportion of data used for training. Defaults to 0.9\n",
    "    \n",
    "    \n",
    "**For now leave them unchanged but after submitting your assignment for grading you are encouraged to come back here and play with these parameters to see the impact they have in the classification process.**"
   ]
  },
  {
   "cell_type": "code",
   "execution_count": 2,
   "id": "occasional-penalty",
   "metadata": {
    "executionInfo": {
     "elapsed": 21,
     "status": "ok",
     "timestamp": 1664868181576,
     "user": {
      "displayName": "Nuttasit Phasukdee",
      "userId": "18189687788475661690"
     },
     "user_tz": -420
    },
    "id": "occasional-penalty",
    "tags": [
     "graded"
    ]
   },
   "outputs": [],
   "source": [
    "EMBEDDING_DIM = 100\n",
    "MAXLEN = 16\n",
    "TRUNCATING = 'post'\n",
    "PADDING = 'post'\n",
    "OOV_TOKEN = \"<OOV>\"\n",
    "MAX_EXAMPLES = 160000\n",
    "TRAINING_SPLIT = 0.9"
   ]
  },
  {
   "cell_type": "markdown",
   "id": "applied-rubber",
   "metadata": {
    "id": "applied-rubber"
   },
   "source": [
    "## Explore the dataset\n",
    "\n",
    "The dataset is provided in a csv file. \n",
    "\n",
    "Each row of this file contains the following values separated by commas:\n",
    "\n",
    "- target: the polarity of the tweet (0 = negative, 4 = positive)\n",
    "\n",
    "- ids: The id of the tweet\n",
    "\n",
    "- date: the date of the tweet\n",
    "\n",
    "- flag: The query. If there is no query, then this value is NO_QUERY.\n",
    "\n",
    "- user: the user that tweeted\n",
    "\n",
    "- text: the text of the tweet\n",
    "\n",
    "\n",
    "Take a look at the first two examples:"
   ]
  },
  {
   "cell_type": "code",
   "execution_count": 3,
   "id": "j-zLwY1Sv8fj",
   "metadata": {
    "executionInfo": {
     "elapsed": 20,
     "status": "ok",
     "timestamp": 1664868181577,
     "user": {
      "displayName": "Nuttasit Phasukdee",
      "userId": "18189687788475661690"
     },
     "user_tz": -420
    },
    "id": "j-zLwY1Sv8fj"
   },
   "outputs": [],
   "source": [
    "# !wget --no-check-certificate \\\n",
    "#     https://storage.googleapis.com/laurencemoroney-blog.appspot.com/training_cleaned.csv \\\n",
    "#     -O /tmp/training_cleaned.csv"
   ]
  },
  {
   "cell_type": "code",
   "execution_count": 4,
   "id": "zXvRLtnAr-QU",
   "metadata": {
    "colab": {
     "base_uri": "https://localhost:8080/"
    },
    "executionInfo": {
     "elapsed": 3983,
     "status": "ok",
     "timestamp": 1664868185541,
     "user": {
      "displayName": "Nuttasit Phasukdee",
      "userId": "18189687788475661690"
     },
     "user_tz": -420
    },
    "id": "zXvRLtnAr-QU",
    "outputId": "24879229-c12f-4e30-c94d-c0ba16e2ed12"
   },
   "outputs": [],
   "source": [
    "# from google.colab import drive\n",
    "# drive.mount('/content/drive')"
   ]
  },
  {
   "cell_type": "code",
   "execution_count": 5,
   "id": "critical-emission",
   "metadata": {
    "colab": {
     "base_uri": "https://localhost:8080/"
    },
    "executionInfo": {
     "elapsed": 6,
     "status": "ok",
     "timestamp": 1664868185541,
     "user": {
      "displayName": "Nuttasit Phasukdee",
      "userId": "18189687788475661690"
     },
     "user_tz": -420
    },
    "id": "critical-emission",
    "outputId": "4c9841ee-10a6-4da7-ece8-d0acc255fa9a",
    "tags": [
     "graded"
    ]
   },
   "outputs": [
    {
     "name": "stdout",
     "output_type": "stream",
     "text": [
      "First data point looks like this:\n",
      "\n",
      "\"0\",\"1467810369\",\"Mon Apr 06 22:19:45 PDT 2009\",\"NO_QUERY\",\"_TheSpecialOne_\",\"@switchfoot http://twitpic.com/2y1zl - Awww, that's a bummer.  You shoulda got David Carr of Third Day to do it. ;D\"\n",
      "\n",
      "Second data point looks like this:\n",
      "\n",
      "\"0\",\"1467810672\",\"Mon Apr 06 22:19:49 PDT 2009\",\"NO_QUERY\",\"scotthamilton\",\"is upset that he can't update his Facebook by texting it... and might cry as a result  School today also. Blah!\"\n",
      "\n"
     ]
    }
   ],
   "source": [
    "# SENTIMENT_CSV = \"./data/training_cleaned.csv\"\n",
    "SENTIMENT_CSV = \"./data/training_1600000_cleaned.csv\"\n",
    "# SENTIMENT_CSV = \"drive/MyDrive/Colab Notebooks/Coursera/tensorflow-developer/lab/assignment/data/training_1600000_cleaned.csv\"\n",
    "\n",
    "with open(SENTIMENT_CSV, 'r') as csvfile:\n",
    "    print(f\"First data point looks like this:\\n\\n{csvfile.readline()}\")\n",
    "    print(f\"Second data point looks like this:\\n\\n{csvfile.readline()}\")"
   ]
  },
  {
   "cell_type": "markdown",
   "id": "incoming-success",
   "metadata": {
    "id": "incoming-success"
   },
   "source": [
    "**Notice that this file does not have a header so you won't need to skip the first row when parsing the file.**\n",
    "\n",
    "For the task at hand you will only need the information of the target and the text, which are the first and last element of each row. "
   ]
  },
  {
   "cell_type": "markdown",
   "id": "sealed-sterling",
   "metadata": {
    "id": "sealed-sterling"
   },
   "source": [
    "## Parsing the raw data\n",
    "\n",
    "Now you need to read the data from the csv file. To do so, complete the `parse_data_from_file` function.\n",
    "\n",
    "A couple of things to note:\n",
    "\n",
    "- You should NOT omit the first line as the file does not contain headers.\n",
    "- There is no need to save the data points as numpy arrays, regular lists is fine.\n",
    "- To read from csv files use `csv.reader` by passing the appropriate arguments.\n",
    "- `csv.reader` returns an iterable that returns each row in every iteration. So the label can be accessed via `row[0]` and the text via `row[5]`.\n",
    "- The labels are originally encoded as strings ('0' representing negative and '4' representing positive). **You need to change this so that the labels are integers and 0 is used for representing negative, while 1 should represent positive.**\n"
   ]
  },
  {
   "cell_type": "code",
   "execution_count": 6,
   "id": "imperial-scratch",
   "metadata": {
    "executionInfo": {
     "elapsed": 3,
     "status": "ok",
     "timestamp": 1664868185542,
     "user": {
      "displayName": "Nuttasit Phasukdee",
      "userId": "18189687788475661690"
     },
     "user_tz": -420
    },
    "id": "imperial-scratch",
    "tags": [
     "graded"
    ]
   },
   "outputs": [],
   "source": [
    "def parse_data_from_file(filename):\n",
    "    \"\"\"\n",
    "    Extracts sentences and labels from a CSV file\n",
    "    \n",
    "    Args:\n",
    "        filename (string): path to the CSV file\n",
    "    \n",
    "    Returns:\n",
    "        sentences, labels (list of string, list of string): tuple containing lists of sentences and labels\n",
    "    \"\"\"\n",
    "    \n",
    "    sentences = []\n",
    "    labels = []\n",
    "    \n",
    "    with open(filename, 'r', encoding=\"utf8\") as csvfile:\n",
    "        ### START CODE HERE\n",
    "        reader = csv.reader(csvfile, delimiter=',')\n",
    "        \n",
    "        for row in reader:\n",
    "            labels.append(0 if row[0] == 0 else 1)\n",
    "            sentences.append(row[5])\n",
    "        \n",
    "        ### END CODE HERE\n",
    "        \n",
    "    return sentences, labels"
   ]
  },
  {
   "cell_type": "code",
   "execution_count": 7,
   "id": "banned-medicare",
   "metadata": {
    "colab": {
     "base_uri": "https://localhost:8080/"
    },
    "executionInfo": {
     "elapsed": 5786,
     "status": "ok",
     "timestamp": 1664868191325,
     "user": {
      "displayName": "Nuttasit Phasukdee",
      "userId": "18189687788475661690"
     },
     "user_tz": -420
    },
    "id": "banned-medicare",
    "outputId": "0dba590f-263b-4efb-9fa3-2e0a3d4e4a62",
    "tags": [
     "graded"
    ]
   },
   "outputs": [
    {
     "name": "stdout",
     "output_type": "stream",
     "text": [
      "dataset contains 1600000 examples\n",
      "\n",
      "Text of second example should look like this:\n",
      "is upset that he can't update his Facebook by texting it... and might cry as a result  School today also. Blah!\n",
      "\n",
      "Text of fourth example should look like this:\n",
      "my whole body feels itchy and like its on fire \n",
      "\n",
      "Labels of last 5 examples should look like this:\n",
      "[1, 1, 1, 1, 1]\n"
     ]
    }
   ],
   "source": [
    "# Test your function\n",
    "sentences, labels = parse_data_from_file(SENTIMENT_CSV)\n",
    "\n",
    "print(f\"dataset contains {len(sentences)} examples\\n\")\n",
    "\n",
    "print(f\"Text of second example should look like this:\\n{sentences[1]}\\n\")\n",
    "print(f\"Text of fourth example should look like this:\\n{sentences[3]}\")\n",
    "\n",
    "print(f\"\\nLabels of last 5 examples should look like this:\\n{labels[-5:]}\")"
   ]
  },
  {
   "cell_type": "markdown",
   "id": "confidential-delay",
   "metadata": {
    "id": "confidential-delay"
   },
   "source": [
    "***Expected Output:***\n",
    "\n",
    "```\n",
    "dataset contains 1600000 examples\n",
    "\n",
    "Text of second example should look like this:\n",
    "is upset that he can't update his Facebook by texting it... and might cry as a result  School today also. Blah!\n",
    "\n",
    "Text of fourth example should look like this:\n",
    "my whole body feels itchy and like its on fire \n",
    "\n",
    "Labels of last 5 examples should look like this:\n",
    "[1, 1, 1, 1, 1]\n",
    "\n",
    "```"
   ]
  },
  {
   "cell_type": "markdown",
   "id": "residential-tonight",
   "metadata": {
    "id": "residential-tonight"
   },
   "source": [
    "You might have noticed that this dataset contains a lot of examples. In order to keep a low execution time of this assignment you will be using only 10% of the original data. The next cell does this while also randomnizing the datapoints that will be used:"
   ]
  },
  {
   "cell_type": "code",
   "execution_count": 8,
   "id": "framed-holmes",
   "metadata": {
    "colab": {
     "base_uri": "https://localhost:8080/"
    },
    "executionInfo": {
     "elapsed": 2347,
     "status": "ok",
     "timestamp": 1664868193664,
     "user": {
      "displayName": "Nuttasit Phasukdee",
      "userId": "18189687788475661690"
     },
     "user_tz": -420
    },
    "id": "framed-holmes",
    "outputId": "c57f00ac-e776-494f-c555-f035b6a537f3",
    "tags": [
     "graded"
    ]
   },
   "outputs": [
    {
     "name": "stdout",
     "output_type": "stream",
     "text": [
      "There are 160000 sentences and 160000 labels after random sampling\n",
      "\n"
     ]
    }
   ],
   "source": [
    "# Bundle the two lists into a single one\n",
    "sentences_and_labels = list(zip(sentences, labels))\n",
    "\n",
    "# Perform random sampling\n",
    "random.seed(42)\n",
    "sentences_and_labels = random.sample(sentences_and_labels, MAX_EXAMPLES)\n",
    "\n",
    "# Unpack back into separate lists\n",
    "sentences, labels = zip(*sentences_and_labels)\n",
    "\n",
    "print(f\"There are {len(sentences)} sentences and {len(labels)} labels after random sampling\\n\")"
   ]
  },
  {
   "cell_type": "code",
   "execution_count": 9,
   "id": "t55WdQ11xBAE",
   "metadata": {
    "colab": {
     "base_uri": "https://localhost:8080/"
    },
    "executionInfo": {
     "elapsed": 12,
     "status": "ok",
     "timestamp": 1664868193665,
     "user": {
      "displayName": "Nuttasit Phasukdee",
      "userId": "18189687788475661690"
     },
     "user_tz": -420
    },
    "id": "t55WdQ11xBAE",
    "outputId": "e24bb2da-1465-4e24-9ec6-58fe726d9f60"
   },
   "outputs": [
    {
     "name": "stdout",
     "output_type": "stream",
     "text": [
      "<class 'tuple'> <class 'tuple'>\n"
     ]
    }
   ],
   "source": [
    "print(type(sentences), type(labels))"
   ]
  },
  {
   "cell_type": "markdown",
   "id": "guilty-denial",
   "metadata": {
    "id": "guilty-denial"
   },
   "source": [
    "***Expected Output:***\n",
    "\n",
    "```\n",
    "There are 160000 sentences and 160000 labels after random sampling\n",
    "\n",
    "```"
   ]
  },
  {
   "cell_type": "markdown",
   "id": "contained-bridge",
   "metadata": {
    "id": "contained-bridge"
   },
   "source": [
    "## Training - Validation Split\n",
    "\n",
    "Now you will code the `train_val_split`, which given the list of sentences, the list of labels and the proportion of data for the training set, should return the training and validation sentences and labels:"
   ]
  },
  {
   "cell_type": "code",
   "execution_count": 10,
   "id": "elegant-medicare",
   "metadata": {
    "executionInfo": {
     "elapsed": 10,
     "status": "ok",
     "timestamp": 1664868193666,
     "user": {
      "displayName": "Nuttasit Phasukdee",
      "userId": "18189687788475661690"
     },
     "user_tz": -420
    },
    "id": "elegant-medicare",
    "tags": [
     "graded"
    ]
   },
   "outputs": [],
   "source": [
    "def train_val_split(sentences, labels, training_split):\n",
    "    \"\"\"\n",
    "    Splits the dataset into training and validation sets\n",
    "    \n",
    "    Args:\n",
    "        sentences (list of string): lower-cased sentences without stopwords\n",
    "        labels (list of string): list of labels\n",
    "        training split (float): proportion of the dataset to convert to include in the train set\n",
    "    \n",
    "    Returns:\n",
    "        train_sentences, validation_sentences, train_labels, validation_labels - lists containing the data splits\n",
    "    \"\"\"    \n",
    "    ### START CODE HERE\n",
    "    \n",
    "    # Compute the number of sentences that will be used for training (should be an integer)\n",
    "    train_size = int(len(sentences) * training_split)\n",
    "\n",
    "    # Split the sentences and labels into train/validation splits\n",
    "    train_sentences = sentences[:train_size]\n",
    "    train_labels = labels[:train_size]\n",
    "\n",
    "    validation_sentences = sentences[train_size:]\n",
    "    validation_labels = labels[train_size:]\n",
    "    \n",
    "    ### END CODE HERE\n",
    "    \n",
    "    return train_sentences, validation_sentences, train_labels, validation_labels"
   ]
  },
  {
   "cell_type": "code",
   "execution_count": 11,
   "id": "green-finding",
   "metadata": {
    "colab": {
     "base_uri": "https://localhost:8080/"
    },
    "executionInfo": {
     "elapsed": 10,
     "status": "ok",
     "timestamp": 1664868193667,
     "user": {
      "displayName": "Nuttasit Phasukdee",
      "userId": "18189687788475661690"
     },
     "user_tz": -420
    },
    "id": "green-finding",
    "outputId": "1504aef8-e4e7-44cc-d53f-a7055a969672",
    "tags": [
     "graded"
    ]
   },
   "outputs": [
    {
     "name": "stdout",
     "output_type": "stream",
     "text": [
      "There are 144000 sentences for training.\n",
      "\n",
      "There are 144000 labels for training.\n",
      "\n",
      "There are 16000 sentences for validation.\n",
      "\n",
      "There are 16000 labels for validation.\n"
     ]
    }
   ],
   "source": [
    "# Test your function\n",
    "train_sentences, val_sentences, train_labels, val_labels = train_val_split(sentences, labels, TRAINING_SPLIT)\n",
    "\n",
    "print(f\"There are {len(train_sentences)} sentences for training.\\n\")\n",
    "print(f\"There are {len(train_labels)} labels for training.\\n\")\n",
    "print(f\"There are {len(val_sentences)} sentences for validation.\\n\")\n",
    "print(f\"There are {len(val_labels)} labels for validation.\")"
   ]
  },
  {
   "cell_type": "markdown",
   "id": "imperial-bangkok",
   "metadata": {
    "id": "imperial-bangkok"
   },
   "source": [
    "***Expected Output:***\n",
    "\n",
    "```\n",
    "There are 144000 sentences for training.\n",
    "\n",
    "There are 144000 labels for training.\n",
    "\n",
    "There are 16000 sentences for validation.\n",
    "\n",
    "There are 16000 labels for validation.\n",
    "\n",
    "```"
   ]
  },
  {
   "cell_type": "markdown",
   "id": "wired-fifteen",
   "metadata": {
    "id": "wired-fifteen"
   },
   "source": [
    "## Tokenization - Sequences, truncating and padding\n",
    "\n",
    "Now that you have sets for training and validation it is time for you to begin the tokenization process.\n",
    "\n",
    "Begin by completing the `fit_tokenizer` function below. This function should return a [Tokenizer](https://www.tensorflow.org/api_docs/python/tf/keras/preprocessing/text/Tokenizer) that has been fitted to the training sentences."
   ]
  },
  {
   "cell_type": "code",
   "execution_count": 12,
   "id": "atmospheric-shakespeare",
   "metadata": {
    "executionInfo": {
     "elapsed": 9,
     "status": "ok",
     "timestamp": 1664868193668,
     "user": {
      "displayName": "Nuttasit Phasukdee",
      "userId": "18189687788475661690"
     },
     "user_tz": -420
    },
    "id": "atmospheric-shakespeare",
    "tags": [
     "graded"
    ]
   },
   "outputs": [],
   "source": [
    "def fit_tokenizer(train_sentences, oov_token):\n",
    "    \"\"\"\n",
    "    Instantiates the Tokenizer class on the training sentences\n",
    "    \n",
    "    Args:\n",
    "        train_sentences (list of string): lower-cased sentences without stopwords to be used for training\n",
    "        oov_token (string) - symbol for the out-of-vocabulary token\n",
    "    \n",
    "    Returns:\n",
    "        tokenizer (object): an instance of the Tokenizer class containing the word-index dictionary\n",
    "    \"\"\"\n",
    "    ### START CODE HERE\n",
    "    \n",
    "    # Instantiate the Tokenizer class, passing in the correct value for oov_token\n",
    "    tokenizer = Tokenizer(oov_token=oov_token)\n",
    "    \n",
    "    # Fit the tokenizer to the training sentences\n",
    "    tokenizer.fit_on_texts(train_sentences)\n",
    "    \n",
    "    ### END CODE HERE\n",
    "    \n",
    "    return tokenizer"
   ]
  },
  {
   "cell_type": "code",
   "execution_count": 13,
   "id": "included-entertainment",
   "metadata": {
    "colab": {
     "base_uri": "https://localhost:8080/"
    },
    "executionInfo": {
     "elapsed": 5613,
     "status": "ok",
     "timestamp": 1664868199272,
     "user": {
      "displayName": "Nuttasit Phasukdee",
      "userId": "18189687788475661690"
     },
     "user_tz": -420
    },
    "id": "included-entertainment",
    "outputId": "3c1bc9b2-1480-41b5-fe6f-e230367b2352",
    "tags": [
     "graded"
    ]
   },
   "outputs": [
    {
     "name": "stdout",
     "output_type": "stream",
     "text": [
      "Vocabulary contains 128293 words\n",
      "\n",
      "<OOV> token included in vocabulary\n",
      "\n",
      "index of word 'i' should be 2\n"
     ]
    }
   ],
   "source": [
    "# Test your function\n",
    "tokenizer = fit_tokenizer(train_sentences, OOV_TOKEN)\n",
    "\n",
    "word_index = tokenizer.word_index\n",
    "VOCAB_SIZE = len(word_index)\n",
    "\n",
    "print(f\"Vocabulary contains {VOCAB_SIZE} words\\n\")\n",
    "print(\"<OOV> token included in vocabulary\" if \"<OOV>\" in word_index else \"<OOV> token NOT included in vocabulary\")\n",
    "print(f\"\\nindex of word 'i' should be {word_index['i']}\")"
   ]
  },
  {
   "cell_type": "markdown",
   "id": "covered-williams",
   "metadata": {
    "id": "covered-williams"
   },
   "source": [
    "***Expected Output:***\n",
    "\n",
    "```\n",
    "Vocabulary contains 128293 words\n",
    "\n",
    "<OOV> token included in vocabulary\n",
    "\n",
    "index of word 'i' should be 2\n",
    "\n",
    "```"
   ]
  },
  {
   "cell_type": "code",
   "execution_count": 14,
   "id": "attractive-cooper",
   "metadata": {
    "executionInfo": {
     "elapsed": 10,
     "status": "ok",
     "timestamp": 1664868199273,
     "user": {
      "displayName": "Nuttasit Phasukdee",
      "userId": "18189687788475661690"
     },
     "user_tz": -420
    },
    "id": "attractive-cooper",
    "tags": [
     "graded"
    ]
   },
   "outputs": [],
   "source": [
    "def seq_pad_and_trunc(sentences, tokenizer, padding, truncating, maxlen):\n",
    "    \"\"\"\n",
    "    Generates an array of token sequences and pads them to the same length\n",
    "    \n",
    "    Args:\n",
    "        sentences (list of string): list of sentences to tokenize and pad\n",
    "        tokenizer (object): Tokenizer instance containing the word-index dictionary\n",
    "        padding (string): type of padding to use\n",
    "        truncating (string): type of truncating to use\n",
    "        maxlen (int): maximum length of the token sequence\n",
    "    \n",
    "    Returns:\n",
    "        pad_trunc_sequences (array of int): tokenized sentences padded to the same length\n",
    "    \"\"\"        \n",
    "    ### START CODE HERE\n",
    "       \n",
    "    # Convert sentences to sequences\n",
    "    sequences = tokenizer.texts_to_sequences(sentences)\n",
    "    \n",
    "    # Pad the sequences using the correct padding, truncating and maxlen\n",
    "    pad_trunc_sequences = pad_sequences(sequences, \n",
    "                                        maxlen=maxlen, \n",
    "                                        padding=padding, \n",
    "                                        truncating=truncating)\n",
    "    \n",
    "    ### END CODE HERE\n",
    "    \n",
    "    return pad_trunc_sequences"
   ]
  },
  {
   "cell_type": "code",
   "execution_count": 15,
   "id": "extra-mention",
   "metadata": {
    "colab": {
     "base_uri": "https://localhost:8080/"
    },
    "executionInfo": {
     "elapsed": 2911,
     "status": "ok",
     "timestamp": 1664868202175,
     "user": {
      "displayName": "Nuttasit Phasukdee",
      "userId": "18189687788475661690"
     },
     "user_tz": -420
    },
    "id": "extra-mention",
    "outputId": "d337a371-6d9b-48e1-9690-a0b9fb3c1742",
    "tags": [
     "graded"
    ]
   },
   "outputs": [
    {
     "name": "stdout",
     "output_type": "stream",
     "text": [
      "Padded and truncated training sequences have shape: (144000, 16)\n",
      "\n",
      "Padded and truncated validation sequences have shape: (16000, 16)\n"
     ]
    }
   ],
   "source": [
    "# Test your function\n",
    "train_pad_trunc_seq = seq_pad_and_trunc(train_sentences, tokenizer, PADDING, TRUNCATING, MAXLEN)\n",
    "val_pad_trunc_seq = seq_pad_and_trunc(val_sentences, tokenizer, PADDING, TRUNCATING, MAXLEN)\n",
    "\n",
    "print(f\"Padded and truncated training sequences have shape: {train_pad_trunc_seq.shape}\\n\")\n",
    "print(f\"Padded and truncated validation sequences have shape: {val_pad_trunc_seq.shape}\")"
   ]
  },
  {
   "cell_type": "markdown",
   "id": "posted-stockholm",
   "metadata": {
    "id": "posted-stockholm"
   },
   "source": [
    "***Expected Output:***\n",
    "\n",
    "```\n",
    "Padded and truncated training sequences have shape: (144000, 16)\n",
    "\n",
    "Padded and truncated validation sequences have shape: (16000, 16)\n",
    "\n",
    "```"
   ]
  },
  {
   "cell_type": "markdown",
   "id": "least-rough",
   "metadata": {
    "id": "least-rough"
   },
   "source": [
    "Remember that the `pad_sequences` function returns numpy arrays, so your training and validation sequences are already in this format.\n",
    "\n",
    "However the labels are still Python lists. Before going forward you should convert them numpy arrays as well. You can do this by running the following cell:"
   ]
  },
  {
   "cell_type": "code",
   "execution_count": 16,
   "id": "studied-minneapolis",
   "metadata": {
    "executionInfo": {
     "elapsed": 10,
     "status": "ok",
     "timestamp": 1664868202176,
     "user": {
      "displayName": "Nuttasit Phasukdee",
      "userId": "18189687788475661690"
     },
     "user_tz": -420
    },
    "id": "studied-minneapolis",
    "tags": [
     "graded"
    ]
   },
   "outputs": [],
   "source": [
    "train_labels = np.array(train_labels)\n",
    "val_labels = np.array(val_labels)"
   ]
  },
  {
   "cell_type": "code",
   "execution_count": 17,
   "id": "66222b50",
   "metadata": {},
   "outputs": [
    {
     "name": "stdout",
     "output_type": "stream",
     "text": [
      "(144000,)\n",
      "[1 1 1 1 1 1 1 1 1 1]\n"
     ]
    }
   ],
   "source": [
    "print(train_labels.shape)\n",
    "print(train_labels[0:10])"
   ]
  },
  {
   "cell_type": "markdown",
   "id": "corresponding-choir",
   "metadata": {
    "id": "corresponding-choir"
   },
   "source": [
    "# Using pre-defined Embeddings\n",
    "\n",
    "This time you will not be learning embeddings from your data but you will be using pre-trained word vectors.\n",
    "\n",
    "In particular you will be using the 100 dimension version of [GloVe](https://nlp.stanford.edu/projects/glove/) from Stanford."
   ]
  },
  {
   "cell_type": "code",
   "execution_count": 18,
   "id": "continental-pittsburgh",
   "metadata": {
    "executionInfo": {
     "elapsed": 6816,
     "status": "ok",
     "timestamp": 1664868208983,
     "user": {
      "displayName": "Nuttasit Phasukdee",
      "userId": "18189687788475661690"
     },
     "user_tz": -420
    },
    "id": "continental-pittsburgh",
    "tags": [
     "graded"
    ]
   },
   "outputs": [],
   "source": [
    "# Define path to file containing the embeddings\n",
    "GLOVE_FILE = './data/glove.6B.100d.txt'\n",
    "# GLOVE_FILE = \"drive/MyDrive/Colab Notebooks/Coursera/tensorflow-developer/lab/assignment/data/glove.6B.100d.txt\"\n",
    "\n",
    "# Initialize an empty embeddings index dictionary\n",
    "# Keys are words\n",
    "# Values are weights of words in Embedding layer's dimensions\n",
    "GLOVE_EMBEDDINGS = {}\n",
    "\n",
    "# Read file and fill GLOVE_EMBEDDINGS with its contents\n",
    "with open(GLOVE_FILE, encoding=\"utf8\") as f:\n",
    "    for line in f:\n",
    "        values = line.split()\n",
    "        word = values[0]\n",
    "        coefs = np.asarray(values[1:], dtype='float32')\n",
    "        GLOVE_EMBEDDINGS[word] = coefs"
   ]
  },
  {
   "cell_type": "code",
   "execution_count": 19,
   "id": "0e1fc213",
   "metadata": {},
   "outputs": [
    {
     "name": "stdout",
     "output_type": "stream",
     "text": [
      "<class 'dict'>\n",
      "400000\n",
      "(100,)\n"
     ]
    }
   ],
   "source": [
    "print(type(GLOVE_EMBEDDINGS))\n",
    "# 400000 words\n",
    "print(len(GLOVE_EMBEDDINGS.keys()))\n",
    "# Each word has 100 dimensions\n",
    "print(GLOVE_EMBEDDINGS[\"the\"].shape)"
   ]
  },
  {
   "cell_type": "markdown",
   "id": "varied-furniture",
   "metadata": {
    "id": "varied-furniture"
   },
   "source": [
    "Now you have access to GloVe's pre-trained word vectors. Isn't that cool?\n",
    "\n",
    "Let's take a look at the vector for the word **dog**:"
   ]
  },
  {
   "cell_type": "code",
   "execution_count": 20,
   "id": "awful-mouse",
   "metadata": {
    "colab": {
     "base_uri": "https://localhost:8080/"
    },
    "executionInfo": {
     "elapsed": 20,
     "status": "ok",
     "timestamp": 1664868208983,
     "user": {
      "displayName": "Nuttasit Phasukdee",
      "userId": "18189687788475661690"
     },
     "user_tz": -420
    },
    "id": "awful-mouse",
    "outputId": "a054d8ff-359d-41f4-a34a-c34a5827fe9b",
    "tags": [
     "graded"
    ]
   },
   "outputs": [
    {
     "name": "stdout",
     "output_type": "stream",
     "text": [
      "Vector representation of word dog looks like this:\n",
      "\n",
      "[ 0.30817    0.30938    0.52803   -0.92543   -0.73671    0.63475\n",
      "  0.44197    0.10262   -0.09142   -0.56607   -0.5327     0.2013\n",
      "  0.7704    -0.13983    0.13727    1.1128     0.89301   -0.17869\n",
      " -0.0019722  0.57289    0.59479    0.50428   -0.28991   -1.3491\n",
      "  0.42756    1.2748    -1.1613    -0.41084    0.042804   0.54866\n",
      "  0.18897    0.3759     0.58035    0.66975    0.81156    0.93864\n",
      " -0.51005   -0.070079   0.82819   -0.35346    0.21086   -0.24412\n",
      " -0.16554   -0.78358   -0.48482    0.38968   -0.86356   -0.016391\n",
      "  0.31984   -0.49246   -0.069363   0.018869  -0.098286   1.3126\n",
      " -0.12116   -1.2399    -0.091429   0.35294    0.64645    0.089642\n",
      "  0.70294    1.1244     0.38639    0.52084    0.98787    0.79952\n",
      " -0.34625    0.14095    0.80167    0.20987   -0.86007   -0.15308\n",
      "  0.074523   0.40816    0.019208   0.51587   -0.34428   -0.24525\n",
      " -0.77984    0.27425    0.22418    0.20164    0.017431  -0.014697\n",
      " -1.0235    -0.39695   -0.0056188  0.30569    0.31748    0.021404\n",
      "  0.11837   -0.11319    0.42456    0.53405   -0.16717   -0.27185\n",
      " -0.6255     0.12883    0.62529   -0.52086  ]\n"
     ]
    }
   ],
   "source": [
    "test_word = 'dog'\n",
    "\n",
    "test_vector = GLOVE_EMBEDDINGS[test_word]\n",
    "\n",
    "print(f\"Vector representation of word {test_word} looks like this:\\n\\n{test_vector}\")"
   ]
  },
  {
   "cell_type": "markdown",
   "id": "persistent-tolerance",
   "metadata": {
    "id": "persistent-tolerance"
   },
   "source": [
    "Feel free to change the `test_word` to see the vector representation of any word you can think of.\n",
    "\n",
    "Also, notice that the dimension of each vector is 100. You can easily double check this by running the following cell:"
   ]
  },
  {
   "cell_type": "code",
   "execution_count": 21,
   "id": "published-surgery",
   "metadata": {
    "colab": {
     "base_uri": "https://localhost:8080/"
    },
    "executionInfo": {
     "elapsed": 15,
     "status": "ok",
     "timestamp": 1664868208983,
     "user": {
      "displayName": "Nuttasit Phasukdee",
      "userId": "18189687788475661690"
     },
     "user_tz": -420
    },
    "id": "published-surgery",
    "outputId": "5991eff8-5f2a-4048-80aa-e7cb11daf0e5",
    "tags": [
     "graded"
    ]
   },
   "outputs": [
    {
     "name": "stdout",
     "output_type": "stream",
     "text": [
      "Each word vector has shape: (100,)\n"
     ]
    }
   ],
   "source": [
    "print(f\"Each word vector has shape: {test_vector.shape}\")"
   ]
  },
  {
   "cell_type": "markdown",
   "id": "handy-chuck",
   "metadata": {
    "id": "handy-chuck"
   },
   "source": [
    "## Represent the words in your vocabulary using the embeddings\n",
    "\n",
    "Save the vector representation of each word in the vocabulary in a numpy array.\n",
    "\n",
    "A couple of things to notice:\n",
    "- If a word in your vocabulary is not present in `GLOVE_EMBEDDINGS` the representation for that word is left as a column of zeros.\n",
    "- `word_index` starts counting at 1, because of this you will need to add an extra column at the left-most side of the `EMBEDDINGS_MATRIX` array. This is the reason why you add 1 to `VOCAB_SIZE` in the cell below:"
   ]
  },
  {
   "cell_type": "code",
   "execution_count": 22,
   "id": "88076c4d",
   "metadata": {},
   "outputs": [
    {
     "data": {
      "text/plain": [
       "{'<OOV>': 1,\n",
       " 'i': 2,\n",
       " 'to': 3,\n",
       " 'the': 4,\n",
       " 'a': 5,\n",
       " 'my': 6,\n",
       " 'and': 7,\n",
       " 'you': 8,\n",
       " 'is': 9,\n",
       " 'it': 10,\n",
       " 'in': 11,\n",
       " 'for': 12,\n",
       " 'of': 13,\n",
       " 'on': 14,\n",
       " 'me': 15,\n",
       " 'so': 16,\n",
       " 'have': 17,\n",
       " 'that': 18,\n",
       " 'but': 19,\n",
       " \"i'm\": 20,\n",
       " 'just': 21,\n",
       " 'with': 22,\n",
       " 'at': 23,\n",
       " 'be': 24,\n",
       " 'not': 25,\n",
       " 'was': 26,\n",
       " 'this': 27,\n",
       " 'now': 28,\n",
       " 'good': 29,\n",
       " 'up': 30,\n",
       " 'day': 31,\n",
       " 'out': 32,\n",
       " 'all': 33,\n",
       " 'get': 34,\n",
       " 'like': 35,\n",
       " 'no': 36,\n",
       " 'are': 37,\n",
       " 'go': 38,\n",
       " 'quot': 39,\n",
       " 'http': 40,\n",
       " 'do': 41,\n",
       " \"it's\": 42,\n",
       " 'too': 43,\n",
       " 'today': 44,\n",
       " 'work': 45,\n",
       " 'your': 46,\n",
       " 'love': 47,\n",
       " 'going': 48,\n",
       " 'got': 49,\n",
       " 'lol': 50,\n",
       " 'time': 51,\n",
       " 'back': 52,\n",
       " 'from': 53,\n",
       " 'u': 54,\n",
       " 'one': 55,\n",
       " 'what': 56,\n",
       " 'will': 57,\n",
       " 'we': 58,\n",
       " 'com': 59,\n",
       " 'know': 60,\n",
       " 'am': 61,\n",
       " 'im': 62,\n",
       " 'amp': 63,\n",
       " 'really': 64,\n",
       " 'about': 65,\n",
       " \"don't\": 66,\n",
       " 'had': 67,\n",
       " 'can': 68,\n",
       " 'see': 69,\n",
       " \"can't\": 70,\n",
       " 'its': 71,\n",
       " 'some': 72,\n",
       " 'if': 73,\n",
       " 'night': 74,\n",
       " '2': 75,\n",
       " 'still': 76,\n",
       " 'new': 77,\n",
       " 'well': 78,\n",
       " 'want': 79,\n",
       " 'how': 80,\n",
       " 'think': 81,\n",
       " 'home': 82,\n",
       " 'thanks': 83,\n",
       " 'oh': 84,\n",
       " 'as': 85,\n",
       " 'when': 86,\n",
       " 'there': 87,\n",
       " 'more': 88,\n",
       " 'off': 89,\n",
       " 'miss': 90,\n",
       " 'they': 91,\n",
       " 'here': 92,\n",
       " 'much': 93,\n",
       " 'need': 94,\n",
       " 'last': 95,\n",
       " 'an': 96,\n",
       " 'then': 97,\n",
       " 'hope': 98,\n",
       " 'great': 99,\n",
       " 'morning': 100,\n",
       " 'tomorrow': 101,\n",
       " 'been': 102,\n",
       " 'or': 103,\n",
       " '3': 104,\n",
       " 'has': 105,\n",
       " 'twitter': 106,\n",
       " 'haha': 107,\n",
       " 'again': 108,\n",
       " 'her': 109,\n",
       " 'feel': 110,\n",
       " 'sad': 111,\n",
       " 'fun': 112,\n",
       " 'wish': 113,\n",
       " 'why': 114,\n",
       " 'sleep': 115,\n",
       " 'only': 116,\n",
       " 'right': 117,\n",
       " 'he': 118,\n",
       " 'would': 119,\n",
       " 'happy': 120,\n",
       " 'bad': 121,\n",
       " 'very': 122,\n",
       " 'sorry': 123,\n",
       " 'did': 124,\n",
       " 'by': 125,\n",
       " 'tonight': 126,\n",
       " 'way': 127,\n",
       " 'come': 128,\n",
       " \"i'll\": 129,\n",
       " 'them': 130,\n",
       " 'though': 131,\n",
       " 'make': 132,\n",
       " 'getting': 133,\n",
       " 'bit': 134,\n",
       " 'over': 135,\n",
       " 'gonna': 136,\n",
       " 'better': 137,\n",
       " 'watching': 138,\n",
       " 'wait': 139,\n",
       " 'nice': 140,\n",
       " 'yeah': 141,\n",
       " 'she': 142,\n",
       " 'bed': 143,\n",
       " \"that's\": 144,\n",
       " 'could': 145,\n",
       " 'should': 146,\n",
       " 'twitpic': 147,\n",
       " 'him': 148,\n",
       " 'week': 149,\n",
       " \"didn't\": 150,\n",
       " 'hate': 151,\n",
       " 'school': 152,\n",
       " 'people': 153,\n",
       " '4': 154,\n",
       " \"you're\": 155,\n",
       " \"i've\": 156,\n",
       " 'next': 157,\n",
       " 'hey': 158,\n",
       " 'yes': 159,\n",
       " 'after': 160,\n",
       " 'even': 161,\n",
       " 'days': 162,\n",
       " 'dont': 163,\n",
       " 'soon': 164,\n",
       " 'down': 165,\n",
       " 'awesome': 166,\n",
       " 'cant': 167,\n",
       " 'weekend': 168,\n",
       " 'never': 169,\n",
       " 'were': 170,\n",
       " 'long': 171,\n",
       " 'working': 172,\n",
       " 'lt': 173,\n",
       " 'thank': 174,\n",
       " 'little': 175,\n",
       " 'please': 176,\n",
       " 'who': 177,\n",
       " 'first': 178,\n",
       " 'wanna': 179,\n",
       " 'show': 180,\n",
       " 'say': 181,\n",
       " 'having': 182,\n",
       " 'take': 183,\n",
       " 'tired': 184,\n",
       " 'doing': 185,\n",
       " 'ok': 186,\n",
       " 'sick': 187,\n",
       " 'his': 188,\n",
       " 'watch': 189,\n",
       " 'everyone': 190,\n",
       " 'being': 191,\n",
       " 'best': 192,\n",
       " 'feeling': 193,\n",
       " 'life': 194,\n",
       " 'x': 195,\n",
       " 'us': 196,\n",
       " 'always': 197,\n",
       " 'done': 198,\n",
       " 'our': 199,\n",
       " 'sure': 200,\n",
       " 'any': 201,\n",
       " 'cool': 202,\n",
       " 'than': 203,\n",
       " 'already': 204,\n",
       " 'thing': 205,\n",
       " '1': 206,\n",
       " 'ready': 207,\n",
       " 'another': 208,\n",
       " 'because': 209,\n",
       " 'something': 210,\n",
       " 'friends': 211,\n",
       " 'ly': 212,\n",
       " 'guys': 213,\n",
       " 'went': 214,\n",
       " 'phone': 215,\n",
       " 'man': 216,\n",
       " 'looking': 217,\n",
       " 'where': 218,\n",
       " 'find': 219,\n",
       " 'yet': 220,\n",
       " 'before': 221,\n",
       " 'hours': 222,\n",
       " 'yay': 223,\n",
       " 'made': 224,\n",
       " 'look': 225,\n",
       " 'ur': 226,\n",
       " 'ever': 227,\n",
       " 'pretty': 228,\n",
       " 'away': 229,\n",
       " 'house': 230,\n",
       " 'summer': 231,\n",
       " 'p': 232,\n",
       " 'movie': 233,\n",
       " 'tweet': 234,\n",
       " 'omg': 235,\n",
       " 'maybe': 236,\n",
       " '5': 237,\n",
       " 'trying': 238,\n",
       " 'amazing': 239,\n",
       " 'damn': 240,\n",
       " 'early': 241,\n",
       " 'help': 242,\n",
       " 'let': 243,\n",
       " 'old': 244,\n",
       " 'guess': 245,\n",
       " 'finally': 246,\n",
       " 'left': 247,\n",
       " 'into': 248,\n",
       " 'things': 249,\n",
       " 'wow': 250,\n",
       " 'big': 251,\n",
       " 'thought': 252,\n",
       " 'lost': 253,\n",
       " 'glad': 254,\n",
       " \"won't\": 255,\n",
       " 'other': 256,\n",
       " 'follow': 257,\n",
       " 'hot': 258,\n",
       " 'nothing': 259,\n",
       " 'sucks': 260,\n",
       " 'someone': 261,\n",
       " 'does': 262,\n",
       " 'live': 263,\n",
       " 'coming': 264,\n",
       " 'rain': 265,\n",
       " 'missed': 266,\n",
       " 'start': 267,\n",
       " 'n': 268,\n",
       " 'keep': 269,\n",
       " 'while': 270,\n",
       " 'waiting': 271,\n",
       " 'girl': 272,\n",
       " 'friend': 273,\n",
       " 'party': 274,\n",
       " 'looks': 275,\n",
       " 'w': 276,\n",
       " \"doesn't\": 277,\n",
       " 'baby': 278,\n",
       " 'saw': 279,\n",
       " 'weather': 280,\n",
       " 'year': 281,\n",
       " 'same': 282,\n",
       " 'also': 283,\n",
       " 'birthday': 284,\n",
       " 'song': 285,\n",
       " 'tell': 286,\n",
       " 'ugh': 287,\n",
       " 'actually': 288,\n",
       " 'hear': 289,\n",
       " 'try': 290,\n",
       " 'those': 291,\n",
       " 'two': 292,\n",
       " 'play': 293,\n",
       " 'thats': 294,\n",
       " 'later': 295,\n",
       " 'bored': 296,\n",
       " 'game': 297,\n",
       " 'might': 298,\n",
       " 'makes': 299,\n",
       " 'ya': 300,\n",
       " 'hard': 301,\n",
       " 'sun': 302,\n",
       " 'stuff': 303,\n",
       " 'yesterday': 304,\n",
       " 'since': 305,\n",
       " 'excited': 306,\n",
       " 'world': 307,\n",
       " 'god': 308,\n",
       " 'myself': 309,\n",
       " 'until': 310,\n",
       " 'gotta': 311,\n",
       " 'said': 312,\n",
       " 'car': 313,\n",
       " 'lot': 314,\n",
       " 'o': 315,\n",
       " 'hi': 316,\n",
       " 'b': 317,\n",
       " 'such': 318,\n",
       " 'late': 319,\n",
       " 'r': 320,\n",
       " 'few': 321,\n",
       " 'www': 322,\n",
       " 'job': 323,\n",
       " 'making': 324,\n",
       " 'around': 325,\n",
       " 'call': 326,\n",
       " 'many': 327,\n",
       " 'head': 328,\n",
       " 'missing': 329,\n",
       " 'check': 330,\n",
       " 'their': 331,\n",
       " 'give': 332,\n",
       " 'cold': 333,\n",
       " 'sounds': 334,\n",
       " 'read': 335,\n",
       " 'sunday': 336,\n",
       " 'music': 337,\n",
       " 'must': 338,\n",
       " 'friday': 339,\n",
       " 'enjoy': 340,\n",
       " 'gone': 341,\n",
       " 'may': 342,\n",
       " \"he's\": 343,\n",
       " 'mom': 344,\n",
       " 'found': 345,\n",
       " \"haven't\": 346,\n",
       " 'leave': 347,\n",
       " 'luck': 348,\n",
       " 'monday': 349,\n",
       " 'most': 350,\n",
       " \"isn't\": 351,\n",
       " 'aww': 352,\n",
       " 'okay': 353,\n",
       " 'times': 354,\n",
       " 'stop': 355,\n",
       " 'talk': 356,\n",
       " 'hair': 357,\n",
       " 'poor': 358,\n",
       " 'iphone': 359,\n",
       " 'cute': 360,\n",
       " 'beautiful': 361,\n",
       " 'funny': 362,\n",
       " 'lunch': 363,\n",
       " 'use': 364,\n",
       " 'put': 365,\n",
       " 'wanted': 366,\n",
       " 'gt': 367,\n",
       " 'welcome': 368,\n",
       " 'playing': 369,\n",
       " 'free': 370,\n",
       " 'd': 371,\n",
       " 'woke': 372,\n",
       " 'end': 373,\n",
       " 'hour': 374,\n",
       " 'least': 375,\n",
       " 'anything': 376,\n",
       " 'till': 377,\n",
       " 'listening': 378,\n",
       " 'dinner': 379,\n",
       " 'followers': 380,\n",
       " 'finished': 381,\n",
       " 'family': 382,\n",
       " 'tho': 383,\n",
       " 'food': 384,\n",
       " 'far': 385,\n",
       " 'shit': 386,\n",
       " 'anyone': 387,\n",
       " 'thinking': 388,\n",
       " 'which': 389,\n",
       " 'hurts': 390,\n",
       " 'everything': 391,\n",
       " 'believe': 392,\n",
       " \"i'd\": 393,\n",
       " 'anymore': 394,\n",
       " 'forward': 395,\n",
       " 'totally': 396,\n",
       " 'stupid': 397,\n",
       " 'almost': 398,\n",
       " '6': 399,\n",
       " 'mean': 400,\n",
       " 'coffee': 401,\n",
       " '10': 402,\n",
       " 'eat': 403,\n",
       " 'ill': 404,\n",
       " 'these': 405,\n",
       " 's': 406,\n",
       " 'without': 407,\n",
       " 'video': 408,\n",
       " 'tv': 409,\n",
       " 'outside': 410,\n",
       " 'hahaha': 411,\n",
       " 'once': 412,\n",
       " 'probably': 413,\n",
       " 'buy': 414,\n",
       " 'sweet': 415,\n",
       " 'real': 416,\n",
       " 'saturday': 417,\n",
       " 'mine': 418,\n",
       " 'lovely': 419,\n",
       " 'through': 420,\n",
       " 'tinyurl': 421,\n",
       " 'room': 422,\n",
       " 'ha': 423,\n",
       " 'enough': 424,\n",
       " 'every': 425,\n",
       " 'wrong': 426,\n",
       " 'class': 427,\n",
       " 'money': 428,\n",
       " 'place': 429,\n",
       " 't': 430,\n",
       " \"we're\": 431,\n",
       " 'cause': 432,\n",
       " 'whole': 433,\n",
       " \"she's\": 434,\n",
       " 'says': 435,\n",
       " 'following': 436,\n",
       " 'exam': 437,\n",
       " 'busy': 438,\n",
       " 'plurk': 439,\n",
       " 'xx': 440,\n",
       " 'didnt': 441,\n",
       " '7': 442,\n",
       " 'weeks': 443,\n",
       " 'win': 444,\n",
       " 'kinda': 445,\n",
       " 'stay': 446,\n",
       " 'tweets': 447,\n",
       " '30': 448,\n",
       " 'pic': 449,\n",
       " 'sooo': 450,\n",
       " 'both': 451,\n",
       " 'came': 452,\n",
       " 'guy': 453,\n",
       " 'name': 454,\n",
       " 'hello': 455,\n",
       " 'kids': 456,\n",
       " 'crazy': 457,\n",
       " 'wants': 458,\n",
       " 'seen': 459,\n",
       " 'post': 460,\n",
       " \"there's\": 461,\n",
       " 'eating': 462,\n",
       " 'full': 463,\n",
       " 'hopefully': 464,\n",
       " \"couldn't\": 465,\n",
       " 'goodnight': 466,\n",
       " 'headache': 467,\n",
       " 'lots': 468,\n",
       " 'years': 469,\n",
       " 'face': 470,\n",
       " 'took': 471,\n",
       " 'dad': 472,\n",
       " 'super': 473,\n",
       " 'true': 474,\n",
       " \"wasn't\": 475,\n",
       " \"what's\": 476,\n",
       " \"they're\": 477,\n",
       " '8': 478,\n",
       " 'rest': 479,\n",
       " 'else': 480,\n",
       " 'taking': 481,\n",
       " 'ago': 482,\n",
       " 'girls': 483,\n",
       " 'beach': 484,\n",
       " 'news': 485,\n",
       " 'book': 486,\n",
       " 'idea': 487,\n",
       " 'sitting': 488,\n",
       " 'run': 489,\n",
       " 'either': 490,\n",
       " 'half': 491,\n",
       " 'meet': 492,\n",
       " 'hell': 493,\n",
       " 'awww': 494,\n",
       " 'used': 495,\n",
       " 'cuz': 496,\n",
       " 'trip': 497,\n",
       " 'shopping': 498,\n",
       " 'leaving': 499,\n",
       " 'computer': 500,\n",
       " 'tried': 501,\n",
       " 'heart': 502,\n",
       " 'ah': 503,\n",
       " 'able': 504,\n",
       " 'reading': 505,\n",
       " 'hurt': 506,\n",
       " 'dog': 507,\n",
       " 'alone': 508,\n",
       " 'online': 509,\n",
       " 'seems': 510,\n",
       " 'send': 511,\n",
       " 'heard': 512,\n",
       " 'feels': 513,\n",
       " 'course': 514,\n",
       " 'soo': 515,\n",
       " 'forgot': 516,\n",
       " 'office': 517,\n",
       " 'needs': 518,\n",
       " 'wont': 519,\n",
       " 'internet': 520,\n",
       " 'own': 521,\n",
       " 'kind': 522,\n",
       " 'boo': 523,\n",
       " 'remember': 524,\n",
       " 'boy': 525,\n",
       " 'pics': 526,\n",
       " 'btw': 527,\n",
       " 'blog': 528,\n",
       " 'mind': 529,\n",
       " 'part': 530,\n",
       " 'open': 531,\n",
       " 'fuck': 532,\n",
       " 'raining': 533,\n",
       " 'watched': 534,\n",
       " 'c': 535,\n",
       " 'picture': 536,\n",
       " 'add': 537,\n",
       " 'hit': 538,\n",
       " 'pain': 539,\n",
       " 'facebook': 540,\n",
       " 'started': 541,\n",
       " 'awake': 542,\n",
       " 'stuck': 543,\n",
       " 'told': 544,\n",
       " 'lmao': 545,\n",
       " 'm': 546,\n",
       " 'seeing': 547,\n",
       " 'using': 548,\n",
       " 'seriously': 549,\n",
       " 'crap': 550,\n",
       " 'breakfast': 551,\n",
       " 'concert': 552,\n",
       " 'mileycyrus': 553,\n",
       " 'change': 554,\n",
       " 'called': 555,\n",
       " 'cry': 556,\n",
       " 'hehe': 557,\n",
       " 'minutes': 558,\n",
       " 'season': 559,\n",
       " 'anyway': 560,\n",
       " 'gets': 561,\n",
       " 'la': 562,\n",
       " 'pay': 563,\n",
       " 'train': 564,\n",
       " 'drive': 565,\n",
       " 'heading': 566,\n",
       " 'fine': 567,\n",
       " 'til': 568,\n",
       " 'sunny': 569,\n",
       " 'goes': 570,\n",
       " 'boring': 571,\n",
       " 'wake': 572,\n",
       " 'enjoying': 573,\n",
       " 'quite': 574,\n",
       " 'june': 575,\n",
       " 'study': 576,\n",
       " 'shower': 577,\n",
       " 'bring': 578,\n",
       " 'care': 579,\n",
       " 'break': 580,\n",
       " 'wonderful': 581,\n",
       " 'person': 582,\n",
       " 'dude': 583,\n",
       " 'talking': 584,\n",
       " '100': 585,\n",
       " 'reply': 586,\n",
       " 'update': 587,\n",
       " 'rock': 588,\n",
       " 'loved': 589,\n",
       " 'e': 590,\n",
       " 'site': 591,\n",
       " 'broke': 592,\n",
       " 'bought': 593,\n",
       " 'starting': 594,\n",
       " 'text': 595,\n",
       " 'afternoon': 596,\n",
       " 'hungry': 597,\n",
       " 'homework': 598,\n",
       " 'fan': 599,\n",
       " 'asleep': 600,\n",
       " 'favorite': 601,\n",
       " 'aw': 602,\n",
       " 'link': 603,\n",
       " 'ass': 604,\n",
       " 'instead': 605,\n",
       " '9': 606,\n",
       " \"you'll\": 607,\n",
       " 'walk': 608,\n",
       " 'jealous': 609,\n",
       " 'lucky': 610,\n",
       " 'laptop': 611,\n",
       " 'month': 612,\n",
       " 'weird': 613,\n",
       " 'problem': 614,\n",
       " 'ddlovato': 615,\n",
       " 'youtube': 616,\n",
       " 'bye': 617,\n",
       " 'brother': 618,\n",
       " 'happened': 619,\n",
       " 'sometimes': 620,\n",
       " 'soooo': 621,\n",
       " 'ice': 622,\n",
       " '0': 623,\n",
       " 'xd': 624,\n",
       " 'red': 625,\n",
       " 'sleeping': 626,\n",
       " 'tommcfly': 627,\n",
       " 'definitely': 628,\n",
       " 'exams': 629,\n",
       " \"we'll\": 630,\n",
       " 'congrats': 631,\n",
       " 'fm': 632,\n",
       " 'less': 633,\n",
       " 'running': 634,\n",
       " 'sore': 635,\n",
       " 'movies': 636,\n",
       " 'email': 637,\n",
       " 'album': 638,\n",
       " 'sister': 639,\n",
       " 'died': 640,\n",
       " 'yea': 641,\n",
       " '20': 642,\n",
       " 'dream': 643,\n",
       " 'suck': 644,\n",
       " 'works': 645,\n",
       " '12': 646,\n",
       " 'mad': 647,\n",
       " 'fail': 648,\n",
       " 'city': 649,\n",
       " 'dear': 650,\n",
       " 'drink': 651,\n",
       " 'perfect': 652,\n",
       " 'loves': 653,\n",
       " 'town': 654,\n",
       " 'ask': 655,\n",
       " 'together': 656,\n",
       " 'means': 657,\n",
       " 'couple': 658,\n",
       " 'blip': 659,\n",
       " 'bout': 660,\n",
       " 'hoping': 661,\n",
       " 'list': 662,\n",
       " 'sigh': 663,\n",
       " 'high': 664,\n",
       " 'clean': 665,\n",
       " 'knew': 666,\n",
       " 'months': 667,\n",
       " 'cut': 668,\n",
       " 'ive': 669,\n",
       " 'sound': 670,\n",
       " 'dance': 671,\n",
       " 'top': 672,\n",
       " 'test': 673,\n",
       " 'nite': 674,\n",
       " 'uk': 675,\n",
       " 'cat': 676,\n",
       " 'water': 677,\n",
       " 'church': 678,\n",
       " 'ppl': 679,\n",
       " 'won': 680,\n",
       " 'set': 681,\n",
       " 'english': 682,\n",
       " 'songs': 683,\n",
       " 'boys': 684,\n",
       " 'move': 685,\n",
       " 'write': 686,\n",
       " 'tea': 687,\n",
       " 'comes': 688,\n",
       " 'mr': 689,\n",
       " 'dead': 690,\n",
       " 'ride': 691,\n",
       " 're': 692,\n",
       " 'goin': 693,\n",
       " 'visit': 694,\n",
       " 'side': 695,\n",
       " 'photo': 696,\n",
       " 'ipod': 697,\n",
       " 'eyes': 698,\n",
       " 'agree': 699,\n",
       " 'meeting': 700,\n",
       " 'listen': 701,\n",
       " 'tour': 702,\n",
       " 'story': 703,\n",
       " 'reason': 704,\n",
       " 'tickets': 705,\n",
       " 'seem': 706,\n",
       " 'final': 707,\n",
       " 'finish': 708,\n",
       " 'chocolate': 709,\n",
       " 'hang': 710,\n",
       " 'y': 711,\n",
       " 'moment': 712,\n",
       " 'gym': 713,\n",
       " 'l': 714,\n",
       " 'xxx': 715,\n",
       " 'close': 716,\n",
       " 'evening': 717,\n",
       " 'supposed': 718,\n",
       " 'nap': 719,\n",
       " 'ahh': 720,\n",
       " 'worst': 721,\n",
       " 'mood': 722,\n",
       " 'broken': 723,\n",
       " 'fb': 724,\n",
       " 'loving': 725,\n",
       " 'london': 726,\n",
       " 'saying': 727,\n",
       " 'studying': 728,\n",
       " 'interesting': 729,\n",
       " 'turn': 730,\n",
       " 'fucking': 731,\n",
       " 'cream': 732,\n",
       " \"'\": 733,\n",
       " 'store': 734,\n",
       " 'past': 735,\n",
       " 'wedding': 736,\n",
       " 'unfortunately': 737,\n",
       " 'fall': 738,\n",
       " 'happen': 739,\n",
       " 'fast': 740,\n",
       " 'ate': 741,\n",
       " 'short': 742,\n",
       " 'air': 743,\n",
       " 'three': 744,\n",
       " 'ones': 745,\n",
       " 'second': 746,\n",
       " 'lil': 747,\n",
       " 'via': 748,\n",
       " '11': 749,\n",
       " 'spent': 750,\n",
       " 'pick': 751,\n",
       " 'tweeting': 752,\n",
       " 'green': 753,\n",
       " 'writing': 754,\n",
       " 'pictures': 755,\n",
       " 'myspace': 756,\n",
       " '15': 757,\n",
       " 'cleaning': 758,\n",
       " 'sunshine': 759,\n",
       " '1st': 760,\n",
       " \"wouldn't\": 761,\n",
       " 'black': 762,\n",
       " 'yep': 763,\n",
       " 'lady': 764,\n",
       " 'page': 765,\n",
       " 'hmm': 766,\n",
       " 'holiday': 767,\n",
       " 'da': 768,\n",
       " 'horrible': 769,\n",
       " 'catch': 770,\n",
       " 'worse': 771,\n",
       " 'cannot': 772,\n",
       " 'driving': 773,\n",
       " 'wishing': 774,\n",
       " 'drinking': 775,\n",
       " 'pool': 776,\n",
       " 'worth': 777,\n",
       " 'whats': 778,\n",
       " 'moon': 779,\n",
       " 'account': 780,\n",
       " 'longer': 781,\n",
       " 'plan': 782,\n",
       " 'chance': 783,\n",
       " 'due': 784,\n",
       " 'mum': 785,\n",
       " \"let's\": 786,\n",
       " 'moving': 787,\n",
       " 'star': 788,\n",
       " 'apparently': 789,\n",
       " 'nope': 790,\n",
       " 'throat': 791,\n",
       " 'bet': 792,\n",
       " 'smile': 793,\n",
       " 'k': 794,\n",
       " 'david': 795,\n",
       " 'jonas': 796,\n",
       " 'understand': 797,\n",
       " 'under': 798,\n",
       " \"aren't\": 799,\n",
       " 'wonder': 800,\n",
       " 'word': 801,\n",
       " 'sat': 802,\n",
       " 'wtf': 803,\n",
       " 'dreams': 804,\n",
       " 'ahhh': 805,\n",
       " 'forget': 806,\n",
       " 'vote': 807,\n",
       " 'doesnt': 808,\n",
       " 'sent': 809,\n",
       " 'forever': 810,\n",
       " 'easy': 811,\n",
       " 'tuesday': 812,\n",
       " 'scared': 813,\n",
       " 'awards': 814,\n",
       " 'slow': 815,\n",
       " 'idk': 816,\n",
       " 'fair': 817,\n",
       " 'date': 818,\n",
       " 'sadly': 819,\n",
       " 'join': 820,\n",
       " 'beer': 821,\n",
       " 'park': 822,\n",
       " 'bday': 823,\n",
       " 'band': 824,\n",
       " 'upset': 825,\n",
       " 'plus': 826,\n",
       " 'die': 827,\n",
       " 'team': 828,\n",
       " 'hand': 829,\n",
       " 'mac': 830,\n",
       " 'shame': 831,\n",
       " 'special': 832,\n",
       " 'voice': 833,\n",
       " 'sleepy': 834,\n",
       " 'stomach': 835,\n",
       " 'words': 836,\n",
       " 'rather': 837,\n",
       " 'point': 838,\n",
       " 'thursday': 839,\n",
       " 'thx': 840,\n",
       " 'hanging': 841,\n",
       " 'airport': 842,\n",
       " 'college': 843,\n",
       " 'answer': 844,\n",
       " 'earlier': 845,\n",
       " 'updates': 846,\n",
       " 'miley': 847,\n",
       " 'followfriday': 848,\n",
       " 'worry': 849,\n",
       " 'fell': 850,\n",
       " \"you've\": 851,\n",
       " 'hugs': 852,\n",
       " 'message': 853,\n",
       " 'gave': 854,\n",
       " 'wondering': 855,\n",
       " 'flight': 856,\n",
       " 'huge': 857,\n",
       " \"it'll\": 858,\n",
       " 'bus': 859,\n",
       " 'spend': 860,\n",
       " 'cake': 861,\n",
       " 'bike': 862,\n",
       " 'liked': 863,\n",
       " 'kill': 864,\n",
       " 'wear': 865,\n",
       " 'tom': 866,\n",
       " 'luv': 867,\n",
       " 'vacation': 868,\n",
       " 'shoes': 869,\n",
       " 'bbq': 870,\n",
       " 'plans': 871,\n",
       " 'learn': 872,\n",
       " 'looked': 873,\n",
       " 'slept': 874,\n",
       " '2day': 875,\n",
       " 'absolutely': 876,\n",
       " 'google': 877,\n",
       " 'website': 878,\n",
       " 'wit': 879,\n",
       " 'flu': 880,\n",
       " 'especially': 881,\n",
       " 'july': 882,\n",
       " 'parents': 883,\n",
       " 'jonasbrothers': 884,\n",
       " 'crying': 885,\n",
       " 'alright': 886,\n",
       " 'fans': 887,\n",
       " 'support': 888,\n",
       " 'line': 889,\n",
       " 'shows': 890,\n",
       " 'lame': 891,\n",
       " 'mtv': 892,\n",
       " 'eye': 893,\n",
       " 'during': 894,\n",
       " 'yourself': 895,\n",
       " 'body': 896,\n",
       " 'radio': 897,\n",
       " 'gorgeous': 898,\n",
       " 'apple': 899,\n",
       " 'white': 900,\n",
       " 'chat': 901,\n",
       " 'warm': 902,\n",
       " 'hospital': 903,\n",
       " 'shirt': 904,\n",
       " 'v': 905,\n",
       " 'lonely': 906,\n",
       " 'road': 907,\n",
       " 'lazy': 908,\n",
       " 'power': 909,\n",
       " 'dress': 910,\n",
       " 'havent': 911,\n",
       " 'number': 912,\n",
       " 'small': 913,\n",
       " 'chicken': 914,\n",
       " 'photos': 915,\n",
       " 'project': 916,\n",
       " 'laugh': 917,\n",
       " 'officially': 918,\n",
       " 'thinks': 919,\n",
       " 'ouch': 920,\n",
       " 'needed': 921,\n",
       " 'vegas': 922,\n",
       " 'fix': 923,\n",
       " 'episode': 924,\n",
       " 'wednesday': 925,\n",
       " 'garden': 926,\n",
       " 'cd': 927,\n",
       " 'xoxo': 928,\n",
       " 'save': 929,\n",
       " 'different': 930,\n",
       " 'met': 931,\n",
       " 'shall': 932,\n",
       " 'dm': 933,\n",
       " 'decided': 934,\n",
       " 'business': 935,\n",
       " 'lets': 936,\n",
       " 'sims': 937,\n",
       " 'paper': 938,\n",
       " 'rainy': 939,\n",
       " 'finals': 940,\n",
       " 'ff': 941,\n",
       " 'figure': 942,\n",
       " 'behind': 943,\n",
       " 'inside': 944,\n",
       " 'proud': 945,\n",
       " 'pizza': 946,\n",
       " 'hates': 947,\n",
       " 'beat': 948,\n",
       " 'sign': 949,\n",
       " 'safe': 950,\n",
       " 'meant': 951,\n",
       " 'yummy': 952,\n",
       " 'pink': 953,\n",
       " 'tummy': 954,\n",
       " 'blue': 955,\n",
       " 'cos': 956,\n",
       " 'mother': 957,\n",
       " 'son': 958,\n",
       " 'annoying': 959,\n",
       " 'boyfriend': 960,\n",
       " 'front': 961,\n",
       " 'near': 962,\n",
       " 'card': 963,\n",
       " 'wishes': 964,\n",
       " 'scary': 965,\n",
       " 'played': 966,\n",
       " 'club': 967,\n",
       " 'case': 968,\n",
       " 'feet': 969,\n",
       " 'box': 970,\n",
       " 'camera': 971,\n",
       " 'hmmm': 972,\n",
       " 'packing': 973,\n",
       " 'j': 974,\n",
       " 'happens': 975,\n",
       " 'except': 976,\n",
       " 'question': 977,\n",
       " 'each': 978,\n",
       " 'knows': 979,\n",
       " 'share': 980,\n",
       " 'felt': 981,\n",
       " 'twilight': 982,\n",
       " 'order': 983,\n",
       " 'f': 984,\n",
       " 'hug': 985,\n",
       " 'waking': 986,\n",
       " 'passed': 987,\n",
       " 'kid': 988,\n",
       " 'web': 989,\n",
       " 'mail': 990,\n",
       " 'graduation': 991,\n",
       " 'goodbye': 992,\n",
       " 'worked': 993,\n",
       " 'french': 994,\n",
       " 'single': 995,\n",
       " 'alot': 996,\n",
       " 'whatever': 997,\n",
       " 'art': 998,\n",
       " 'hahah': 999,\n",
       " 'relaxing': 1000,\n",
       " ...}"
      ]
     },
     "execution_count": 22,
     "metadata": {},
     "output_type": "execute_result"
    }
   ],
   "source": [
    "word_index"
   ]
  },
  {
   "cell_type": "code",
   "execution_count": 23,
   "id": "crazy-process",
   "metadata": {
    "executionInfo": {
     "elapsed": 14,
     "status": "ok",
     "timestamp": 1664868208984,
     "user": {
      "displayName": "Nuttasit Phasukdee",
      "userId": "18189687788475661690"
     },
     "user_tz": -420
    },
    "id": "crazy-process",
    "tags": [
     "graded"
    ]
   },
   "outputs": [],
   "source": [
    "# Initialize an empty numpy array with the appropriate size\n",
    "EMBEDDINGS_MATRIX = np.zeros((VOCAB_SIZE+1, EMBEDDING_DIM))\n",
    "\n",
    "# Iterate all of the words in the vocabulary and if the vector representation for \n",
    "# each word exists within GloVe's representations, save it in the EMBEDDINGS_MATRIX array\n",
    "for word, i in word_index.items():\n",
    "    embedding_vector = GLOVE_EMBEDDINGS.get(word)\n",
    "    if embedding_vector is not None:\n",
    "        EMBEDDINGS_MATRIX[i] = embedding_vector"
   ]
  },
  {
   "cell_type": "code",
   "execution_count": 24,
   "id": "74105b3c",
   "metadata": {},
   "outputs": [
    {
     "name": "stdout",
     "output_type": "stream",
     "text": [
      "<class 'numpy.ndarray'>\n",
      "(128294, 100)\n",
      "float64\n"
     ]
    }
   ],
   "source": [
    "print(type(EMBEDDINGS_MATRIX))\n",
    "print(EMBEDDINGS_MATRIX.shape)\n",
    "print(EMBEDDINGS_MATRIX.dtype)"
   ]
  },
  {
   "cell_type": "code",
   "execution_count": 25,
   "id": "4c72f6a5",
   "metadata": {},
   "outputs": [
    {
     "data": {
      "text/plain": [
       "True"
      ]
     },
     "execution_count": 25,
     "metadata": {},
     "output_type": "execute_result"
    }
   ],
   "source": [
    "# Since Tokenizer.word_index is start at 1\n",
    "np.all(EMBEDDINGS_MATRIX[0] == 0)"
   ]
  },
  {
   "cell_type": "markdown",
   "id": "otherwise-chester",
   "metadata": {
    "id": "otherwise-chester"
   },
   "source": [
    "Now you have the pre-trained embeddings ready to use!"
   ]
  },
  {
   "cell_type": "markdown",
   "id": "missing-solution",
   "metadata": {
    "id": "missing-solution"
   },
   "source": [
    "## Define a model that does not overfit\n",
    "\n",
    "Now you need to define a model that will handle the problem at hand while not overfitting.\n",
    "\n",
    "A couple of things to note / hints:\n",
    "\n",
    "- The first layer is provided so you can see how the Embedding layer is configured when using pre-trained embeddings\n",
    "\n",
    "\n",
    "- You can try different combinations of layers covered in previous ungraded labs such as:\n",
    "    - `Conv1D`\n",
    "    - `Dropout`\n",
    "    - `GlobalMaxPooling1D`    \n",
    "    - `MaxPooling1D`    \n",
    "    - `LSTM`    \n",
    "    - `Bidirectional(LSTM)`\n",
    "\n",
    "\n",
    "- The last two layers should be `Dense` layers.\n",
    "\n",
    "\n",
    "- There multiple ways of solving this problem. So try an architecture that you think will not overfit.\n",
    "\n",
    "\n",
    "- Try simpler architectures first to avoid long training times. Architectures that are able to solve this problem usually have around 3-4 layers (excluding the last two `Dense` ones)\n",
    "\n",
    "\n",
    "- Include at least one `Dropout` layer to mitigate overfitting."
   ]
  },
  {
   "cell_type": "code",
   "execution_count": 26,
   "id": "representative-taylor",
   "metadata": {
    "executionInfo": {
     "elapsed": 14,
     "status": "ok",
     "timestamp": 1664868208984,
     "user": {
      "displayName": "Nuttasit Phasukdee",
      "userId": "18189687788475661690"
     },
     "user_tz": -420
    },
    "id": "representative-taylor",
    "tags": [
     "graded"
    ]
   },
   "outputs": [],
   "source": [
    "# GRADED FUNCTION: create_model\n",
    "def create_model(vocab_size, embedding_dim, maxlen, embeddings_matrix):\n",
    "    \"\"\"\n",
    "    Creates a binary sentiment classifier model\n",
    "    \n",
    "    Args:\n",
    "        vocab_size (int): size of the vocabulary for the Embedding layer input\n",
    "        embedding_dim (int): dimensionality of the Embedding layer output\n",
    "        maxlen (int): length of the input sequences\n",
    "        embeddings_matrix (array): predefined weights of the embeddings\n",
    "    \n",
    "    Returns:\n",
    "        model (tf.keras Model): the sentiment classifier model\n",
    "    \"\"\"\n",
    "    ### START CODE HERE\n",
    "    \n",
    "    model = tf.keras.Sequential([ \n",
    "        # This is how you need to set the Embedding layer when using pre-trained embeddings\n",
    "        # Add 1 to vocab_size since it starts at 1 (If not, it will miss match with the shape of embeddings_matrix)\n",
    "        tf.keras.layers.Embedding(vocab_size+1, embedding_dim, input_length=maxlen, weights=[embeddings_matrix], trainable=False), \n",
    "        tf.keras.layers.Dropout(0.2),\n",
    "        tf.keras.layers.Bidirectional(tf.keras.layers.LSTM(32, return_sequences=True)),\n",
    "        tf.keras.layers.Bidirectional(tf.keras.layers.LSTM(16)),\n",
    "        tf.keras.layers.Dense(12, activation=\"relu\"),\n",
    "        tf.keras.layers.Dense(1, activation=\"sigmoid\")\n",
    "    ])\n",
    "    \n",
    "    model.compile(loss=\"binary_crossentropy\",\n",
    "                  optimizer=\"adam\",\n",
    "                  metrics=['accuracy']) \n",
    "\n",
    "    ### END CODE HERE\n",
    "\n",
    "    return model"
   ]
  },
  {
   "cell_type": "code",
   "execution_count": 27,
   "id": "explicit-tokyo",
   "metadata": {
    "colab": {
     "base_uri": "https://localhost:8080/"
    },
    "executionInfo": {
     "elapsed": 2020,
     "status": "ok",
     "timestamp": 1664868210991,
     "user": {
      "displayName": "Nuttasit Phasukdee",
      "userId": "18189687788475661690"
     },
     "user_tz": -420
    },
    "id": "explicit-tokyo",
    "outputId": "08ee18e4-3859-46f9-b511-854afbb0126e",
    "tags": [
     "graded"
    ]
   },
   "outputs": [
    {
     "name": "stdout",
     "output_type": "stream",
     "text": [
      "Model: \"sequential\"\n",
      "_________________________________________________________________\n",
      " Layer (type)                Output Shape              Param #   \n",
      "=================================================================\n",
      " embedding (Embedding)       (None, 16, 100)           12829400  \n",
      "                                                                 \n",
      " dropout (Dropout)           (None, 16, 100)           0         \n",
      "                                                                 \n",
      " bidirectional (Bidirectiona  (None, 16, 64)           34048     \n",
      " l)                                                              \n",
      "                                                                 \n",
      " bidirectional_1 (Bidirectio  (None, 32)               10368     \n",
      " nal)                                                            \n",
      "                                                                 \n",
      " dense (Dense)               (None, 12)                396       \n",
      "                                                                 \n",
      " dense_1 (Dense)             (None, 1)                 13        \n",
      "                                                                 \n",
      "=================================================================\n",
      "Total params: 12,874,225\n",
      "Trainable params: 44,825\n",
      "Non-trainable params: 12,829,400\n",
      "_________________________________________________________________\n"
     ]
    }
   ],
   "source": [
    "# Create your untrained model\n",
    "model = create_model(VOCAB_SIZE, EMBEDDING_DIM, MAXLEN, EMBEDDINGS_MATRIX)\n",
    "\n",
    "model.summary()"
   ]
  },
  {
   "cell_type": "code",
   "execution_count": 28,
   "id": "JLiRQw0d3Kha",
   "metadata": {
    "colab": {
     "base_uri": "https://localhost:8080/"
    },
    "executionInfo": {
     "elapsed": 926286,
     "status": "ok",
     "timestamp": 1664869137273,
     "user": {
      "displayName": "Nuttasit Phasukdee",
      "userId": "18189687788475661690"
     },
     "user_tz": -420
    },
    "id": "JLiRQw0d3Kha",
    "outputId": "9c15a826-ac04-44aa-9867-d3e8834e0f74"
   },
   "outputs": [
    {
     "name": "stdout",
     "output_type": "stream",
     "text": [
      "Epoch 1/20\n",
      "4500/4500 [==============================] - 55s 11ms/step - loss: 0.0014 - accuracy: 1.0000 - val_loss: 7.3656e-07 - val_accuracy: 1.0000\n",
      "Epoch 2/20\n",
      "4500/4500 [==============================] - 47s 11ms/step - loss: 2.6775e-07 - accuracy: 1.0000 - val_loss: 6.1525e-08 - val_accuracy: 1.0000\n",
      "Epoch 3/20\n",
      "4500/4500 [==============================] - 45s 10ms/step - loss: 2.9136e-08 - accuracy: 1.0000 - val_loss: 1.9235e-08 - val_accuracy: 1.0000\n",
      "Epoch 4/20\n",
      "4500/4500 [==============================] - 45s 10ms/step - loss: 1.5208e-08 - accuracy: 1.0000 - val_loss: 1.1345e-08 - val_accuracy: 1.0000\n",
      "Epoch 5/20\n",
      "4500/4500 [==============================] - 45s 10ms/step - loss: 1.0126e-08 - accuracy: 1.0000 - val_loss: 7.5628e-09 - val_accuracy: 1.0000\n",
      "Epoch 6/20\n",
      "4500/4500 [==============================] - 45s 10ms/step - loss: 7.5095e-09 - accuracy: 1.0000 - val_loss: 7.2315e-09 - val_accuracy: 1.0000\n",
      "Epoch 7/20\n",
      "4500/4500 [==============================] - 45s 10ms/step - loss: 7.1962e-09 - accuracy: 1.0000 - val_loss: 6.9078e-09 - val_accuracy: 1.0000\n",
      "Epoch 8/20\n",
      "4500/4500 [==============================] - 45s 10ms/step - loss: 6.8430e-09 - accuracy: 1.0000 - val_loss: 6.5945e-09 - val_accuracy: 1.0000\n",
      "Epoch 9/20\n",
      "4500/4500 [==============================] - 45s 10ms/step - loss: 6.4353e-09 - accuracy: 1.0000 - val_loss: 6.1534e-09 - val_accuracy: 1.0000\n",
      "Epoch 10/20\n",
      "4500/4500 [==============================] - 45s 10ms/step - loss: 6.1669e-09 - accuracy: 1.0000 - val_loss: 6.0103e-09 - val_accuracy: 1.0000\n",
      "Epoch 11/20\n",
      "4500/4500 [==============================] - 48s 11ms/step - loss: 5.9852e-09 - accuracy: 1.0000 - val_loss: 5.8033e-09 - val_accuracy: 1.0000\n",
      "Epoch 12/20\n",
      "4500/4500 [==============================] - 48s 11ms/step - loss: 5.8221e-09 - accuracy: 1.0000 - val_loss: 5.7126e-09 - val_accuracy: 1.0000\n",
      "Epoch 13/20\n",
      "4500/4500 [==============================] - 47s 10ms/step - loss: 5.7558e-09 - accuracy: 1.0000 - val_loss: 5.6236e-09 - val_accuracy: 1.0000\n",
      "Epoch 14/20\n",
      "4500/4500 [==============================] - 50s 11ms/step - loss: 5.6249e-09 - accuracy: 1.0000 - val_loss: 5.5146e-09 - val_accuracy: 1.0000\n",
      "Epoch 15/20\n",
      "4500/4500 [==============================] - 47s 11ms/step - loss: 5.5447e-09 - accuracy: 1.0000 - val_loss: 5.4292e-09 - val_accuracy: 1.0000\n",
      "Epoch 16/20\n",
      "4500/4500 [==============================] - 45s 10ms/step - loss: 5.4514e-09 - accuracy: 1.0000 - val_loss: 5.3242e-09 - val_accuracy: 1.0000\n",
      "Epoch 17/20\n",
      "4500/4500 [==============================] - 45s 10ms/step - loss: 5.3659e-09 - accuracy: 1.0000 - val_loss: 5.2413e-09 - val_accuracy: 1.0000\n",
      "Epoch 18/20\n",
      "4500/4500 [==============================] - 45s 10ms/step - loss: 5.2931e-09 - accuracy: 1.0000 - val_loss: 5.2206e-09 - val_accuracy: 1.0000\n",
      "Epoch 19/20\n",
      "4500/4500 [==============================] - 44s 10ms/step - loss: 5.2578e-09 - accuracy: 1.0000 - val_loss: 5.1592e-09 - val_accuracy: 1.0000\n",
      "Epoch 20/20\n",
      "4500/4500 [==============================] - 44s 10ms/step - loss: 5.1934e-09 - accuracy: 1.0000 - val_loss: 5.0790e-09 - val_accuracy: 1.0000\n"
     ]
    }
   ],
   "source": [
    "# Train the model and save the training history\n",
    "history = model.fit(train_pad_trunc_seq, \n",
    "                    train_labels, \n",
    "                    epochs=20, \n",
    "                    validation_data=(val_pad_trunc_seq, val_labels))"
   ]
  },
  {
   "cell_type": "markdown",
   "id": "local-headquarters",
   "metadata": {
    "id": "local-headquarters"
   },
   "source": [
    "**To pass this assignment your `val_loss` (validation loss) should either be flat or decreasing.** \n",
    "\n",
    "Although a flat `val_loss` and a lowering `train_loss` (or just `loss`) also indicate some overfitting what you really want to avoid is having a lowering `train_loss` and an increasing `val_loss`.\n",
    "\n",
    "With this in mind, the following three curves will be acceptable solutions:"
   ]
  },
  {
   "cell_type": "markdown",
   "id": "single-studio",
   "metadata": {
    "id": "single-studio"
   },
   "source": [
    "<table><tr><td><img src='images/valid-1.png'></td><td><img src='images/valid-2.jpg'></td><td><img src='images/valid-3.jpg'></td></tr></table>"
   ]
  },
  {
   "cell_type": "markdown",
   "id": "eligible-unknown",
   "metadata": {
    "id": "eligible-unknown"
   },
   "source": [
    "While the following would not be able to pass the grading:"
   ]
  },
  {
   "cell_type": "markdown",
   "id": "productive-slave",
   "metadata": {
    "id": "productive-slave"
   },
   "source": [
    "<table><tr><td><img src='images/invalid-1.jpg'></td></tr></table>"
   ]
  },
  {
   "cell_type": "markdown",
   "id": "helpful-tractor",
   "metadata": {
    "id": "helpful-tractor"
   },
   "source": [
    "Run the following cell to check your loss curves:"
   ]
  },
  {
   "cell_type": "code",
   "execution_count": 29,
   "id": "golden-stretch",
   "metadata": {
    "colab": {
     "base_uri": "https://localhost:8080/",
     "height": 295
    },
    "executionInfo": {
     "elapsed": 20,
     "status": "ok",
     "timestamp": 1664869137274,
     "user": {
      "displayName": "Nuttasit Phasukdee",
      "userId": "18189687788475661690"
     },
     "user_tz": -420
    },
    "id": "golden-stretch",
    "outputId": "68479926-4066-4a02-8e36-92b21a20e15a",
    "tags": [
     "graded"
    ]
   },
   "outputs": [
    {
     "data": {
      "image/png": "[encoded data removed]",
      "text/plain": [
       "<Figure size 640x480 with 1 Axes>"
      ]
     },
     "metadata": {},
     "output_type": "display_data"
    }
   ],
   "source": [
    "#-----------------------------------------------------------\n",
    "# Retrieve a list of list results on training and test data\n",
    "# sets for each training epoch\n",
    "#-----------------------------------------------------------\n",
    "loss = history.history['loss']\n",
    "val_loss = history.history['val_loss']\n",
    "\n",
    "epochs = [*range(20)]\n",
    "\n",
    "#------------------------------------------------\n",
    "# Plot training and validation loss per epoch\n",
    "#------------------------------------------------\n",
    "plt.plot(epochs, loss, 'r')\n",
    "plt.plot(epochs, val_loss, 'b')\n",
    "plt.title('Training and validation loss')\n",
    "plt.xlabel(\"Epochs\")\n",
    "plt.ylabel(\"Loss\")\n",
    "plt.legend([\"Loss\", \"Validation Loss\"])\n",
    "plt.show()"
   ]
  },
  {
   "cell_type": "markdown",
   "id": "simplified-jacob",
   "metadata": {
    "id": "simplified-jacob"
   },
   "source": [
    "If you wish so, you can also check the training and validation accuracies of your model:"
   ]
  },
  {
   "cell_type": "code",
   "execution_count": 30,
   "id": "controlling-climb",
   "metadata": {
    "colab": {
     "base_uri": "https://localhost:8080/",
     "height": 295
    },
    "executionInfo": {
     "elapsed": 20,
     "status": "ok",
     "timestamp": 1664869137278,
     "user": {
      "displayName": "Nuttasit Phasukdee",
      "userId": "18189687788475661690"
     },
     "user_tz": -420
    },
    "id": "controlling-climb",
    "outputId": "b3fdcb27-65ef-47b0-e4bf-13f0154ab949",
    "tags": [
     "graded"
    ]
   },
   "outputs": [
    {
     "data": {
      "image/png": "[encoded data removed]",
      "text/plain": [
       "<Figure size 640x480 with 1 Axes>"
      ]
     },
     "metadata": {},
     "output_type": "display_data"
    }
   ],
   "source": [
    "acc = history.history['accuracy']\n",
    "val_acc = history.history['val_accuracy']\n",
    "\n",
    "#------------------------------------------------\n",
    "# Plot training and validation accuracy per epoch\n",
    "#------------------------------------------------\n",
    "plt.plot(epochs, acc, 'r')\n",
    "plt.plot(epochs, val_acc, 'b')\n",
    "plt.title('Training and validation accuracy')\n",
    "plt.xlabel(\"Epochs\")\n",
    "plt.ylabel(\"Accuracy\")\n",
    "plt.legend([\"Accuracy\", \"Validation Accuracy\"])\n",
    "plt.show()"
   ]
  },
  {
   "cell_type": "markdown",
   "id": "attempted-needle",
   "metadata": {
    "id": "attempted-needle"
   },
   "source": [
    "A more rigorous way of setting the passing threshold of this assignment is to use the slope of your `val_loss` curve.\n",
    "\n",
    "**To pass this assignment the slope of your `val_loss` curve should be 0.0005 at maximum.**"
   ]
  },
  {
   "cell_type": "code",
   "execution_count": 31,
   "id": "constant-cursor",
   "metadata": {
    "colab": {
     "base_uri": "https://localhost:8080/"
    },
    "executionInfo": {
     "elapsed": 20,
     "status": "ok",
     "timestamp": 1664869137279,
     "user": {
      "displayName": "Nuttasit Phasukdee",
      "userId": "18189687788475661690"
     },
     "user_tz": -420
    },
    "id": "constant-cursor",
    "outputId": "63aa99dd-64c9-46dc-a4ed-11f400a94898",
    "tags": [
     "graded"
    ]
   },
   "outputs": [
    {
     "name": "stdout",
     "output_type": "stream",
     "text": [
      "The slope of your validation loss curve is -0.00000\n"
     ]
    }
   ],
   "source": [
    "# Test the slope of your val_loss curve\n",
    "slope, *_ = linregress(epochs, val_loss)\n",
    "print(f\"The slope of your validation loss curve is {slope:.5f}\")"
   ]
  },
  {
   "cell_type": "markdown",
   "id": "touched-sharing",
   "metadata": {
    "id": "touched-sharing"
   },
   "source": [
    "**If your model generated a validation loss curve that meets the criteria above, run the following cell and then submit your assignment for grading. Otherwise, try with a different architecture.**"
   ]
  },
  {
   "cell_type": "code",
   "execution_count": 32,
   "id": "flexible-gravity",
   "metadata": {
    "executionInfo": {
     "elapsed": 16,
     "status": "ok",
     "timestamp": 1664869137279,
     "user": {
      "displayName": "Nuttasit Phasukdee",
      "userId": "18189687788475661690"
     },
     "user_tz": -420
    },
    "id": "flexible-gravity",
    "tags": [
     "graded"
    ]
   },
   "outputs": [],
   "source": [
    "# with open('history.pkl', 'wb') as f:\n",
    "#     pickle.dump(history.history, f)"
   ]
  },
  {
   "cell_type": "markdown",
   "id": "junior-triumph",
   "metadata": {
    "id": "junior-triumph"
   },
   "source": [
    "**Congratulations on finishing this week's assignment!**\n",
    "\n",
    "You have successfully implemented a neural network capable of classifying sentiment in text data while doing a fairly good job of not overfitting! Nice job!\n",
    "\n",
    "**Keep it up!**"
   ]
  }
 ],
 "metadata": {
  "accelerator": "GPU",
  "colab": {
   "collapsed_sections": [],
   "provenance": []
  },
  "gpuClass": "standard",
  "kernelspec": {
   "display_name": "Python 3 (ipykernel)",
   "language": "python",
   "name": "python3"
  },
  "language_info": {
   "codemirror_mode": {
    "name": "ipython",
    "version": 3
   },
   "file_extension": ".py",
   "mimetype": "text/x-python",
   "name": "python",
   "nbconvert_exporter": "python",
   "pygments_lexer": "ipython3",
   "version": "3.8.13"
  }
 },
 "nbformat": 4,
 "nbformat_minor": 5
}
